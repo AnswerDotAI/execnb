{
 "cells": [
  {
   "cell_type": "code",
   "execution_count": null,
   "id": "ac8de6d4",
   "metadata": {},
   "outputs": [],
   "source": [
    "import matplotlib.pyplot as plt\n",
    "plt.figure(figsize=(1,1))\n",
    "plt.plot([1,2])"
   ]
  },
  {
   "cell_type": "code",
   "execution_count": null,
   "id": "b123d6d0",
   "metadata": {},
   "outputs": [],
   "source": [
    "print(1)\n",
    "2"
   ]
  },
  {
   "cell_type": "code",
   "execution_count": null,
   "id": "38ab158d",
   "metadata": {},
   "outputs": [],
   "source": [
    "from IPython.display import Markdown\n",
    "Markdown(\"This is *bold*. Here's a [link](https://www.fast.ai).\")"
   ]
  },
  {
   "cell_type": "code",
   "execution_count": null,
   "id": "0a5964a8",
   "metadata": {},
   "outputs": [],
   "source": [
    "raise Exception"
   ]
  }
 ],
 "metadata": {
  "kernelspec": {
   "display_name": "Python 3 (ipykernel)",
   "language": "python",
   "name": "python3"
  }
 },
 "nbformat": 4,
 "nbformat_minor": 5
}
