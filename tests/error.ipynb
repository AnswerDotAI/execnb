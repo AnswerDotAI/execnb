{
 "cells": [
  {
   "cell_type": "code",
   "execution_count": null,
   "id": "c2ce6772-1ff0-4c56-a3b2-3dbf23d96757",
   "metadata": {},
   "outputs": [],
   "source": [
    "from err import foo"
   ]
  },
  {
   "cell_type": "code",
   "execution_count": null,
   "id": "9af5d805-c478-4e17-8be5-374d6f1d9ac4",
   "metadata": {},
   "outputs": [],
   "source": [
    "# some comments\n",
    "print('hello')\n",
    "foo()"
   ]
  }
 ],
 "metadata": {
  "kernelspec": {
   "display_name": "Python 3 (ipykernel)",
   "language": "python",
   "name": "python3"
  },
  "language_info": {
   "codemirror_mode": {
    "name": "ipython",
    "version": 3
   },
   "file_extension": ".py",
   "mimetype": "text/x-python",
   "name": "python",
   "nbconvert_exporter": "python",
   "pygments_lexer": "ipython3",
   "version": "3.9.7"
  }
 },
 "nbformat": 4,
 "nbformat_minor": 5
}
