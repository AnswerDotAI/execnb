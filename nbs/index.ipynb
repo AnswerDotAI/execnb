{
 "cells": [
  {
   "cell_type": "code",
   "execution_count": null,
   "metadata": {},
   "outputs": [],
   "source": [
    "#|hide\n",
    "from execnb.nbio import *\n",
    "from execnb.shell import *\n",
    "from fastcore.utils import *"
   ]
  },
  {
   "cell_type": "markdown",
   "metadata": {},
   "source": [
    "[![CI](https://github.com/fastai/execnb/actions/workflows/test.yaml/badge.svg)](https://github.com/fastai/execnb/actions/workflows/test.yaml) [![Deploy to GitHub Pages](https://github.com/fastai/execnb/actions/workflows/deploy.yaml/badge.svg)](https://github.com/fastai/execnb/actions/workflows/deploy.yaml)"
   ]
  },
  {
   "cell_type": "markdown",
   "metadata": {},
   "source": [
    "# execnb\n",
    "\n",
    "> Execute a jupyter notebook, fast, without needing jupyter"
   ]
  },
  {
   "cell_type": "markdown",
   "metadata": {},
   "source": [
    "## Install"
   ]
  },
  {
   "cell_type": "markdown",
   "metadata": {},
   "source": [
    "Either:\n",
    "\n",
    "    pip install execnb\n",
    "\n",
    "or if you use conda:\n",
    "\n",
    "    conda install -c fastai execnb\n",
    "\n",
    "(You can replace `conda` with `mamba` in the line above if you have mamba installed.)"
   ]
  },
  {
   "cell_type": "markdown",
   "metadata": {},
   "source": [
    "## How to use"
   ]
  },
  {
   "cell_type": "markdown",
   "metadata": {},
   "source": [
    "Use `CaptureShell` to run Jupyter code and capture notebook outputs, without running a Jupyter server (or even having it installed):"
   ]
  },
  {
   "cell_type": "code",
   "execution_count": null,
   "metadata": {},
   "outputs": [
    {
     "data": {
      "text/plain": [
       "[{'data': {'text/plain': ['2']},\n",
       "  'metadata': {},\n",
       "  'output_type': 'execute_result',\n",
       "  'execution_count': 1}]"
      ]
     },
     "execution_count": null,
     "metadata": {},
     "output_type": "execute_result"
    }
   ],
   "source": [
    "s = CaptureShell()\n",
    "s.run('1+1')"
   ]
  },
  {
   "cell_type": "markdown",
   "metadata": {},
   "source": [
    "To execute a notebook and save it with outputs filled in, use `execute`:"
   ]
  },
  {
   "cell_type": "code",
   "execution_count": null,
   "metadata": {},
   "outputs": [
    {
     "name": "stdout",
     "output_type": "stream",
     "text": [
      "[{'data': {'text/plain': ['2']}, 'execution_count': 6, 'metadata': {}, 'output_type': 'execute_result'}, {'name': 'stdout', 'output_type': 'stream', 'text': ['1']}]\n"
     ]
    }
   ],
   "source": [
    "try:\n",
    "    s.execute('../tests/clean.ipynb', 'tmp.ipynb')\n",
    "    print(read_nb('tmp.ipynb').cells[1].outputs)\n",
    "finally: Path('tmp.ipynb').unlink()"
   ]
  }
 ],
 "metadata": {
  "kernelspec": {
   "display_name": "Python 3 (ipykernel)",
   "language": "python",
   "name": "python3"
  }
 },
 "nbformat": 4,
 "nbformat_minor": 4
}
