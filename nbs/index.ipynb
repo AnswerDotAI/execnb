{
 "cells": [
  {
   "cell_type": "markdown",
   "metadata": {},
   "source": [
    "[![CI](https://github.com/fastai/execnb/actions/workflows/test.yaml/badge.svg)](https://github.com/fastai/execnb/actions/workflows/test.yaml) [![Deploy to GitHub Pages](https://github.com/fastai/execnb/actions/workflows/deploy.yaml/badge.svg)](https://github.com/fastai/execnb/actions/workflows/deploy.yaml)"
   ]
  },
  {
   "cell_type": "markdown",
   "metadata": {},
   "source": [
    "# execnb\n",
    "\n",
    "> Execute a jupyter notebook, fast, without needing jupyter"
   ]
  },
  {
   "cell_type": "markdown",
   "metadata": {},
   "source": [
    "## Install"
   ]
  },
  {
   "cell_type": "markdown",
   "metadata": {},
   "source": [
    "Either:\n",
    "\n",
    "    pip install execnb\n",
    "\n",
    "or if you use conda:\n",
    "\n",
    "    conda install -c fastai execnb\n",
    "\n",
    "(You can replace `conda` with `mamba` in the line above if you have mamba installed.)"
   ]
  },
  {
   "cell_type": "markdown",
   "metadata": {},
   "source": [
    "## How to use"
   ]
  },
  {
   "cell_type": "markdown",
   "metadata": {},
   "source": [
    "Use `CaptureShell` to run Jupyter code and capture notebook outputs, without running a Jupyter server (or even having it installed):"
   ]
  },
  {
   "cell_type": "code",
   "execution_count": null,
   "metadata": {},
   "outputs": [],
   "source": [
    "from execnb.nbio import *\n",
    "from execnb.shell import *\n",
    "from fastcore.utils import *"
   ]
  },
  {
   "cell_type": "code",
   "execution_count": null,
   "metadata": {},
   "outputs": [
    {
     "data": {
      "text/plain": [
       "[{'data': {'text/plain': ['2']},\n",
       "  'metadata': {},\n",
       "  'output_type': 'execute_result',\n",
       "  'execution_count': None}]"
      ]
     },
     "execution_count": null,
     "metadata": {},
     "output_type": "execute_result"
    }
   ],
   "source": [
    "s = CaptureShell()\n",
    "s.run('1+1')"
   ]
  },
  {
   "cell_type": "markdown",
   "metadata": {},
   "source": [
    "To execute a notebook and save it with outputs filled in, use `CaptureShell.execute`:"
   ]
  },
  {
   "cell_type": "code",
   "execution_count": null,
   "metadata": {},
   "outputs": [
    {
     "name": "stdout",
     "output_type": "stream",
     "text": [
      "[{'name': 'stdout', 'output_type': 'stream', 'text': ['1\\n']}, {'data': {'text/plain': ['2']}, 'execution_count': None, 'metadata': {}, 'output_type': 'execute_result'}]\n"
     ]
    }
   ],
   "source": [
    "try:\n",
    "    s.execute('../tests/clean.ipynb', 'tmp.ipynb')\n",
    "    print(read_nb('tmp.ipynb').cells[1].outputs)\n",
    "finally: Path('tmp.ipynb').unlink()"
   ]
  },
  {
   "cell_type": "markdown",
   "metadata": {},
   "source": [
    "You can also execute notebooks from the command line with `exec_nb`:"
   ]
  },
  {
   "cell_type": "code",
   "execution_count": null,
   "metadata": {},
   "outputs": [
    {
     "name": "stdout",
     "output_type": "stream",
     "text": [
      "usage: exec_nb [-h] [--dest DEST] [--exc_stop] [--inject_code INJECT_CODE]\n",
      "               [--inject_path INJECT_PATH] [--inject_idx INJECT_IDX] [--verbose]\n",
      "               src\n",
      "\n",
      "Execute notebook from `src` and save with outputs to `dest`\n",
      "\n",
      "positional arguments:\n",
      "  src                        Notebook path to read from\n",
      "\n",
      "options:\n",
      "  -h, --help                 show this help message and exit\n",
      "  --dest DEST                Notebook path to write to (default: )\n",
      "  --exc_stop                 Stop on exceptions? (default: False)\n",
      "  --inject_code INJECT_CODE  Code to inject into a cell\n",
      "  --inject_path INJECT_PATH  Path to file containing code to inject into a cell\n",
      "  --inject_idx INJECT_IDX    Cell to replace with `inject_code` (default: 0)\n",
      "  --verbose                  Show stdout/stderr during execution (default:\n",
      "                             False)\n"
     ]
    }
   ],
   "source": [
    "!exec_nb --help"
   ]
  }
 ],
 "metadata": {
  "kernelspec": {
   "display_name": "python3",
   "language": "python",
   "name": "python3"
  }
 },
 "nbformat": 4,
 "nbformat_minor": 4
}
