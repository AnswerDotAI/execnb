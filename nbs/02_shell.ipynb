{
 "cells": [
  {
   "cell_type": "code",
   "execution_count": null,
   "metadata": {},
   "outputs": [],
   "source": [
    "#|hide\n",
    "#|default_exp shell"
   ]
  },
  {
   "cell_type": "markdown",
   "metadata": {},
   "source": [
    "# shell\n",
    "\n",
    "> A shell for running notebook code without a notebook server"
   ]
  },
  {
   "cell_type": "code",
   "execution_count": null,
   "metadata": {},
   "outputs": [],
   "source": [
    "#|export\n",
    "from __future__ import annotations\n",
    "\n",
    "from fastcore.utils import *\n",
    "from fastcore.script import call_parse\n",
    "\n",
    "import multiprocessing,types,traceback\n",
    "try:\n",
    "    if sys.platform == 'darwin': multiprocessing.set_start_method(\"fork\")\n",
    "except RuntimeError: pass # if re-running cell\n",
    "\n",
    "from IPython.core.interactiveshell import InteractiveShell, ExecutionInfo, ExecutionResult\n",
    "from IPython.core.displayhook import DisplayHook\n",
    "from IPython.utils.capture import capture_output\n",
    "from IPython.utils.text import strip_ansi\n",
    "from IPython.core.completer import IPCompleter,provisionalcompleter\n",
    "from IPython.core.hooks import CommandChainDispatcher\n",
    "from IPython.core.completerlib import module_completer\n",
    "from IPython.utils.strdispatch import StrDispatch\n",
    "from IPython.display import display as disp, HTML\n",
    "\n",
    "from base64 import b64encode\n",
    "from html import escape\n",
    "try: from matplotlib_inline.backend_inline import set_matplotlib_formats\n",
    "except ImportError: set_matplotlib_formats = None\n",
    "\n",
    "from execnb.nbio import *\n",
    "from execnb.nbio import _dict2obj"
   ]
  },
  {
   "cell_type": "code",
   "execution_count": null,
   "metadata": {},
   "outputs": [],
   "source": [
    "from fastcore.test import *\n",
    "from base64 import b64decode\n",
    "from io import BytesIO\n",
    "from PIL import Image"
   ]
  },
  {
   "cell_type": "markdown",
   "metadata": {},
   "source": [
    "## CaptureShell -"
   ]
  },
  {
   "cell_type": "code",
   "execution_count": null,
   "metadata": {},
   "outputs": [],
   "source": [
    "#|export\n",
    "class _CustDisplayHook(DisplayHook):\n",
    "    def write_output_prompt(self): pass\n",
    "    def write_format_data(self, data, md_dict): pass\n",
    "    def log_output(self, format_dict): pass\n",
    "\n",
    "@patch\n",
    "def __repr__(self: ExecutionInfo): return f'cell: {self.raw_cell}; id: {self.cell_id}'\n",
    "\n",
    "@patch\n",
    "def __repr__(self: ExecutionResult): return f'result: {self.result}; err: {self.error_in_exec}; info: <{self.info}>'"
   ]
  },
  {
   "cell_type": "code",
   "execution_count": null,
   "metadata": {},
   "outputs": [],
   "source": [
    "#|export\n",
    "class CaptureShell(InteractiveShell):\n",
    "    displayhook_class = _CustDisplayHook\n",
    "\n",
    "    def __init__(self, path:str|Path=None, mpl_format='retina'):\n",
    "        super().__init__()\n",
    "        self.result,self.exc = None,None\n",
    "        if path: self.set_path(path)\n",
    "        self.display_formatter.active = True\n",
    "        if not IN_NOTEBOOK: InteractiveShell._instance = self\n",
    "        if set_matplotlib_formats:\n",
    "            self.run_cell(\"from matplotlib_inline.backend_inline import set_matplotlib_formats\")\n",
    "            self.run_cell(f\"set_matplotlib_formats('{mpl_format}')\")\n",
    "            self.run_cell('%matplotlib inline')\n",
    "\n",
    "    def run_cell(self, raw_cell, store_history=False, silent=False, shell_futures=True, cell_id=None,\n",
    "                 stdout=True, stderr=True, display=True):\n",
    "        # TODO what if there's a comment?\n",
    "        semic = raw_cell.rstrip().endswith(';')\n",
    "        with capture_output(display=display, stdout=stdout, stderr=stderr) as c:\n",
    "            result = super().run_cell(raw_cell, store_history, silent, shell_futures=shell_futures, cell_id=cell_id)\n",
    "        return AttrDict(result=result, stdout='' if semic else c.stdout, stderr=c.stderr,\n",
    "                        display_objects=c.outputs, exception=result.error_in_exec, quiet=semic)\n",
    "    \n",
    "    def set_path(self, path):\n",
    "        \"Add `path` to python path, or `path.parent` if it's a file\"\n",
    "        path = Path(path)\n",
    "        if path.is_file(): path = path.parent\n",
    "        self.run_cell(f\"import sys; sys.path.insert(0, '{path.as_posix()}')\")"
   ]
  },
  {
   "cell_type": "code",
   "execution_count": null,
   "metadata": {},
   "outputs": [],
   "source": [
    "s = CaptureShell(mpl_format='retina')"
   ]
  },
  {
   "cell_type": "code",
   "execution_count": null,
   "metadata": {},
   "outputs": [],
   "source": [
    "s.run_cell('a=1');"
   ]
  },
  {
   "cell_type": "code",
   "execution_count": null,
   "metadata": {},
   "outputs": [
    {
     "data": {
      "text/markdown": [
       "```json\n",
       "{ 'display_objects': [],\n",
       "  'exception': None,\n",
       "  'quiet': False,\n",
       "  'result': result: None; err: None; info: <cell: print(a); id: None>,\n",
       "  'stderr': '',\n",
       "  'stdout': '1\\n'}\n",
       "```"
      ],
      "text/plain": [
       "{'result': result: None; err: None; info: <cell: print(a); id: None>,\n",
       " 'stdout': '1\\n',\n",
       " 'stderr': '',\n",
       " 'display_objects': [],\n",
       " 'exception': None,\n",
       " 'quiet': False}"
      ]
     },
     "execution_count": null,
     "metadata": {},
     "output_type": "execute_result"
    }
   ],
   "source": [
    "o = s.run_cell('print(a)')\n",
    "o"
   ]
  },
  {
   "cell_type": "code",
   "execution_count": null,
   "metadata": {},
   "outputs": [
    {
     "data": {
      "text/markdown": [
       "```json\n",
       "{ 'display_objects': [],\n",
       "  'exception': None,\n",
       "  'quiet': False,\n",
       "  'result': result: None; err: None; info: <cell: from warnings import warn; warn(\"1\"); id: None>,\n",
       "  'stderr': '<ipython-input-1-a51443ae013a>:1: UserWarning: 1\\n'\n",
       "            '  from warnings import warn; warn(\"1\")\\n',\n",
       "  'stdout': ''}\n",
       "```"
      ],
      "text/plain": [
       "{'result': result: None; err: None; info: <cell: from warnings import warn; warn(\"1\"); id: None>,\n",
       " 'stdout': '',\n",
       " 'stderr': '<ipython-input-1-a51443ae013a>:1: UserWarning: 1\\n  from warnings import warn; warn(\"1\")\\n',\n",
       " 'display_objects': [],\n",
       " 'exception': None,\n",
       " 'quiet': False}"
      ]
     },
     "execution_count": null,
     "metadata": {},
     "output_type": "execute_result"
    }
   ],
   "source": [
    "o = s.run_cell('from warnings import warn; warn(\"1\")')\n",
    "o"
   ]
  },
  {
   "cell_type": "code",
   "execution_count": null,
   "metadata": {},
   "outputs": [
    {
     "data": {
      "text/markdown": [
       "```json\n",
       "{ 'display_objects': [],\n",
       "  'exception': None,\n",
       "  'quiet': False,\n",
       "  'result': result: 1; err: None; info: <cell: 1; id: None>,\n",
       "  'stderr': '',\n",
       "  'stdout': ''}\n",
       "```"
      ],
      "text/plain": [
       "{'result': result: 1; err: None; info: <cell: 1; id: None>,\n",
       " 'stdout': '',\n",
       " 'stderr': '',\n",
       " 'display_objects': [],\n",
       " 'exception': None,\n",
       " 'quiet': False}"
      ]
     },
     "execution_count": null,
     "metadata": {},
     "output_type": "execute_result"
    }
   ],
   "source": [
    "o = s.run_cell('1')\n",
    "o"
   ]
  },
  {
   "cell_type": "code",
   "execution_count": null,
   "metadata": {},
   "outputs": [
    {
     "data": {
      "text/markdown": [
       "```json\n",
       "{ 'display_objects': [<IPython.utils.capture.RichOutput object>],\n",
       "  'exception': None,\n",
       "  'quiet': False,\n",
       "  'result': result: <IPython.core.display.Markdown object>; err: None; info: <cell: from IPython.display import Markdown,display; print(0); display(Markdown(\"*2*\")); Markdown(\"*1*\"); id: None>,\n",
       "  'stderr': '',\n",
       "  'stdout': '0\\n'}\n",
       "```"
      ],
      "text/plain": [
       "{'result': result: <IPython.core.display.Markdown object>; err: None; info: <cell: from IPython.display import Markdown,display; print(0); display(Markdown(\"*2*\")); Markdown(\"*1*\"); id: None>,\n",
       " 'stdout': '0\\n',\n",
       " 'stderr': '',\n",
       " 'display_objects': [<IPython.utils.capture.RichOutput>],\n",
       " 'exception': None,\n",
       " 'quiet': False}"
      ]
     },
     "execution_count": null,
     "metadata": {},
     "output_type": "execute_result"
    }
   ],
   "source": [
    "o = s.run_cell('from IPython.display import Markdown,display; print(0); display(Markdown(\"*2*\")); Markdown(\"*1*\")')\n",
    "o"
   ]
  },
  {
   "cell_type": "code",
   "execution_count": null,
   "metadata": {},
   "outputs": [
    {
     "data": {
      "text/markdown": [
       "*1*"
      ],
      "text/plain": [
       "<IPython.core.display.Markdown object>"
      ]
     },
     "execution_count": null,
     "metadata": {},
     "output_type": "execute_result"
    }
   ],
   "source": [
    "o.result.result"
   ]
  },
  {
   "cell_type": "code",
   "execution_count": null,
   "metadata": {},
   "outputs": [
    {
     "data": {
      "text/markdown": [
       "*2*"
      ],
      "text/plain": [
       "<IPython.core.display.Markdown object>"
      ]
     },
     "execution_count": null,
     "metadata": {},
     "output_type": "execute_result"
    }
   ],
   "source": [
    "o.display_objects[0]"
   ]
  },
  {
   "cell_type": "code",
   "execution_count": null,
   "metadata": {},
   "outputs": [
    {
     "data": {
      "text/markdown": [
       "```json\n",
       "{ 'display_objects': [],\n",
       "  'exception': None,\n",
       "  'quiet': True,\n",
       "  'result': result: 1; err: None; info: <cell: 1;; id: None>,\n",
       "  'stderr': '',\n",
       "  'stdout': ''}\n",
       "```"
      ],
      "text/plain": [
       "{'result': result: 1; err: None; info: <cell: 1;; id: None>,\n",
       " 'stdout': '',\n",
       " 'stderr': '',\n",
       " 'display_objects': [],\n",
       " 'exception': None,\n",
       " 'quiet': True}"
      ]
     },
     "execution_count": null,
     "metadata": {},
     "output_type": "execute_result"
    }
   ],
   "source": [
    "o = s.run_cell('1;')\n",
    "o"
   ]
  },
  {
   "cell_type": "code",
   "execution_count": null,
   "metadata": {},
   "outputs": [
    {
     "data": {
      "text/markdown": [
       "```json\n",
       "{ 'display_objects': [<IPython.utils.capture.RichOutput object>],\n",
       "  'exception': None,\n",
       "  'quiet': False,\n",
       "  'result': result: [<matplotlib.lines.Line2D object>]; err: None; info: <cell: import matplotlib.pyplot as plt; plt.plot([1,2,3]); id: None>,\n",
       "  'stderr': '',\n",
       "  'stdout': ''}\n",
       "```"
      ],
      "text/plain": [
       "{'result': result: [<matplotlib.lines.Line2D object>]; err: None; info: <cell: import matplotlib.pyplot as plt; plt.plot([1,2,3]); id: None>,\n",
       " 'stdout': '',\n",
       " 'stderr': '',\n",
       " 'display_objects': [<IPython.utils.capture.RichOutput>],\n",
       " 'exception': None,\n",
       " 'quiet': False}"
      ]
     },
     "execution_count": null,
     "metadata": {},
     "output_type": "execute_result"
    }
   ],
   "source": [
    "o = s.run_cell('import matplotlib.pyplot as plt; plt.plot([1,2,3])')\n",
    "o"
   ]
  },
  {
   "cell_type": "code",
   "execution_count": null,
   "metadata": {},
   "outputs": [
    {
     "data": {
      "image/png": "[encoded data removed]",
      "text/plain": [
       "<Figure size 640x480 with 1 Axes>"
      ]
     },
     "execution_count": null,
     "metadata": {
      "image/png": {
       "height": 413,
       "width": 556
      }
     },
     "output_type": "execute_result"
    }
   ],
   "source": [
    "o.display_objects[0]"
   ]
  },
  {
   "cell_type": "code",
   "execution_count": null,
   "metadata": {},
   "outputs": [
    {
     "data": {
      "text/markdown": [
       "```json\n",
       "{ 'display_objects': [],\n",
       "  'exception': None,\n",
       "  'quiet': False,\n",
       "  'result': result:    A  B\n",
       "0  1  3\n",
       "1  2  4; err: None; info: <cell: \n",
       "import pandas as pd\n",
       "pd.DataFrame({'A': [1, 2], 'B': [3, 4]}); id: None>,\n",
       "  'stderr': '',\n",
       "  'stdout': ''}\n",
       "```"
      ],
      "text/plain": [
       "{'result': result:    A  B\n",
       " 0  1  3\n",
       " 1  2  4; err: None; info: <cell: \n",
       " import pandas as pd\n",
       " pd.DataFrame({'A': [1, 2], 'B': [3, 4]}); id: None>,\n",
       " 'stdout': '',\n",
       " 'stderr': '',\n",
       " 'display_objects': [],\n",
       " 'exception': None,\n",
       " 'quiet': False}"
      ]
     },
     "execution_count": null,
     "metadata": {},
     "output_type": "execute_result"
    }
   ],
   "source": [
    "o = s.run_cell('''\n",
    "import pandas as pd\n",
    "pd.DataFrame({'A': [1, 2], 'B': [3, 4]})''')\n",
    "o"
   ]
  },
  {
   "cell_type": "code",
   "execution_count": null,
   "metadata": {},
   "outputs": [
    {
     "data": {
      "text/html": [
       "<div>\n",
       "<style scoped>\n",
       "    .dataframe tbody tr th:only-of-type {\n",
       "        vertical-align: middle;\n",
       "    }\n",
       "\n",
       "    .dataframe tbody tr th {\n",
       "        vertical-align: top;\n",
       "    }\n",
       "\n",
       "    .dataframe thead th {\n",
       "        text-align: right;\n",
       "    }\n",
       "</style>\n",
       "<table border=\"1\" class=\"dataframe\">\n",
       "  <thead>\n",
       "    <tr style=\"text-align: right;\">\n",
       "      <th></th>\n",
       "      <th>A</th>\n",
       "      <th>B</th>\n",
       "    </tr>\n",
       "  </thead>\n",
       "  <tbody>\n",
       "    <tr>\n",
       "      <th>0</th>\n",
       "      <td>1</td>\n",
       "      <td>3</td>\n",
       "    </tr>\n",
       "    <tr>\n",
       "      <th>1</th>\n",
       "      <td>2</td>\n",
       "      <td>4</td>\n",
       "    </tr>\n",
       "  </tbody>\n",
       "</table>\n",
       "</div>"
      ],
      "text/plain": [
       "   A  B\n",
       "0  1  3\n",
       "1  2  4"
      ]
     },
     "execution_count": null,
     "metadata": {},
     "output_type": "execute_result"
    }
   ],
   "source": [
    "o.result.result"
   ]
  },
  {
   "cell_type": "code",
   "execution_count": null,
   "metadata": {},
   "outputs": [
    {
     "data": {
      "text/markdown": [
       "```json\n",
       "{ 'display_objects': [],\n",
       "  'exception': ZeroDivisionError('division by zero'),\n",
       "  'quiet': False,\n",
       "  'result': result: None; err: division by zero; info: <cell: 1/0; id: None>,\n",
       "  'stderr': '',\n",
       "  'stdout': '\\x1b[0;31m---------------------------------------------------------------------------\\x1b[0m\\n'\n",
       "            '\\x1b[0;31mZeroDivisionError\\x1b[0m                         '\n",
       "            'Traceback (most recent call last)\\n'\n",
       "            'File \\x1b[0;32m<ipython-input-1-9e1622b385b6>:1\\x1b[0m\\n'\n",
       "            '\\x1b[0;32m----> 1\\x1b[0m '\n",
       "            '\\x1b[38;5;241m1\\x1b[39m\\x1b[38;5;241m/\\x1b[39m\\x1b[38;5;241m0\\x1b[39m\\n'\n",
       "            '\\n'\n",
       "            '\\x1b[0;31mZeroDivisionError\\x1b[0m: division by zero\\n'}\n",
       "```"
      ],
      "text/plain": [
       "{'result': result: None; err: division by zero; info: <cell: 1/0; id: None>,\n",
       " 'stdout': '\\x1b[0;31m---------------------------------------------------------------------------\\x1b[0m\\n\\x1b[0;31mZeroDivisionError\\x1b[0m                         Traceback (most recent call last)\\nFile \\x1b[0;32m<ipython-input-1-9e1622b385b6>:1\\x1b[0m\\n\\x1b[0;32m----> 1\\x1b[0m \\x1b[38;5;241m1\\x1b[39m\\x1b[38;5;241m/\\x1b[39m\\x1b[38;5;241m0\\x1b[39m\\n\\n\\x1b[0;31mZeroDivisionError\\x1b[0m: division by zero\\n',\n",
       " 'stderr': '',\n",
       " 'display_objects': [],\n",
       " 'exception': ZeroDivisionError('division by zero'),\n",
       " 'quiet': False}"
      ]
     },
     "execution_count": null,
     "metadata": {},
     "output_type": "execute_result"
    }
   ],
   "source": [
    "o = s.run_cell('1/0')\n",
    "o"
   ]
  },
  {
   "cell_type": "markdown",
   "metadata": {},
   "source": [
    "### Cells"
   ]
  },
  {
   "cell_type": "code",
   "execution_count": null,
   "metadata": {},
   "outputs": [],
   "source": [
    "#| export\n",
    "def format_exc(e):\n",
    "    \"Format exception `e` as a string\"\n",
    "    return ''.join(traceback.format_exception(type(e), e, e.__traceback__))"
   ]
  },
  {
   "cell_type": "code",
   "execution_count": null,
   "metadata": {},
   "outputs": [],
   "source": [
    "#|export\n",
    "def _out_stream(text, name): return dict(name=name, output_type='stream', text=text.splitlines(True))\n",
    "def _out_exc(e):\n",
    "    ename = type(e).__name__\n",
    "    tb = traceback.extract_tb(e.__traceback__)#.format()\n",
    "    return dict(ename=str(ename), evalue=str(e), output_type='error', traceback=format_exc(e))\n",
    "\n",
    "def _format_mimedata(k, v):\n",
    "    \"Format mime-type keyed data consistently with Jupyter\"\n",
    "    if k.startswith('text/'): return v.splitlines(True)\n",
    "    if k.startswith('image/') and isinstance(v, bytes):\n",
    "        v = b64encode(v).decode()\n",
    "        return v+'\\n' if not v.endswith('\\n') else v\n",
    "    return v\n",
    "\n",
    "def _mk_out(data, meta, output_type='display_data'):\n",
    "    fd = {k:_format_mimedata(k,v) for k,v in data.items()}\n",
    "    return dict(data=fd, metadata=meta, output_type=output_type)\n",
    "\n",
    "def _out_nb(o, fmt):\n",
    "    res = []\n",
    "    if o.stdout: res.append(_out_stream(o.stdout, 'stdout'))\n",
    "    if o.stderr: res.append(_out_stream(o.stderr, 'stderr'))\n",
    "    if o.exception: res.append(_out_exc(o.exception))\n",
    "    r = o.result.result\n",
    "    for x in o.display_objects: res.append(_mk_out(x.data, x.metadata))\n",
    "    if r is not None and not o.quiet:\n",
    "        res.append(_mk_out(*fmt.format(r), 'execute_result'))\n",
    "    return res"
   ]
  },
  {
   "cell_type": "code",
   "execution_count": null,
   "metadata": {},
   "outputs": [],
   "source": [
    "#|export\n",
    "@patch\n",
    "def run(self:CaptureShell,\n",
    "        code:str, # Python/IPython code to run\n",
    "        stdout=True, # Capture stdout and save as output?\n",
    "        stderr=True): # Capture stderr and save as output?\n",
    "    \"Run `code`, returning a list of all outputs in Jupyter notebook format\"\n",
    "    res = self.run_cell(code, stdout=stdout, stderr=stderr)\n",
    "    self.result = res.result.result\n",
    "    self.exc = res.exception\n",
    "    return _out_nb(res, self.display_formatter)"
   ]
  },
  {
   "cell_type": "code",
   "execution_count": null,
   "metadata": {},
   "outputs": [],
   "source": [
    "s = CaptureShell()"
   ]
  },
  {
   "cell_type": "code",
   "execution_count": null,
   "metadata": {},
   "outputs": [
    {
     "data": {
      "text/plain": [
       "[{'name': 'stdout', 'output_type': 'stream', 'text': ['1\\n']}]"
      ]
     },
     "execution_count": null,
     "metadata": {},
     "output_type": "execute_result"
    }
   ],
   "source": [
    "s.run(\"print(1)\")"
   ]
  },
  {
   "cell_type": "markdown",
   "metadata": {},
   "source": [
    "Code can include magics and `!` shell commands:"
   ]
  },
  {
   "cell_type": "code",
   "execution_count": null,
   "metadata": {},
   "outputs": [
    {
     "data": {
      "text/plain": [
       "[{'name': 'stdout',\n",
       "  'output_type': 'stream',\n",
       "  'text': ['CPU times: user 2 us, sys: 0 ns, total: 2 us\\n',\n",
       "   'Wall time: 3.81 us\\n']},\n",
       " {'data': {'text/plain': ['2']},\n",
       "  'metadata': {},\n",
       "  'output_type': 'execute_result'}]"
      ]
     },
     "execution_count": null,
     "metadata": {},
     "output_type": "execute_result"
    }
   ],
   "source": [
    "o = s.run(\"%time 1+1\")\n",
    "o"
   ]
  },
  {
   "cell_type": "code",
   "execution_count": null,
   "metadata": {},
   "outputs": [
    {
     "data": {
      "text/plain": [
       "[{'name': 'stdout',\n",
       "  'output_type': 'stream',\n",
       "  'text': ['\\x1b[0;31m---------------------------------------------------------------------------\\x1b[0m\\n',\n",
       "   '\\x1b[0;31mZeroDivisionError\\x1b[0m                         Traceback (most recent call last)\\n',\n",
       "   'File \\x1b[0;32m<ipython-input-1-9e1622b385b6>:1\\x1b[0m\\n',\n",
       "   '\\x1b[0;32m----> 1\\x1b[0m \\x1b[38;5;241m1\\x1b[39m\\x1b[38;5;241m/\\x1b[39m\\x1b[38;5;241m0\\x1b[39m\\n',\n",
       "   '\\n',\n",
       "   '\\x1b[0;31mZeroDivisionError\\x1b[0m: division by zero\\n']},\n",
       " {'ename': 'ZeroDivisionError',\n",
       "  'evalue': 'division by zero',\n",
       "  'output_type': 'error',\n",
       "  'traceback': 'Traceback (most recent call last):\\n  File \"/Users/jhoward/miniconda3/lib/python3.11/site-packages/IPython/core/interactiveshell.py\", line 3553, in run_code\\n    exec(code_obj, self.user_global_ns, self.user_ns)\\n  File \"<ipython-input-1-9e1622b385b6>\", line 1, in <module>\\n    1/0\\n    ~^~\\nZeroDivisionError: division by zero\\n'}]"
      ]
     },
     "execution_count": null,
     "metadata": {},
     "output_type": "execute_result"
    }
   ],
   "source": [
    "o = s.run(\"1/0\")\n",
    "o"
   ]
  },
  {
   "cell_type": "code",
   "execution_count": null,
   "metadata": {},
   "outputs": [],
   "source": [
    "#| export\n",
    "def render_outputs(outputs):\n",
    "    def render_output(out):\n",
    "        otype = out['output_type']\n",
    "        if otype == 'stream':\n",
    "            txt = strip_ansi(''.join(out['text']))\n",
    "            return f\"<pre>{txt}</pre>\" if out['name']=='stdout' else f\"<pre class='stderr'>{txt}</pre>\"\n",
    "        elif otype in ('display_data','execute_result'):\n",
    "            data = out['data']\n",
    "            _g = lambda t: ''.join(data[t]) if t in data else None\n",
    "            if d := _g('text/html'): return d\n",
    "            if d := _g('application/javascript'): return f'<script>{d}</script>'\n",
    "            if d := _g('text/markdown'): return markdown.markdown(d)\n",
    "            if d := _g('image/svg+xml'): return d\n",
    "            if d := _g('image/jpeg'): return f'<img src=\"data:image/jpeg;base64,{d}\"/>'\n",
    "            if d := _g('image/png'): return f'<img src=\"data:image/png;base64,{d}\"/>'\n",
    "            if d := _g('text/latex'): return f'<div class=\"math\">${d}$</div>'\n",
    "            if d := _g('text/plain'): return f\"<pre>{escape(d)}</pre>\"\n",
    "        return ''\n",
    "    \n",
    "    return '\\n'.join(map(render_output, outputs))"
   ]
  },
  {
   "cell_type": "code",
   "execution_count": null,
   "metadata": {},
   "outputs": [
    {
     "data": {
      "text/html": [
       "<pre>---------------------------------------------------------------------------\n",
       "ZeroDivisionError                         Traceback (most recent call last)\n",
       "File <ipython-input-1-9e1622b385b6>:1\n",
       "----> 1 1/0\n",
       "\n",
       "ZeroDivisionError: division by zero\n",
       "</pre>\n"
      ],
      "text/plain": [
       "<IPython.core.display.HTML object>"
      ]
     },
     "execution_count": null,
     "metadata": {},
     "output_type": "execute_result"
    }
   ],
   "source": [
    "HTML(render_outputs(o))"
   ]
  },
  {
   "cell_type": "markdown",
   "metadata": {},
   "source": [
    "The result of the last successful execution is stored in `result`:"
   ]
  },
  {
   "cell_type": "code",
   "execution_count": null,
   "metadata": {},
   "outputs": [
    {
     "data": {
      "text/plain": [
       "2"
      ]
     },
     "execution_count": null,
     "metadata": {},
     "output_type": "execute_result"
    }
   ],
   "source": [
    "s.result"
   ]
  },
  {
   "cell_type": "markdown",
   "metadata": {},
   "source": [
    "A trailing `;` stops the result from being captured:"
   ]
  },
  {
   "cell_type": "code",
   "execution_count": null,
   "metadata": {},
   "outputs": [
    {
     "data": {
      "text/plain": [
       "[]"
      ]
     },
     "execution_count": null,
     "metadata": {},
     "output_type": "execute_result"
    }
   ],
   "source": [
    "s.run(\"1+2;\")"
   ]
  },
  {
   "cell_type": "markdown",
   "metadata": {},
   "source": [
    "Images and matplotlib figures are captured:"
   ]
  },
  {
   "cell_type": "code",
   "execution_count": null,
   "metadata": {},
   "outputs": [
    {
     "data": {
      "text/html": [
       "<img src=\"data:image/png;base64,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\"/>"
      ],
      "text/plain": [
       "<IPython.core.display.HTML object>"
      ]
     },
     "execution_count": null,
     "metadata": {},
     "output_type": "execute_result"
    }
   ],
   "source": [
    "res = s.run('''import matplotlib.pyplot as plt\n",
    "plt.figure(figsize=(2,1))\n",
    "plt.plot([1,2,4]);''')\n",
    "\n",
    "HTML(render_outputs(res))"
   ]
  },
  {
   "cell_type": "markdown",
   "metadata": {},
   "source": [
    "If an exception is raised then the exception type, object, and stacktrace are stored in `exc`:"
   ]
  },
  {
   "cell_type": "code",
   "execution_count": null,
   "metadata": {},
   "outputs": [
    {
     "data": {
      "text/plain": [
       "[{'name': 'stdout',\n",
       "  'output_type': 'stream',\n",
       "  'text': ['\\x1b[0;31m---------------------------------------------------------------------------\\x1b[0m\\n',\n",
       "   '\\x1b[0;31mException\\x1b[0m                                 Traceback (most recent call last)\\n',\n",
       "   'File \\x1b[0;32m<ipython-input-1-01648acb07bd>:1\\x1b[0m\\n',\n",
       "   '\\x1b[0;32m----> 1\\x1b[0m \\x1b[38;5;28;01mraise\\x1b[39;00m \\x1b[38;5;167;01mException\\x1b[39;00m(\\x1b[38;5;124m\"\\x1b[39m\\x1b[38;5;124mOops\\x1b[39m\\x1b[38;5;124m\"\\x1b[39m)\\n',\n",
       "   '\\n',\n",
       "   '\\x1b[0;31mException\\x1b[0m: Oops\\n']},\n",
       " {'ename': 'Exception',\n",
       "  'evalue': 'Oops',\n",
       "  'output_type': 'error',\n",
       "  'traceback': 'Traceback (most recent call last):\\n  File \"/Users/jhoward/miniconda3/lib/python3.11/site-packages/IPython/core/interactiveshell.py\", line 3553, in run_code\\n    exec(code_obj, self.user_global_ns, self.user_ns)\\n  File \"<ipython-input-1-01648acb07bd>\", line 1, in <module>\\n    raise Exception(\"Oops\")\\nException: Oops\\n'}]"
      ]
     },
     "execution_count": null,
     "metadata": {},
     "output_type": "execute_result"
    }
   ],
   "source": [
    "o = s.run('raise Exception(\"Oops\")')\n",
    "o"
   ]
  },
  {
   "cell_type": "code",
   "execution_count": null,
   "metadata": {},
   "outputs": [
    {
     "data": {
      "text/plain": [
       "Exception('Oops')"
      ]
     },
     "execution_count": null,
     "metadata": {},
     "output_type": "execute_result"
    }
   ],
   "source": [
    "s.exc"
   ]
  },
  {
   "cell_type": "code",
   "execution_count": null,
   "metadata": {},
   "outputs": [],
   "source": [
    "#|export\n",
    "@patch\n",
    "def cell(self:CaptureShell, cell, stdout=True, stderr=True):\n",
    "    \"Run `cell`, skipping if not code, and store outputs back in cell\"\n",
    "    if cell.cell_type!='code': return\n",
    "    self._cell_idx = cell.idx_ + 1\n",
    "    outs = self.run(cell.source)\n",
    "    if outs:\n",
    "        cell.outputs = _dict2obj(outs)\n",
    "        for o in outs:\n",
    "            if 'execution_count' in o: cell['execution_count'] = o['execution_count']"
   ]
  },
  {
   "cell_type": "code",
   "execution_count": null,
   "metadata": {},
   "outputs": [
    {
     "data": {
      "text/markdown": [
       "```json\n",
       "{ 'cell_type': 'code',\n",
       "  'execution_count': None,\n",
       "  'id': 'b123d6d0',\n",
       "  'idx_': 1,\n",
       "  'metadata': {},\n",
       "  'outputs': [],\n",
       "  'source': 'print(1)\\n2'}\n",
       "```"
      ],
      "text/plain": [
       "{'cell_type': 'code',\n",
       " 'execution_count': None,\n",
       " 'id': 'b123d6d0',\n",
       " 'metadata': {},\n",
       " 'outputs': [],\n",
       " 'source': 'print(1)\\n2',\n",
       " 'idx_': 1}"
      ]
     },
     "execution_count": null,
     "metadata": {},
     "output_type": "execute_result"
    }
   ],
   "source": [
    "clean = Path('../tests/clean.ipynb')\n",
    "nb = read_nb(clean)\n",
    "c = nb.cells[1]\n",
    "c"
   ]
  },
  {
   "cell_type": "code",
   "execution_count": null,
   "metadata": {},
   "outputs": [
    {
     "data": {
      "text/plain": [
       "[{'name': 'stdout', 'output_type': 'stream', 'text': ['1\\n']},\n",
       " {'data': {'text/plain': ['2']},\n",
       "  'metadata': {},\n",
       "  'output_type': 'execute_result'}]"
      ]
     },
     "execution_count": null,
     "metadata": {},
     "output_type": "execute_result"
    }
   ],
   "source": [
    "s.cell(c)\n",
    "c.outputs"
   ]
  },
  {
   "cell_type": "code",
   "execution_count": null,
   "metadata": {},
   "outputs": [],
   "source": [
    "#| export\n",
    "def find_output(outp, # Output from `run`\n",
    "                ot='execute_result' # Output_type to find\n",
    "               ):\n",
    "    \"Find first output of type `ot` in `CaptureShell.run` output\"\n",
    "    return first(o for o in outp if o['output_type']==ot)"
   ]
  },
  {
   "cell_type": "code",
   "execution_count": null,
   "metadata": {},
   "outputs": [
    {
     "data": {
      "text/markdown": [
       "```json\n",
       "{'text/plain': ['2']}\n",
       "```"
      ],
      "text/plain": [
       "{'text/plain': ['2']}"
      ]
     },
     "execution_count": null,
     "metadata": {},
     "output_type": "execute_result"
    }
   ],
   "source": [
    "find_output(c.outputs)['data']"
   ]
  },
  {
   "cell_type": "code",
   "execution_count": null,
   "metadata": {},
   "outputs": [
    {
     "data": {
      "text/plain": [
       "['1\\n']"
      ]
     },
     "execution_count": null,
     "metadata": {},
     "output_type": "execute_result"
    }
   ],
   "source": [
    "find_output(c.outputs, 'stream')['text']"
   ]
  },
  {
   "cell_type": "code",
   "execution_count": null,
   "metadata": {},
   "outputs": [],
   "source": [
    "#| export\n",
    "def out_exec(outp):\n",
    "    \"Get data from execution result in `outp`.\"\n",
    "    out = find_output(outp)\n",
    "    if out: return '\\n'.join(first(out['data'].values()))"
   ]
  },
  {
   "cell_type": "code",
   "execution_count": null,
   "metadata": {},
   "outputs": [
    {
     "data": {
      "text/plain": [
       "'2'"
      ]
     },
     "execution_count": null,
     "metadata": {},
     "output_type": "execute_result"
    }
   ],
   "source": [
    "out_exec(c.outputs)"
   ]
  },
  {
   "cell_type": "code",
   "execution_count": null,
   "metadata": {},
   "outputs": [],
   "source": [
    "#| export\n",
    "def out_stream(outp):\n",
    "    \"Get text from stream in `outp`.\"\n",
    "    out = find_output(outp, 'stream')\n",
    "    if out: return ('\\n'.join(out['text'])).strip()"
   ]
  },
  {
   "cell_type": "code",
   "execution_count": null,
   "metadata": {},
   "outputs": [
    {
     "data": {
      "text/plain": [
       "'1'"
      ]
     },
     "execution_count": null,
     "metadata": {},
     "output_type": "execute_result"
    }
   ],
   "source": [
    "out_stream(c.outputs)"
   ]
  },
  {
   "cell_type": "code",
   "execution_count": null,
   "metadata": {},
   "outputs": [],
   "source": [
    "#| export\n",
    "def out_error(outp):\n",
    "    \"Get traceback from error in `outp`.\"\n",
    "    out = find_output(outp, 'error')\n",
    "    if out: return '\\n'.join(out['traceback'])"
   ]
  },
  {
   "cell_type": "markdown",
   "metadata": {},
   "source": [
    "### NBs -"
   ]
  },
  {
   "cell_type": "code",
   "execution_count": null,
   "metadata": {},
   "outputs": [],
   "source": [
    "#|export\n",
    "def _false(o): return False\n",
    "\n",
    "@patch\n",
    "def run_all(self:CaptureShell,\n",
    "            nb, # A notebook read with `nbclient` or `read_nb`\n",
    "            exc_stop:bool=False, # Stop on exceptions?\n",
    "            preproc:Callable=_false, # Called before each cell is executed\n",
    "            postproc:Callable=_false, # Called after each cell is executed\n",
    "            inject_code:str|None=None, # Code to inject into a cell\n",
    "            inject_idx:int=0 # Cell to replace with `inject_code`\n",
    "           ):\n",
    "    \"Run all cells in `nb`, stopping at first exception if `exc_stop`\"\n",
    "    if inject_code is not None: nb.cells[inject_idx].source = inject_code\n",
    "    for cell in nb.cells:\n",
    "        if not preproc(cell):\n",
    "            self.cell(cell)\n",
    "            postproc(cell)\n",
    "        if self.exc and exc_stop: raise self.exc from None"
   ]
  },
  {
   "cell_type": "code",
   "execution_count": null,
   "metadata": {},
   "outputs": [
    {
     "data": {
      "text/plain": [
       "[]"
      ]
     },
     "execution_count": null,
     "metadata": {},
     "output_type": "execute_result"
    }
   ],
   "source": [
    "nb.cells[2].outputs"
   ]
  },
  {
   "cell_type": "code",
   "execution_count": null,
   "metadata": {},
   "outputs": [
    {
     "data": {
      "text/plain": [
       "[{'data': {'text/plain': ['<IPython.core.display.Markdown object>'],\n",
       "   'text/markdown': [\"This is *bold*. Here's a [link](https://www.fast.ai).\"]},\n",
       "  'metadata': {},\n",
       "  'output_type': 'execute_result'}]"
      ]
     },
     "execution_count": null,
     "metadata": {},
     "output_type": "execute_result"
    }
   ],
   "source": [
    "s.run_all(nb)\n",
    "nb.cells[2].outputs"
   ]
  },
  {
   "cell_type": "markdown",
   "metadata": {},
   "source": [
    "With `exc_stop=False` (the default), execution continues after exceptions, and exception details are stored into the appropriate cell's output:"
   ]
  },
  {
   "cell_type": "code",
   "execution_count": null,
   "metadata": {},
   "outputs": [
    {
     "data": {
      "text/plain": [
       "'raise Exception(\"Oopsie!\")'"
      ]
     },
     "execution_count": null,
     "metadata": {},
     "output_type": "execute_result"
    }
   ],
   "source": [
    "nb.cells[-1].source"
   ]
  },
  {
   "cell_type": "code",
   "execution_count": null,
   "metadata": {},
   "outputs": [
    {
     "data": {
      "text/plain": [
       "[{'name': 'stdout',\n",
       "  'output_type': 'stream',\n",
       "  'text': ['\\x1b[0;31m---------------------------------------------------------------------------\\x1b[0m\\n',\n",
       "   '\\x1b[0;31mException\\x1b[0m                                 Traceback (most recent call last)\\n',\n",
       "   'File \\x1b[0;32m<ipython-input-1-1c97c1d317ab>:1\\x1b[0m\\n',\n",
       "   '\\x1b[0;32m----> 1\\x1b[0m \\x1b[38;5;28;01mraise\\x1b[39;00m \\x1b[38;5;167;01mException\\x1b[39;00m(\\x1b[38;5;124m\"\\x1b[39m\\x1b[38;5;124mOopsie!\\x1b[39m\\x1b[38;5;124m\"\\x1b[39m)\\n',\n",
       "   '\\n',\n",
       "   '\\x1b[0;31mException\\x1b[0m: Oopsie!\\n']},\n",
       " {'ename': 'Exception',\n",
       "  'evalue': 'Oopsie!',\n",
       "  'output_type': 'error',\n",
       "  'traceback': 'Traceback (most recent call last):\\n  File \"/Users/jhoward/miniconda3/lib/python3.11/site-packages/IPython/core/interactiveshell.py\", line 3553, in run_code\\n    exec(code_obj, self.user_global_ns, self.user_ns)\\n  File \"<ipython-input-1-1c97c1d317ab>\", line 1, in <module>\\n    raise Exception(\"Oopsie!\")\\nException: Oopsie!\\n'}]"
      ]
     },
     "execution_count": null,
     "metadata": {},
     "output_type": "execute_result"
    }
   ],
   "source": [
    "nb.cells[-1].outputs"
   ]
  },
  {
   "cell_type": "markdown",
   "metadata": {},
   "source": [
    "With `exc_stop=True`, exceptions in a cell are raised and no further processing occurs:"
   ]
  },
  {
   "cell_type": "code",
   "execution_count": null,
   "metadata": {},
   "outputs": [
    {
     "name": "stdout",
     "output_type": "stream",
     "text": [
      "got exception: Oopsie!\n"
     ]
    }
   ],
   "source": [
    "try: s.run_all(nb, exc_stop=True)\n",
    "except Exception as e: print(f\"got exception: {e}\")"
   ]
  },
  {
   "cell_type": "markdown",
   "metadata": {},
   "source": [
    "We can pass a function to `preproc` to have it run on every cell. It can modify the cell as needed. If the function returns `True`, then that cell will not be executed. For instance, to skip the cell which raises an exception:"
   ]
  },
  {
   "cell_type": "code",
   "execution_count": null,
   "metadata": {},
   "outputs": [],
   "source": [
    "nb = read_nb(clean)\n",
    "s.run_all(nb, preproc=lambda c: 'raise' in c.source)"
   ]
  },
  {
   "cell_type": "markdown",
   "metadata": {},
   "source": [
    "This cell will contain no output, since it was skipped."
   ]
  },
  {
   "cell_type": "code",
   "execution_count": null,
   "metadata": {},
   "outputs": [
    {
     "data": {
      "text/plain": [
       "[]"
      ]
     },
     "execution_count": null,
     "metadata": {},
     "output_type": "execute_result"
    }
   ],
   "source": [
    "nb.cells[-1].outputs"
   ]
  },
  {
   "cell_type": "code",
   "execution_count": null,
   "metadata": {},
   "outputs": [
    {
     "data": {
      "text/plain": [
       "[{'name': 'stdout', 'output_type': 'stream', 'text': ['1\\n']},\n",
       " {'data': {'text/plain': ['2']},\n",
       "  'metadata': {},\n",
       "  'output_type': 'execute_result'}]"
      ]
     },
     "execution_count": null,
     "metadata": {},
     "output_type": "execute_result"
    }
   ],
   "source": [
    "nb.cells[1].outputs"
   ]
  },
  {
   "cell_type": "markdown",
   "metadata": {},
   "source": [
    "You can also pass a function to `postproc` to modify a cell after it is executed."
   ]
  },
  {
   "cell_type": "code",
   "execution_count": null,
   "metadata": {},
   "outputs": [],
   "source": [
    "#|export\n",
    "@patch\n",
    "def execute(self:CaptureShell,\n",
    "            src:str|Path, # Notebook path to read from\n",
    "            dest:str|None=None, # Notebook path to write to\n",
    "            exc_stop:bool=False, # Stop on exceptions?\n",
    "            preproc:Callable=_false, # Called before each cell is executed\n",
    "            postproc:Callable=_false, # Called after each cell is executed\n",
    "            inject_code:str|None=None, # Code to inject into a cell\n",
    "            inject_path:str|Path|None=None, # Path to file containing code to inject into a cell\n",
    "            inject_idx:int=0 # Cell to replace with `inject_code`\n",
    "):\n",
    "    \"Execute notebook from `src` and save with outputs to `dest\"\n",
    "    nb = read_nb(src)\n",
    "    self._fname = src\n",
    "    self.set_path(Path(src).parent.resolve())\n",
    "    if inject_path is not None: inject_code = Path(inject_path).read_text()\n",
    "    self.run_all(nb, exc_stop=exc_stop, preproc=preproc, postproc=postproc,\n",
    "                 inject_code=inject_code, inject_idx=inject_idx)\n",
    "    if dest: write_nb(nb, dest)"
   ]
  },
  {
   "cell_type": "markdown",
   "metadata": {},
   "source": [
    "This is a shortcut for the combination of `read_nb`, `CaptureShell.run_all`, and `write_nb`."
   ]
  },
  {
   "cell_type": "code",
   "execution_count": null,
   "metadata": {},
   "outputs": [
    {
     "name": "stdout",
     "output_type": "stream",
     "text": [
      "[{'name': 'stdout', 'output_type': 'stream', 'text': ['1\\n']}, {'data': {'text/plain': ['2']}, 'metadata': {}, 'output_type': 'execute_result'}]\n"
     ]
    }
   ],
   "source": [
    "s = CaptureShell()\n",
    "try:\n",
    "    s.execute(clean, 'tmp.ipynb')\n",
    "    print(read_nb('tmp.ipynb').cells[1].outputs)\n",
    "finally: Path('tmp.ipynb').unlink()"
   ]
  },
  {
   "cell_type": "code",
   "execution_count": null,
   "metadata": {},
   "outputs": [],
   "source": [
    "p = Path.home()/'git'/'fastcore'/'nbs'\n",
    "n = p/'03a_parallel.ipynb'"
   ]
  },
  {
   "cell_type": "code",
   "execution_count": null,
   "metadata": {},
   "outputs": [],
   "source": [
    "#|export\n",
    "@patch\n",
    "def prettytb(self:CaptureShell, \n",
    "             fname:str|Path=None): # filename to print alongside the traceback\n",
    "    \"Show a pretty traceback for notebooks, optionally printing `fname`.\"\n",
    "    fname = fname if fname else self._fname\n",
    "    _fence = '='*75\n",
    "    cell_intro_str = f\"While Executing Cell #{self._cell_idx}:\" if self._cell_idx else \"While Executing:\"\n",
    "    cell_str = f\"\\n{cell_intro_str}\\n{format_exc(self.exc)}\"\n",
    "    fname_str = f' in {fname}' if fname else ''\n",
    "    return f\"{type(self.exc).__name__}{fname_str}:\\n{_fence}\\n{cell_str}\\n\""
   ]
  },
  {
   "cell_type": "markdown",
   "metadata": {},
   "source": [
    "If an error occurs while running a notebook, you can retrieve a pretty version of the error with the `prettytb` method: "
   ]
  },
  {
   "cell_type": "code",
   "execution_count": null,
   "metadata": {},
   "outputs": [
    {
     "name": "stdout",
     "output_type": "stream",
     "text": [
      "AssertionError in ../tests/error.ipynb:\n",
      "===========================================================================\n",
      "\n",
      "While Executing Cell #2:\n",
      "Traceback (most recent call last):\n",
      "  File \"/var/folders/ss/34z569j921v58v8n1n_8z7h40000gn/T/ipykernel_93649/1421292703.py\", line 3, in <module>\n",
      "    s.execute('../tests/error.ipynb', exc_stop=True)\n",
      "  File \"/var/folders/ss/34z569j921v58v8n1n_8z7h40000gn/T/ipykernel_93649/2032771714.py\", line 18, in execute\n",
      "    self.run_all(nb, exc_stop=exc_stop, preproc=preproc, postproc=postproc,\n",
      "  File \"/var/folders/ss/34z569j921v58v8n1n_8z7h40000gn/T/ipykernel_93649/1738204067.py\", line 19, in run_all\n",
      "    if self.exc and exc_stop: raise self.exc from None\n",
      "                              ^^^^^^^^^^^^^^^^^^^^^^^^\n",
      "  File \"/Users/jhoward/miniconda3/lib/python3.11/site-packages/IPython/core/interactiveshell.py\", line 3553, in run_code\n",
      "    exec(code_obj, self.user_global_ns, self.user_ns)\n",
      "  File \"<ipython-input-1-b968a57a586e>\", line 3, in <module>\n",
      "    foo()\n",
      "  File \"/Users/jhoward/Documents/GitHub/execnb/tests/err.py\", line 2, in foo\n",
      "    assert 13 == 98\n",
      "           ^^^^^^^^\n",
      "AssertionError\n",
      "\n",
      "\n"
     ]
    }
   ],
   "source": [
    "s = CaptureShell()\n",
    "try:\n",
    "    s.execute('../tests/error.ipynb', exc_stop=True)\n",
    "except:\n",
    "    print(s.prettytb())"
   ]
  },
  {
   "cell_type": "markdown",
   "metadata": {},
   "source": [
    "### Tests -"
   ]
  },
  {
   "cell_type": "code",
   "execution_count": null,
   "metadata": {},
   "outputs": [],
   "source": [
    "#|hide\n",
    "# Trailing `;` stops data from being captured\n",
    "res = CaptureShell().run('1+1;')\n",
    "test_eq(res, [])\n",
    "\n",
    "# Newlines, whitespace, and comments after `;` are ignored\n",
    "# TODO: fix test\n",
    "# res = CaptureShell().run('1+1;\\n  #commented_func()')\n",
    "test_eq(res, [])"
   ]
  },
  {
   "cell_type": "code",
   "execution_count": null,
   "metadata": {},
   "outputs": [],
   "source": [
    "#|hide\n",
    "# Streams are split on and keep newlines\n",
    "res = CaptureShell().run(r\"print('a\\nb'); print('c\\n\\n'); print('d')\")\n",
    "test_eq(res[0]['text'], ['a\\n', 'b\\n', 'c\\n', '\\n', '\\n', 'd\\n'])"
   ]
  },
  {
   "cell_type": "code",
   "execution_count": null,
   "metadata": {},
   "outputs": [],
   "source": [
    "#|hide\n",
    "# Text mime data are split on and keep newlines\n",
    "res = CaptureShell().run(r\"from IPython.display import Markdown; display(Markdown('a\\nb'))\")\n",
    "test_eq(res[0]['data']['text/markdown'], ['a\\n', 'b'])"
   ]
  },
  {
   "cell_type": "code",
   "execution_count": null,
   "metadata": {},
   "outputs": [],
   "source": [
    "#|hide\n",
    "# Binary image mime data are base64-encoded and end in a single `\\n`\n",
    "\n",
    "def _pil2b64(im): return b64encode(im._repr_png_()).decode()+'\\n'\n",
    "im = Image.new('RGB', (3,3), 'red')\n",
    "imb64 = _pil2b64(im)\n",
    "\n",
    "res = CaptureShell().run(\"from PIL import Image; Image.new('RGB', (3,3), 'red')\")\n",
    "test_eq(res[0]['data']['image/png'], imb64)"
   ]
  },
  {
   "cell_type": "code",
   "execution_count": null,
   "metadata": {},
   "outputs": [],
   "source": [
    "#|hide\n",
    "# `display_data` flushes stdout and stderr - in that order\n",
    "res = CaptureShell().run(\"import sys; sys.stderr.write('Error!'); print(1); display(1)\")\n",
    "test_eq(res, [{'name': 'stdout', 'output_type': 'stream', 'text': ['1\\n']},\n",
    "              {'name': 'stderr', 'output_type': 'stream', 'text': ['Error!']},\n",
    "              {'data': {'text/plain': ['1']}, 'metadata': {}, 'output_type': 'display_data'}])"
   ]
  },
  {
   "cell_type": "code",
   "execution_count": null,
   "metadata": {},
   "outputs": [],
   "source": [
    "#|hide\n",
    "# Consecutive writes to stdout are grouped\n",
    "res = CaptureShell().run('print(1); print(2); print(3)')\n",
    "test_eq(res, [{'name': 'stdout', 'output_type': 'stream', 'text': ['1\\n', '2\\n', '3\\n']}])"
   ]
  },
  {
   "cell_type": "code",
   "execution_count": null,
   "metadata": {},
   "outputs": [],
   "source": [
    "#|hide\n",
    "# Consecutive writes to stdout are grouped despite an intermediate write to stderr, which is captured after\n",
    "res = CaptureShell().run(\"import sys; print(1); print(2); sys.stderr.write('Error!'); print(3)\")\n",
    "test_eq(res, [{'name': 'stdout', 'output_type': 'stream', 'text': ['1\\n', '2\\n', '3\\n']},\n",
    "              {'name': 'stderr', 'output_type': 'stream', 'text': ['Error!']}])"
   ]
  },
  {
   "cell_type": "code",
   "execution_count": null,
   "metadata": {},
   "outputs": [],
   "source": [
    "#|hide\n",
    "# `execute_result` is always last\n",
    "res = CaptureShell().run(\"import sys; sys.stderr.write('Error!'); print(1); display(1); 1\")\n",
    "test_eq(res, [{'name': 'stdout', 'output_type': 'stream', 'text': ['1\\n']},\n",
    "              {'name': 'stderr', 'output_type': 'stream', 'text': ['Error!']},\n",
    "              {'data': {'text/plain': ['1']}, 'metadata': {}, 'output_type': 'display_data'},\n",
    "              {'data': {'text/plain': ['1']}, 'metadata': {}, 'output_type': 'execute_result'}])"
   ]
  },
  {
   "cell_type": "markdown",
   "metadata": {},
   "source": [
    "## Params -"
   ]
  },
  {
   "cell_type": "markdown",
   "metadata": {},
   "source": [
    "If you pass `inject_code` to `CaptureShell.execute` or `CaptureShell.run_all`, the source of `nb.cells[inject_idx]` will be replaced with `inject_code`. By default, the first cell is replaced. For instance consider this notebook:"
   ]
  },
  {
   "cell_type": "code",
   "execution_count": null,
   "metadata": {},
   "outputs": [
    {
     "name": "stdout",
     "output_type": "stream",
     "text": [
      "-  a=1\n",
      "-  print(a)\n"
     ]
    }
   ],
   "source": [
    "nb = read_nb('../tests/params.ipynb')\n",
    "for c in nb.cells: print('- ',c.source)"
   ]
  },
  {
   "cell_type": "markdown",
   "metadata": {},
   "source": [
    "We can replace the first cell with `a=2` by passing that as `inject_code`, and the notebook will run with that change:"
   ]
  },
  {
   "cell_type": "code",
   "execution_count": null,
   "metadata": {},
   "outputs": [
    {
     "data": {
      "text/plain": [
       "[{'cell_type': 'code',\n",
       "  'execution_count': None,\n",
       "  'id': 'a63ce885',\n",
       "  'metadata': {},\n",
       "  'outputs': [],\n",
       "  'source': 'a=2',\n",
       "  'idx_': 0},\n",
       " {'cell_type': 'code',\n",
       "  'execution_count': None,\n",
       "  'id': 'ea528db5',\n",
       "  'metadata': {},\n",
       "  'outputs': [{'name': 'stdout', 'output_type': 'stream', 'text': ['2\\n']}],\n",
       "  'source': 'print(a)',\n",
       "  'idx_': 1}]"
      ]
     },
     "execution_count": null,
     "metadata": {},
     "output_type": "execute_result"
    }
   ],
   "source": [
    "nb = read_nb('../tests/params.ipynb')\n",
    "s.run_all(nb, inject_code=\"a=2\")\n",
    "list(nb.cells)"
   ]
  },
  {
   "cell_type": "markdown",
   "metadata": {},
   "source": [
    "This can be used with `CaptureShell.execute` to parameterise runs of models in notebooks. Place any defaults for configuration code needed in the first cell, and then when running `execute` pass in new parameters as needed in `inject_code`. To replace only some of the defaults, leave an empty cell as the second cell, and inject code using `inject_idx=1` to replace the empty second cell with code that overrides some of the defaults set in the first cell. When using `execute` you can pass `inject_path` instead of `inject_code` to read the injected code from a file."
   ]
  },
  {
   "cell_type": "markdown",
   "metadata": {},
   "source": [
    "## cli -"
   ]
  },
  {
   "cell_type": "code",
   "execution_count": null,
   "metadata": {},
   "outputs": [],
   "source": [
    "#|export\n",
    "@call_parse\n",
    "def exec_nb(\n",
    "    src:str, # Notebook path to read from\n",
    "    dest:str='', # Notebook path to write to\n",
    "    exc_stop:bool=False, # Stop on exceptions?\n",
    "    inject_code:str=None, # Code to inject into a cell\n",
    "    inject_path:str=None, # Path to file containing code to inject into a cell\n",
    "    inject_idx:int=0 # Cell to replace with `inject_code`\n",
    "):\n",
    "    \"Execute notebook from `src` and save with outputs to `dest`\"\n",
    "    CaptureShell().execute(src, dest, exc_stop=exc_stop, inject_code=inject_code,\n",
    "                           inject_path=inject_path, inject_idx=inject_idx)"
   ]
  },
  {
   "cell_type": "markdown",
   "metadata": {},
   "source": [
    "This is the command-line version of `CaptureShell.execute`. Run `exec_nb -h` from the command line to see how to pass arguments. If you don't pass `dest` then the output notebook won't be saved; this is mainly useful for running tests."
   ]
  },
  {
   "cell_type": "markdown",
   "metadata": {},
   "source": [
    "## Completions -"
   ]
  },
  {
   "cell_type": "code",
   "execution_count": null,
   "metadata": {},
   "outputs": [],
   "source": [
    "#| export\n",
    "class SmartCompleter(IPCompleter):\n",
    "    def __init__(self, shell, namespace=None, jedi=False):\n",
    "        if namespace is None: namespace = shell.user_ns\n",
    "        super().__init__(shell, namespace)\n",
    "        self.use_jedi = jedi\n",
    "        sdisp = StrDispatch()\n",
    "        self.custom_completers = sdisp\n",
    "        import_disp = CommandChainDispatcher()\n",
    "        import_disp.add(types.MethodType(module_completer, shell))\n",
    "        sdisp.add_s('import', import_disp)\n",
    "        sdisp.add_s('from', import_disp)\n",
    "\n",
    "    def __call__(self, c):\n",
    "        if not c: return []\n",
    "        with provisionalcompleter():\n",
    "            return [o.text.rpartition('.')[-1]\n",
    "                    for o in self.completions(c, len(c))\n",
    "                    if o.type=='<unknown>']"
   ]
  },
  {
   "cell_type": "code",
   "execution_count": null,
   "metadata": {},
   "outputs": [],
   "source": [
    "cc = SmartCompleter(get_ipython())\n",
    "\n",
    "def test_set(a,b): return test_eq(set(a), set(b))\n",
    "\n",
    "class _f:\n",
    "    def __init__(self): self.bar,self.baz,self.room = 0,0,0\n",
    "\n",
    "foo = _f()\n",
    "\n",
    "assert set(cc(\"b\")).issuperset(['bool', 'bytes'])\n",
    "test_set(cc(\"foo.b\"), ['bar', 'baz'])\n",
    "test_set(cc(\"x=1; x = foo.b\"), ['bar', 'baz'])\n",
    "test_set(cc(\"ab\"), ['abs'])\n",
    "test_set(cc(\"b = ab\"), ['abs'])\n",
    "test_set(cc(\"\"), [])\n",
    "test_set(cc(\"foo.\"), ['bar', 'baz', 'room'])\n",
    "test_set(cc(\"nonexistent.b\"), [])\n",
    "test_set(cc(\"foo.nonexistent.b\"), [])\n",
    "test_set(cc(\"import ab\"), ['abc'])\n",
    "test_set(cc(\"from abc import AB\"), ['ABC', 'ABCMeta'])"
   ]
  },
  {
   "cell_type": "code",
   "execution_count": null,
   "metadata": {},
   "outputs": [],
   "source": [
    "#| export\n",
    "@patch\n",
    "def complete(self:CaptureShell, c):\n",
    "    if not hasattr(self, '_completer'): self._completer = SmartCompleter(self)\n",
    "    return self._completer(c)"
   ]
  },
  {
   "cell_type": "code",
   "execution_count": null,
   "metadata": {},
   "outputs": [
    {
     "data": {
      "text/plain": [
       "['bit_count', 'bit_length']"
      ]
     },
     "execution_count": null,
     "metadata": {},
     "output_type": "execute_result"
    }
   ],
   "source": [
    "s = CaptureShell()\n",
    "s.run('a=1')\n",
    "s.complete('a.b')"
   ]
  },
  {
   "cell_type": "markdown",
   "metadata": {},
   "source": [
    "## export -"
   ]
  },
  {
   "cell_type": "code",
   "execution_count": null,
   "metadata": {},
   "outputs": [],
   "source": [
    "#|hide\n",
    "import nbdev; nbdev.nbdev_export()"
   ]
  },
  {
   "cell_type": "code",
   "execution_count": null,
   "metadata": {},
   "outputs": [],
   "source": []
  }
 ],
 "metadata": {
  "kernelspec": {
   "display_name": "python3",
   "language": "python",
   "name": "python3"
  }
 },
 "nbformat": 4,
 "nbformat_minor": 4
}
