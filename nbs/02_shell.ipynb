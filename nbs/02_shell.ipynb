{
 "cells": [
  {
   "cell_type": "code",
   "execution_count": null,
   "metadata": {},
   "outputs": [],
   "source": [
    "#|hide\n",
    "#|default_exp shell"
   ]
  },
  {
   "cell_type": "markdown",
   "metadata": {},
   "source": [
    "# shell\n",
    "\n",
    "> A shell for running notebook code without a notebook server"
   ]
  },
  {
   "cell_type": "code",
   "execution_count": null,
   "metadata": {},
   "outputs": [],
   "source": [
    "#|export\n",
    "from __future__ import annotations\n",
    "\n",
    "from fastcore.utils import *\n",
    "from fastcore.script import call_parse\n",
    "from fastcore.ansi import ansi2html\n",
    "\n",
    "import multiprocessing,types,traceback,signal\n",
    "try:\n",
    "    if sys.platform == 'darwin': multiprocessing.set_start_method(\"fork\")\n",
    "except RuntimeError: pass # if re-running cell\n",
    "\n",
    "from IPython.core.interactiveshell import InteractiveShell, ExecutionInfo, ExecutionResult\n",
    "from IPython.core.displayhook import DisplayHook\n",
    "from IPython.utils.capture import capture_output\n",
    "from IPython.utils.text import strip_ansi\n",
    "from IPython.core.completer import IPCompleter,provisionalcompleter,Completer\n",
    "from IPython.core.hooks import CommandChainDispatcher\n",
    "from IPython.core.completerlib import module_completer\n",
    "from IPython.utils.strdispatch import StrDispatch\n",
    "from IPython.display import display as disp, HTML\n",
    "\n",
    "from base64 import b64encode\n",
    "from html import escape\n",
    "try: from matplotlib_inline.backend_inline import set_matplotlib_formats\n",
    "except ImportError: set_matplotlib_formats = None\n",
    "\n",
    "\n",
    "from execnb.nbio import *\n",
    "from execnb.nbio import _dict2obj"
   ]
  },
  {
   "cell_type": "code",
   "execution_count": null,
   "metadata": {},
   "outputs": [],
   "source": [
    "from fastcore.test import *\n",
    "from base64 import b64decode\n",
    "from io import BytesIO\n",
    "from PIL import Image"
   ]
  },
  {
   "cell_type": "markdown",
   "metadata": {},
   "source": [
    "## CaptureShell -"
   ]
  },
  {
   "cell_type": "code",
   "execution_count": null,
   "metadata": {},
   "outputs": [],
   "source": [
    "#|export\n",
    "class _CustDisplayHook(DisplayHook):\n",
    "    def write_output_prompt(self): pass\n",
    "    def write_format_data(self, data, md_dict): pass\n",
    "    def log_output(self, format_dict): pass\n",
    "\n",
    "@patch\n",
    "def __repr__(self: ExecutionInfo): return f'cell: {self.raw_cell}; id: {self.cell_id}'\n",
    "\n",
    "@patch\n",
    "def __repr__(self: ExecutionResult): return f'result: {self.result}; err: {self.error_in_exec}; info: <{self.info}>'"
   ]
  },
  {
   "cell_type": "code",
   "execution_count": null,
   "metadata": {},
   "outputs": [],
   "source": [
    "#|export\n",
    "class CaptureShell(InteractiveShell):\n",
    "    displayhook_class = _CustDisplayHook\n",
    "\n",
    "    def __init__(self, path:str|Path=None, mpl_format='retina', history=False, timeout:Optional[int]=None):\n",
    "        super().__init__()\n",
    "        self.history_manager.enabled = history\n",
    "        self.timeout = timeout\n",
    "        self.result,self.exc = None,None\n",
    "        if path: self.set_path(path)\n",
    "        self.display_formatter.active = True\n",
    "        if not IN_NOTEBOOK: InteractiveShell._instance = self\n",
    "        if set_matplotlib_formats:\n",
    "            self.enable_matplotlib(\"inline\")\n",
    "            self._run(\"from matplotlib_inline.backend_inline import set_matplotlib_formats\")\n",
    "            self._run(f\"set_matplotlib_formats('{mpl_format}')\")\n",
    "\n",
    "    def _run(self, raw_cell, store_history=False, silent=False, shell_futures=True, cell_id=None,\n",
    "                 stdout=True, stderr=True, display=True):\n",
    "        # TODO what if there's a comment?\n",
    "        semic = raw_cell.rstrip().endswith(';')\n",
    "        with capture_output(display=display, stdout=stdout, stderr=stderr) as c:\n",
    "            result = super().run_cell(raw_cell, store_history, silent, shell_futures=shell_futures, cell_id=cell_id)\n",
    "        return AttrDict(result=result, stdout='' if semic else c.stdout, stderr=c.stderr,\n",
    "                        display_objects=c.outputs, exception=result.error_in_exec, quiet=semic)\n",
    "    \n",
    "    def set_path(self, path):\n",
    "        \"Add `path` to python path, or `path.parent` if it's a file\"\n",
    "        path = Path(path)\n",
    "        if path.is_file(): path = path.parent\n",
    "        self._run(f\"import sys; sys.path.insert(0, '{path.as_posix()}')\")\n",
    "    \n",
    "    def enable_gui(self, gui=None): pass"
   ]
  },
  {
   "cell_type": "code",
   "execution_count": null,
   "metadata": {},
   "outputs": [],
   "source": [
    "#|export\n",
    "@patch\n",
    "def run_cell(self:CaptureShell, raw_cell, store_history=False, silent=False, shell_futures=True, cell_id=None,\n",
    "             stdout=True, stderr=True, display=True, timeout=None):\n",
    "    if not timeout: timeout = self.timeout\n",
    "    if timeout:\n",
    "        def handler(*args): raise TimeoutError()\n",
    "        signal.signal(signal.SIGALRM, handler)\n",
    "        signal.alarm(timeout)\n",
    "    try: return self._run(raw_cell, store_history, silent, shell_futures, cell_id=cell_id,\n",
    "                          stdout=stdout, stderr=stderr, display=display)\n",
    "    finally:\n",
    "        if timeout: signal.alarm(0)"
   ]
  },
  {
   "cell_type": "code",
   "execution_count": null,
   "metadata": {},
   "outputs": [],
   "source": [
    "s = CaptureShell(mpl_format='retina')"
   ]
  },
  {
   "cell_type": "code",
   "execution_count": null,
   "metadata": {},
   "outputs": [],
   "source": [
    "s.run_cell('a=1');"
   ]
  },
  {
   "cell_type": "code",
   "execution_count": null,
   "metadata": {},
   "outputs": [
    {
     "data": {
      "text/markdown": [
       "```json\n",
       "{ 'display_objects': [],\n",
       "  'exception': None,\n",
       "  'quiet': False,\n",
       "  'result': result: None; err: None; info: <cell: print(a); id: None>,\n",
       "  'stderr': '',\n",
       "  'stdout': '1\\n'}\n",
       "```"
      ],
      "text/plain": [
       "{'result': result: None; err: None; info: <cell: print(a); id: None>,\n",
       " 'stdout': '1\\n',\n",
       " 'stderr': '',\n",
       " 'display_objects': [],\n",
       " 'exception': None,\n",
       " 'quiet': False}"
      ]
     },
     "execution_count": null,
     "metadata": {},
     "output_type": "execute_result"
    }
   ],
   "source": [
    "o = s.run_cell('print(a)')\n",
    "o"
   ]
  },
  {
   "cell_type": "code",
   "execution_count": null,
   "metadata": {},
   "outputs": [
    {
     "data": {
      "text/markdown": [
       "```json\n",
       "{ 'display_objects': [],\n",
       "  'exception': None,\n",
       "  'quiet': False,\n",
       "  'result': result: None; err: None; info: <cell: from warnings import warn; warn(\"1\"); id: None>,\n",
       "  'stderr': '<ipython-input-1-a51443ae013a>:1: UserWarning: 1\\n'\n",
       "            '  from warnings import warn; warn(\"1\")\\n',\n",
       "  'stdout': ''}\n",
       "```"
      ],
      "text/plain": [
       "{'result': result: None; err: None; info: <cell: from warnings import warn; warn(\"1\"); id: None>,\n",
       " 'stdout': '',\n",
       " 'stderr': '<ipython-input-1-a51443ae013a>:1: UserWarning: 1\\n  from warnings import warn; warn(\"1\")\\n',\n",
       " 'display_objects': [],\n",
       " 'exception': None,\n",
       " 'quiet': False}"
      ]
     },
     "execution_count": null,
     "metadata": {},
     "output_type": "execute_result"
    }
   ],
   "source": [
    "o = s.run_cell('from warnings import warn; warn(\"1\")')\n",
    "o"
   ]
  },
  {
   "cell_type": "code",
   "execution_count": null,
   "metadata": {},
   "outputs": [
    {
     "data": {
      "text/markdown": [
       "```json\n",
       "{ 'display_objects': [],\n",
       "  'exception': None,\n",
       "  'quiet': False,\n",
       "  'result': result: 1; err: None; info: <cell: 1; id: None>,\n",
       "  'stderr': '',\n",
       "  'stdout': ''}\n",
       "```"
      ],
      "text/plain": [
       "{'result': result: 1; err: None; info: <cell: 1; id: None>,\n",
       " 'stdout': '',\n",
       " 'stderr': '',\n",
       " 'display_objects': [],\n",
       " 'exception': None,\n",
       " 'quiet': False}"
      ]
     },
     "execution_count": null,
     "metadata": {},
     "output_type": "execute_result"
    }
   ],
   "source": [
    "o = s.run_cell('1')\n",
    "o"
   ]
  },
  {
   "cell_type": "code",
   "execution_count": null,
   "metadata": {},
   "outputs": [
    {
     "data": {
      "text/markdown": [
       "```json\n",
       "{ 'display_objects': [<IPython.utils.capture.RichOutput object>],\n",
       "  'exception': None,\n",
       "  'quiet': False,\n",
       "  'result': result: <IPython.core.display.Markdown object>; err: None; info: <cell: from IPython.display import Markdown,display; print(0); display(Markdown(\"*2*\")); Markdown(\"*1*\"); id: None>,\n",
       "  'stderr': '',\n",
       "  'stdout': '0\\n'}\n",
       "```"
      ],
      "text/plain": [
       "{'result': result: <IPython.core.display.Markdown object>; err: None; info: <cell: from IPython.display import Markdown,display; print(0); display(Markdown(\"*2*\")); Markdown(\"*1*\"); id: None>,\n",
       " 'stdout': '0\\n',\n",
       " 'stderr': '',\n",
       " 'display_objects': [<IPython.utils.capture.RichOutput>],\n",
       " 'exception': None,\n",
       " 'quiet': False}"
      ]
     },
     "execution_count": null,
     "metadata": {},
     "output_type": "execute_result"
    }
   ],
   "source": [
    "o = s.run_cell('from IPython.display import Markdown,display; print(0); display(Markdown(\"*2*\")); Markdown(\"*1*\")')\n",
    "o"
   ]
  },
  {
   "cell_type": "code",
   "execution_count": null,
   "metadata": {},
   "outputs": [
    {
     "data": {
      "text/markdown": [
       "*1*"
      ],
      "text/plain": [
       "<IPython.core.display.Markdown object>"
      ]
     },
     "execution_count": null,
     "metadata": {},
     "output_type": "execute_result"
    }
   ],
   "source": [
    "o.result.result"
   ]
  },
  {
   "cell_type": "code",
   "execution_count": null,
   "metadata": {},
   "outputs": [
    {
     "data": {
      "text/markdown": [
       "*2*"
      ],
      "text/plain": [
       "<IPython.core.display.Markdown object>"
      ]
     },
     "execution_count": null,
     "metadata": {},
     "output_type": "execute_result"
    }
   ],
   "source": [
    "o.display_objects[0]"
   ]
  },
  {
   "cell_type": "code",
   "execution_count": null,
   "metadata": {},
   "outputs": [
    {
     "data": {
      "text/markdown": [
       "```json\n",
       "{ 'display_objects': [],\n",
       "  'exception': None,\n",
       "  'quiet': True,\n",
       "  'result': result: 1; err: None; info: <cell: 1;; id: None>,\n",
       "  'stderr': '',\n",
       "  'stdout': ''}\n",
       "```"
      ],
      "text/plain": [
       "{'result': result: 1; err: None; info: <cell: 1;; id: None>,\n",
       " 'stdout': '',\n",
       " 'stderr': '',\n",
       " 'display_objects': [],\n",
       " 'exception': None,\n",
       " 'quiet': True}"
      ]
     },
     "execution_count": null,
     "metadata": {},
     "output_type": "execute_result"
    }
   ],
   "source": [
    "o = s.run_cell('1;')\n",
    "o"
   ]
  },
  {
   "cell_type": "code",
   "execution_count": null,
   "metadata": {},
   "outputs": [
    {
     "data": {
      "text/markdown": [
       "```json\n",
       "{ 'display_objects': [<IPython.utils.capture.RichOutput object>],\n",
       "  'exception': None,\n",
       "  'quiet': False,\n",
       "  'result': result: [<matplotlib.lines.Line2D object>]; err: None; info: <cell: import matplotlib.pyplot as plt; plt.plot([1,2,3]); id: None>,\n",
       "  'stderr': '',\n",
       "  'stdout': ''}\n",
       "```"
      ],
      "text/plain": [
       "{'result': result: [<matplotlib.lines.Line2D object>]; err: None; info: <cell: import matplotlib.pyplot as plt; plt.plot([1,2,3]); id: None>,\n",
       " 'stdout': '',\n",
       " 'stderr': '',\n",
       " 'display_objects': [<IPython.utils.capture.RichOutput>],\n",
       " 'exception': None,\n",
       " 'quiet': False}"
      ]
     },
     "execution_count": null,
     "metadata": {},
     "output_type": "execute_result"
    }
   ],
   "source": [
    "o = s.run_cell('import matplotlib.pyplot as plt; plt.plot([1,2,3])')\n",
    "o"
   ]
  },
  {
   "cell_type": "code",
   "execution_count": null,
   "metadata": {},
   "outputs": [
    {
     "data": {
      "text/plain": [
       "<matplotlib.lines.Line2D>"
      ]
     },
     "execution_count": null,
     "metadata": {},
     "output_type": "execute_result"
    }
   ],
   "source": [
    "o.result.result[0]"
   ]
  },
  {
   "cell_type": "code",
   "execution_count": null,
   "metadata": {},
   "outputs": [
    {
     "data": {
      "image/png": "[encoded data removed]",
      "text/plain": [
       "<Figure size 640x480 with 1 Axes>"
      ]
     },
     "execution_count": null,
     "metadata": {
      "image/png": {
       "height": 413,
       "width": 556
      }
     },
     "output_type": "execute_result"
    }
   ],
   "source": [
    "o.display_objects[0]"
   ]
  },
  {
   "cell_type": "code",
   "execution_count": null,
   "metadata": {},
   "outputs": [
    {
     "data": {
      "text/markdown": [
       "```json\n",
       "{ 'display_objects': [],\n",
       "  'exception': ModuleNotFoundError(\"No module named 'pandas'\"),\n",
       "  'quiet': False,\n",
       "  'result': result: None; err: No module named 'pandas'; info: <cell: \n",
       "import pandas as pd\n",
       "pd.DataFrame({'A': [1, 2], 'B': [3, 4]}); id: None>,\n",
       "  'stderr': '',\n",
       "  'stdout': '\\x1b[0;31m---------------------------------------------------------------------------\\x1b[0m\\n'\n",
       "            '\\x1b[0;31mModuleNotFoundError\\x1b[0m                       '\n",
       "            'Traceback (most recent call last)\\n'\n",
       "            'File \\x1b[0;32m<ipython-input-1-3143c8567a2a>:1\\x1b[0m\\n'\n",
       "            '\\x1b[0;32m----> 1\\x1b[0m \\x1b[38;5;28;01mimport\\x1b[39;00m '\n",
       "            '\\x1b[38;5;21;01mpandas\\x1b[39;00m \\x1b[38;5;28;01mas\\x1b[39;00m '\n",
       "            '\\x1b[38;5;21;01mpd\\x1b[39;00m\\n'\n",
       "            '\\x1b[1;32m      2\\x1b[0m '\n",
       "            \"pd\\x1b[38;5;241m.\\x1b[39mDataFrame({\\x1b[38;5;124m'\\x1b[39m\\x1b[38;5;124mA\\x1b[39m\\x1b[38;5;124m'\\x1b[39m: \"\n",
       "            '[\\x1b[38;5;241m1\\x1b[39m, \\x1b[38;5;241m2\\x1b[39m], '\n",
       "            \"\\x1b[38;5;124m'\\x1b[39m\\x1b[38;5;124mB\\x1b[39m\\x1b[38;5;124m'\\x1b[39m: \"\n",
       "            '[\\x1b[38;5;241m3\\x1b[39m, \\x1b[38;5;241m4\\x1b[39m]})\\n'\n",
       "            '\\n'\n",
       "            \"\\x1b[0;31mModuleNotFoundError\\x1b[0m: No module named 'pandas'\\n\"}\n",
       "```"
      ],
      "text/plain": [
       "{'result': result: None; err: No module named 'pandas'; info: <cell: \n",
       " import pandas as pd\n",
       " pd.DataFrame({'A': [1, 2], 'B': [3, 4]}); id: None>,\n",
       " 'stdout': \"\\x1b[0;31m---------------------------------------------------------------------------\\x1b[0m\\n\\x1b[0;31mModuleNotFoundError\\x1b[0m                       Traceback (most recent call last)\\nFile \\x1b[0;32m<ipython-input-1-3143c8567a2a>:1\\x1b[0m\\n\\x1b[0;32m----> 1\\x1b[0m \\x1b[38;5;28;01mimport\\x1b[39;00m \\x1b[38;5;21;01mpandas\\x1b[39;00m \\x1b[38;5;28;01mas\\x1b[39;00m \\x1b[38;5;21;01mpd\\x1b[39;00m\\n\\x1b[1;32m      2\\x1b[0m pd\\x1b[38;5;241m.\\x1b[39mDataFrame({\\x1b[38;5;124m'\\x1b[39m\\x1b[38;5;124mA\\x1b[39m\\x1b[38;5;124m'\\x1b[39m: [\\x1b[38;5;241m1\\x1b[39m, \\x1b[38;5;241m2\\x1b[39m], \\x1b[38;5;124m'\\x1b[39m\\x1b[38;5;124mB\\x1b[39m\\x1b[38;5;124m'\\x1b[39m: [\\x1b[38;5;241m3\\x1b[39m, \\x1b[38;5;241m4\\x1b[39m]})\\n\\n\\x1b[0;31mModuleNotFoundError\\x1b[0m: No module named 'pandas'\\n\",\n",
       " 'stderr': '',\n",
       " 'display_objects': [],\n",
       " 'exception': ModuleNotFoundError(\"No module named 'pandas'\"),\n",
       " 'quiet': False}"
      ]
     },
     "execution_count": null,
     "metadata": {},
     "output_type": "execute_result"
    }
   ],
   "source": [
    "o = s.run_cell('''\n",
    "import pandas as pd\n",
    "pd.DataFrame({'A': [1, 2], 'B': [3, 4]})''')\n",
    "o"
   ]
  },
  {
   "cell_type": "code",
   "execution_count": null,
   "metadata": {},
   "outputs": [],
   "source": [
    "o.result.result"
   ]
  },
  {
   "cell_type": "code",
   "execution_count": null,
   "metadata": {},
   "outputs": [
    {
     "data": {
      "text/markdown": [
       "```json\n",
       "{ 'display_objects': [],\n",
       "  'exception': ZeroDivisionError('division by zero'),\n",
       "  'quiet': False,\n",
       "  'result': result: None; err: division by zero; info: <cell: 1/0; id: None>,\n",
       "  'stderr': '',\n",
       "  'stdout': '\\x1b[0;31m---------------------------------------------------------------------------\\x1b[0m\\n'\n",
       "            '\\x1b[0;31mZeroDivisionError\\x1b[0m                         '\n",
       "            'Traceback (most recent call last)\\n'\n",
       "            'File \\x1b[0;32m<ipython-input-1-9e1622b385b6>:1\\x1b[0m\\n'\n",
       "            '\\x1b[0;32m----> 1\\x1b[0m '\n",
       "            '\\x1b[38;5;241;43m1\\x1b[39;49m\\x1b[38;5;241;43m/\\x1b[39;49m\\x1b[38;5;241;43m0\\x1b[39;49m\\n'\n",
       "            '\\n'\n",
       "            '\\x1b[0;31mZeroDivisionError\\x1b[0m: division by zero\\n'}\n",
       "```"
      ],
      "text/plain": [
       "{'result': result: None; err: division by zero; info: <cell: 1/0; id: None>,\n",
       " 'stdout': '\\x1b[0;31m---------------------------------------------------------------------------\\x1b[0m\\n\\x1b[0;31mZeroDivisionError\\x1b[0m                         Traceback (most recent call last)\\nFile \\x1b[0;32m<ipython-input-1-9e1622b385b6>:1\\x1b[0m\\n\\x1b[0;32m----> 1\\x1b[0m \\x1b[38;5;241;43m1\\x1b[39;49m\\x1b[38;5;241;43m/\\x1b[39;49m\\x1b[38;5;241;43m0\\x1b[39;49m\\n\\n\\x1b[0;31mZeroDivisionError\\x1b[0m: division by zero\\n',\n",
       " 'stderr': '',\n",
       " 'display_objects': [],\n",
       " 'exception': ZeroDivisionError('division by zero'),\n",
       " 'quiet': False}"
      ]
     },
     "execution_count": null,
     "metadata": {},
     "output_type": "execute_result"
    }
   ],
   "source": [
    "o = s.run_cell('1/0')\n",
    "o"
   ]
  },
  {
   "cell_type": "code",
   "execution_count": null,
   "metadata": {},
   "outputs": [
    {
     "data": {
      "text/plain": [
       "TimeoutError()"
      ]
     },
     "execution_count": null,
     "metadata": {},
     "output_type": "execute_result"
    }
   ],
   "source": [
    "o = s.run_cell('import time; time.sleep(2)', timeout=1)\n",
    "o['exception']"
   ]
  },
  {
   "cell_type": "markdown",
   "metadata": {},
   "source": [
    "### Cells"
   ]
  },
  {
   "cell_type": "code",
   "execution_count": null,
   "metadata": {},
   "outputs": [],
   "source": [
    "#| export\n",
    "def format_exc(e):\n",
    "    \"Format exception `e` as a string list\"\n",
    "    return traceback.format_exception(type(e), e, e.__traceback__)"
   ]
  },
  {
   "cell_type": "code",
   "execution_count": null,
   "metadata": {},
   "outputs": [],
   "source": [
    "#|export\n",
    "def _out_stream(text, name): return dict(name=name, output_type='stream', text=text.splitlines(True))\n",
    "def _out_exc(e):\n",
    "    ename = type(e).__name__\n",
    "    tb = traceback.extract_tb(e.__traceback__)#.format()\n",
    "    return dict(ename=str(ename), evalue=str(e), output_type='error', traceback=format_exc(e))\n",
    "\n",
    "def _format_mimedata(k, v):\n",
    "    \"Format mime-type keyed data consistently with Jupyter\"\n",
    "    if k.startswith('text/'): return v.splitlines(True)\n",
    "    if k.startswith('image/') and isinstance(v, bytes):\n",
    "        v = b64encode(v).decode()\n",
    "        return v+'\\n' if not v.endswith('\\n') else v\n",
    "    return v\n",
    "\n",
    "def _mk_out(data, meta, output_type='display_data'):\n",
    "    fd = {k:_format_mimedata(k,v) for k,v in data.items()}\n",
    "    return dict(data=fd, metadata=meta, output_type=output_type)\n",
    "\n",
    "def _out_nb(o, fmt):\n",
    "    res = []\n",
    "    if o.stdout: res.append(_out_stream(o.stdout, 'stdout'))\n",
    "    if o.stderr: res.append(_out_stream(o.stderr, 'stderr'))\n",
    "    if o.exception: res.append(_out_exc(o.exception))\n",
    "    r = o.result.result\n",
    "    for x in o.display_objects: res.append(_mk_out(x.data, x.metadata))\n",
    "    if r is not None and not o.quiet:\n",
    "        res.append(_mk_out(*fmt.format(r), 'execute_result'))\n",
    "    if 'execution_count' not in o: o['execution_count']=None\n",
    "    for p in res:\n",
    "        if p[\"output_type\"]==\"execute_result\": p['execution_count'] = o['execution_count']\n",
    "    return res"
   ]
  },
  {
   "cell_type": "code",
   "execution_count": null,
   "metadata": {},
   "outputs": [],
   "source": [
    "#|export\n",
    "@patch\n",
    "def run(self:CaptureShell,\n",
    "        code:str, # Python/IPython code to run\n",
    "        stdout=True, # Capture stdout and save as output?\n",
    "        stderr=True, # Capture stderr and save as output?\n",
    "       timeout:Optional[int]=None): # Shell command will time out after {timeout} seconds\n",
    "    \"Run `code`, returning a list of all outputs in Jupyter notebook format\"\n",
    "    res = self.run_cell(code, stdout=stdout, stderr=stderr, timeout=timeout)\n",
    "    self.result = res.result.result\n",
    "    self.exc = res.exception\n",
    "    return _out_nb(res, self.display_formatter)"
   ]
  },
  {
   "cell_type": "code",
   "execution_count": null,
   "metadata": {},
   "outputs": [],
   "source": [
    "s = CaptureShell()"
   ]
  },
  {
   "cell_type": "code",
   "execution_count": null,
   "metadata": {},
   "outputs": [
    {
     "data": {
      "text/plain": [
       "[{'name': 'stdout', 'output_type': 'stream', 'text': ['1\\n']}]"
      ]
     },
     "execution_count": null,
     "metadata": {},
     "output_type": "execute_result"
    }
   ],
   "source": [
    "s.run(\"print(1)\")"
   ]
  },
  {
   "cell_type": "markdown",
   "metadata": {},
   "source": [
    "Code can include magics and `!` shell commands:"
   ]
  },
  {
   "cell_type": "code",
   "execution_count": null,
   "metadata": {},
   "outputs": [
    {
     "data": {
      "text/plain": [
       "[{'name': 'stdout',\n",
       "  'output_type': 'stream',\n",
       "  'text': ['CPU times: user 0 ns, sys: 0 ns, total: 0 ns\\n',\n",
       "   'Wall time: 2.15 us\\n']},\n",
       " {'data': {'text/plain': ['2']},\n",
       "  'metadata': {},\n",
       "  'output_type': 'execute_result',\n",
       "  'execution_count': None}]"
      ]
     },
     "execution_count": null,
     "metadata": {},
     "output_type": "execute_result"
    }
   ],
   "source": [
    "o = s.run(\"%time 1+1\")\n",
    "o"
   ]
  },
  {
   "cell_type": "markdown",
   "metadata": {},
   "source": [
    "The result of the last successful execution is stored in `result`:"
   ]
  },
  {
   "cell_type": "code",
   "execution_count": null,
   "metadata": {},
   "outputs": [
    {
     "data": {
      "text/plain": [
       "2"
      ]
     },
     "execution_count": null,
     "metadata": {},
     "output_type": "execute_result"
    }
   ],
   "source": [
    "s.result"
   ]
  },
  {
   "cell_type": "markdown",
   "metadata": {},
   "source": [
    "A trailing `;` stops the result from being captured:"
   ]
  },
  {
   "cell_type": "code",
   "execution_count": null,
   "metadata": {},
   "outputs": [
    {
     "data": {
      "text/plain": [
       "[]"
      ]
     },
     "execution_count": null,
     "metadata": {},
     "output_type": "execute_result"
    }
   ],
   "source": [
    "s.run(\"1+2;\")"
   ]
  },
  {
   "cell_type": "code",
   "execution_count": null,
   "metadata": {},
   "outputs": [
    {
     "data": {
      "text/plain": [
       "[{'name': 'stdout',\n",
       "  'output_type': 'stream',\n",
       "  'text': ['\\x1b[0;31m---------------------------------------------------------------------------\\x1b[0m\\n',\n",
       "   '\\x1b[0;31mZeroDivisionError\\x1b[0m                         Traceback (most recent call last)\\n',\n",
       "   'File \\x1b[0;32m<ipython-input-1-9e1622b385b6>:1\\x1b[0m\\n',\n",
       "   '\\x1b[0;32m----> 1\\x1b[0m \\x1b[38;5;241;43m1\\x1b[39;49m\\x1b[38;5;241;43m/\\x1b[39;49m\\x1b[38;5;241;43m0\\x1b[39;49m\\n',\n",
       "   '\\n',\n",
       "   '\\x1b[0;31mZeroDivisionError\\x1b[0m: division by zero\\n']},\n",
       " {'ename': 'ZeroDivisionError',\n",
       "  'evalue': 'division by zero',\n",
       "  'output_type': 'error',\n",
       "  'traceback': ['Traceback (most recent call last):\\n',\n",
       "   '  File \"/Users/jhoward/.venv/lib/python3.12/site-packages/IPython/core/interactiveshell.py\", line 3577, in run_code\\n    exec(code_obj, self.user_global_ns, self.user_ns)\\n',\n",
       "   '  File \"<ipython-input-1-9e1622b385b6>\", line 1, in <module>\\n    1/0\\n    ~^~\\n',\n",
       "   'ZeroDivisionError: division by zero\\n']}]"
      ]
     },
     "execution_count": null,
     "metadata": {},
     "output_type": "execute_result"
    }
   ],
   "source": [
    "o = s.run(\"1/0\")\n",
    "o"
   ]
  },
  {
   "cell_type": "markdown",
   "metadata": {},
   "source": [
    "This is how IPython formats exceptions internally:"
   ]
  },
  {
   "cell_type": "code",
   "execution_count": null,
   "metadata": {},
   "outputs": [],
   "source": [
    "from IPython.core.ultratb import VerboseTB\n",
    "formatter = VerboseTB(color_scheme='Linux')"
   ]
  },
  {
   "cell_type": "code",
   "execution_count": null,
   "metadata": {},
   "outputs": [
    {
     "name": "stdout",
     "output_type": "stream",
     "text": [
      "\u001b[1;31m---------------------------------------------------------------------------\u001b[0m\n",
      "\u001b[1;31mRecursionError\u001b[0m                            Traceback (most recent call last)\n",
      "Cell \u001b[1;32mIn[31], line 1\u001b[0m\n",
      "\u001b[1;32m----> 1\u001b[0m \u001b[38;5;28;01mtry\u001b[39;00m: f()\n",
      "\u001b[0;32m      2\u001b[0m \u001b[38;5;28;01mexcept\u001b[39;00m \u001b[38;5;167;01mException\u001b[39;00m \u001b[38;5;28;01mas\u001b[39;00m e:\n",
      "\u001b[0;32m      3\u001b[0m     ex \u001b[38;5;241m=\u001b[39m e\n",
      "\n",
      "Cell \u001b[1;32mIn[19], line 4\u001b[0m, in \u001b[0;36mf\u001b[1;34m()\u001b[0m\n",
      "\u001b[1;32m----> 4\u001b[0m \u001b[38;5;28;01mdef\u001b[39;00m \u001b[38;5;21mf\u001b[39m(): \u001b[38;5;28;01mreturn\u001b[39;00m \u001b[43mf\u001b[49m\u001b[43m(\u001b[49m\u001b[43m)\u001b[49m\n",
      "\n",
      "Cell \u001b[1;32mIn[19], line 4\u001b[0m, in \u001b[0;36mf\u001b[1;34m()\u001b[0m\n",
      "\u001b[1;32m----> 4\u001b[0m \u001b[38;5;28;01mdef\u001b[39;00m \u001b[38;5;21mf\u001b[39m(): \u001b[38;5;28;01mreturn\u001b[39;00m \u001b[43mf\u001b[49m\u001b[43m(\u001b[49m\u001b[43m)\u001b[49m\n",
      "\n",
      "    \u001b[1;31m[... skipping similar frames: f at line 4 (2974 times)]\u001b[0m\n",
      "\n",
      "Cell \u001b[1;32mIn[19], line 4\u001b[0m, in \u001b[0;36mf\u001b[1;34m()\u001b[0m\n",
      "\u001b[1;32m----> 4\u001b[0m \u001b[38;5;28;01mdef\u001b[39;00m \u001b[38;5;21mf\u001b[39m(): \u001b[38;5;28;01mreturn\u001b[39;00m \u001b[43mf\u001b[49m\u001b[43m(\u001b[49m\u001b[43m)\u001b[49m\n",
      "\n",
      "\u001b[1;31mRecursionError\u001b[0m: maximum recursion depth exceeded\n"
     ]
    }
   ],
   "source": [
    "try: f()\n",
    "except Exception as e:\n",
    "    ex = e\n",
    "    print(formatter.text(type(e), e, e.__traceback__))"
   ]
  },
  {
   "cell_type": "code",
   "execution_count": null,
   "metadata": {},
   "outputs": [
    {
     "data": {
      "text/plain": [
       "[{'name': 'stdout', 'output_type': 'stream', 'text': ['no timeout\\n']}]"
      ]
     },
     "execution_count": null,
     "metadata": {},
     "output_type": "execute_result"
    }
   ],
   "source": [
    "s.run(\"import time; time.sleep(0.1); print('no timeout')\", timeout=1)"
   ]
  },
  {
   "cell_type": "code",
   "execution_count": null,
   "metadata": {},
   "outputs": [
    {
     "data": {
      "text/plain": [
       "['\\x1b[0;31m---------------------------------------------------------------------------\\x1b[0m\\n',\n",
       " '\\x1b[0;31mTimeoutError\\x1b[0m                              Traceback (most recent call last)\\n']"
      ]
     },
     "execution_count": null,
     "metadata": {},
     "output_type": "execute_result"
    }
   ],
   "source": [
    "o = s.run(\"import time; time.sleep(1.1)\", timeout=1)\n",
    "o[0]['text'][:2]"
   ]
  },
  {
   "cell_type": "code",
   "execution_count": null,
   "metadata": {},
   "outputs": [
    {
     "data": {
      "text/plain": [
       "[{'name': 'stdout', 'output_type': 'stream', 'text': ['0\\n', '1\\n']},\n",
       " {'data': {'text/plain': ['<IPython.core.display.Markdown object>'],\n",
       "   'text/markdown': ['*2*']},\n",
       "  'metadata': {},\n",
       "  'output_type': 'display_data'},\n",
       " {'data': {'text/plain': ['<IPython.core.display.Markdown object>'],\n",
       "   'text/markdown': ['*1*']},\n",
       "  'metadata': {},\n",
       "  'output_type': 'execute_result',\n",
       "  'execution_count': None}]"
      ]
     },
     "execution_count": null,
     "metadata": {},
     "output_type": "execute_result"
    }
   ],
   "source": [
    "o = s.run('from IPython.display import Markdown,display; print(0); print(1); display(Markdown(\"*2*\")); Markdown(\"*1*\")')\n",
    "o"
   ]
  },
  {
   "cell_type": "code",
   "execution_count": null,
   "metadata": {},
   "outputs": [],
   "source": [
    "#| export\n",
    "@patch\n",
    "async def run_async(self:CaptureShell,\n",
    "        code: str,  # Python/IPython code to run\n",
    "        stdout=True,  # Capture stdout and save as output?\n",
    "        stderr=True,  # Capture stderr and save as output?\n",
    "        timeout:Optional[int]=None): # Shell command will time out after {timeout} seconds\n",
    "    return self.run(code, stdout=stdout, stderr=stderr, timeout=timeout)"
   ]
  },
  {
   "cell_type": "code",
   "execution_count": null,
   "metadata": {},
   "outputs": [
    {
     "data": {
      "text/plain": [
       "[{'data': {'text/plain': ['2']},\n",
       "  'metadata': {},\n",
       "  'output_type': 'execute_result',\n",
       "  'execution_count': None}]"
      ]
     },
     "execution_count": null,
     "metadata": {},
     "output_type": "execute_result"
    }
   ],
   "source": [
    "await s.run_async(\"1+1\")"
   ]
  },
  {
   "cell_type": "code",
   "execution_count": null,
   "metadata": {},
   "outputs": [],
   "source": [
    "#| export\n",
    "def _pre(s, xtra=''): return f\"<pre {xtra}><code>{escape(s)}</code></pre>\"\n",
    "def _strip(s): return strip_ansi(escape(s))\n",
    "\n",
    "def render_outputs(outputs, ansi_renderer=_strip, include_imgs=True, pygments=False):\n",
    "    try:\n",
    "        from mistletoe import markdown, HTMLRenderer\n",
    "        from mistletoe.contrib.pygments_renderer import PygmentsRenderer\n",
    "    except ImportError: return print('mistletoe not found -- please install it')\n",
    "    renderer = PygmentsRenderer if pygments else HTMLRenderer\n",
    "    def render_output(out):\n",
    "        otype = out['output_type']\n",
    "        if otype == 'stream':\n",
    "            txt = ansi_renderer(''.join(out[\"text\"]))\n",
    "            xtra = '' if out['name']=='stdout' else \"class='stderr'\"\n",
    "            is_err = '<span class' in txt\n",
    "            return f\"<pre {xtra}><code class='{'nohighlight hljs' if is_err else ''}'>{txt}</code></pre>\"\n",
    "        elif otype in ('display_data','execute_result'):\n",
    "            data = out['data']\n",
    "            _g = lambda t: ''.join(data[t]) if t in data else None\n",
    "            if d := _g('text/html'): return d\n",
    "            if d := _g('application/javascript'): return f'<script>{d}</script>'\n",
    "            if d := _g('text/markdown'): return markdown(d, renderer=renderer)\n",
    "            if d := _g('text/latex'): return f'<div class=\"math\">${d}$</div>'\n",
    "            if include_imgs:\n",
    "                if d := _g('image/jpeg'): return f'<img src=\"data:image/jpeg;base64,{d}\"/>'\n",
    "                if d := _g('image/png'): return f'<img src=\"data:image/png;base64,{d}\"/>'\n",
    "            if d := _g('text/plain'): return _pre(d)\n",
    "            if d := _g('image/svg+xml'): return d\n",
    "            \n",
    "        return ''\n",
    "\n",
    "    return '\\n'.join(map(render_output, outputs))"
   ]
  },
  {
   "cell_type": "code",
   "execution_count": null,
   "metadata": {},
   "outputs": [
    {
     "data": {
      "text/html": [
       "<pre ><code>---------------------------------------------------------------------------\n",
       "TimeoutError                              Traceback (most recent call last)\n",
       "File &lt;ipython-input-1-a5c3817716b6&gt;:1\n",
       "----&gt; 1 import time; time.sleep(1.1)\n",
       "\n",
       "Cell In[6], line 7, in run_cell.&lt;locals&gt;.handler(*args)\n",
       "----&gt; 7 def handler(*args): raise TimeoutError()\n",
       "\n",
       "TimeoutError: \n",
       "</code></pre>\n"
      ],
      "text/plain": [
       "<IPython.core.display.HTML object>"
      ]
     },
     "execution_count": null,
     "metadata": {},
     "output_type": "execute_result"
    }
   ],
   "source": [
    "HTML(render_outputs(o))"
   ]
  },
  {
   "cell_type": "markdown",
   "metadata": {},
   "source": [
    "We can use `ansi2html` to convert from ANSI to HTML for color rendering.  You need some [css styles](https://github.com/fastai/fastcore/blob/master/examples/ansi.css) for the colors to render properly.  Jupyter already has these built in so it's not neccessary here, but if you plan on using this in another web app you will need to ensure that css styling is included."
   ]
  },
  {
   "cell_type": "code",
   "execution_count": null,
   "metadata": {},
   "outputs": [
    {
     "data": {
      "text/html": [
       "<pre ><code><span class=\"ansi-red-fg\">---------------------------------------------------------------------------</span>\n",
       "<span class=\"ansi-red-fg\">TimeoutError</span>                              Traceback (most recent call last)\n",
       "File <span class=\"ansi-green-fg\">&lt;ipython-input-1-a5c3817716b6&gt;:1</span>\n",
       "<span class=\"ansi-green-fg\">----&gt; 1</span> <span class=\"ansi-bold\" style=\"color: rgb(0,135,0)\">import</span> <span class=\"ansi-bold\" style=\"color: rgb(0,0,255)\">time</span>; time<span style=\"color: rgb(98,98,98)\">.</span>sleep(<span style=\"color: rgb(98,98,98)\">1.1</span>)\n",
       "\n",
       "Cell <span class=\"ansi-green-fg\">In[6], line 7</span>, in <span class=\"ansi-cyan-fg\">run_cell.&lt;locals&gt;.handler</span><span class=\"ansi-blue-fg\">(*args)</span>\n",
       "<span class=\"ansi-green-fg\">----&gt; 7</span> <span class=\"ansi-bold\" style=\"color: rgb(0,135,0)\">def</span> <span style=\"color: rgb(0,0,255)\">handler</span>(<span style=\"color: rgb(98,98,98)\">*</span>args): <span class=\"ansi-bold\" style=\"color: rgb(0,135,0)\">raise</span> <span class=\"ansi-bold\" style=\"color: rgb(215,95,95)\">TimeoutError</span>()\n",
       "\n",
       "<span class=\"ansi-red-fg\">TimeoutError</span>: \n",
       "</code></pre>\n"
      ],
      "text/plain": [
       "<IPython.core.display.HTML object>"
      ]
     },
     "execution_count": null,
     "metadata": {},
     "output_type": "execute_result"
    }
   ],
   "source": [
    "HTML(render_outputs(o, ansi2html))"
   ]
  },
  {
   "cell_type": "markdown",
   "metadata": {},
   "source": [
    "Images and matplotlib figures are captured:"
   ]
  },
  {
   "cell_type": "code",
   "execution_count": null,
   "metadata": {},
   "outputs": [
    {
     "data": {
      "text/html": [
       "<img src=\"data:image/png;base64,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\"/>"
      ],
      "text/plain": [
       "<IPython.core.display.HTML object>"
      ]
     },
     "execution_count": null,
     "metadata": {},
     "output_type": "execute_result"
    }
   ],
   "source": [
    "res = s.run('''import matplotlib.pyplot as plt\n",
    "plt.figure(figsize=(2,1))\n",
    "plt.plot([1,2,4]);''')\n",
    "\n",
    "HTML(render_outputs(res))"
   ]
  },
  {
   "cell_type": "markdown",
   "metadata": {},
   "source": [
    "If an exception is raised then the exception type, object, and stacktrace are stored in `exc`:"
   ]
  },
  {
   "cell_type": "code",
   "execution_count": null,
   "metadata": {},
   "outputs": [
    {
     "data": {
      "text/plain": [
       "[{'name': 'stdout',\n",
       "  'output_type': 'stream',\n",
       "  'text': ['\\x1b[0;31m---------------------------------------------------------------------------\\x1b[0m\\n',\n",
       "   '\\x1b[0;31mException\\x1b[0m                                 Traceback (most recent call last)\\n',\n",
       "   'File \\x1b[0;32m<ipython-input-1-01648acb07bd>:1\\x1b[0m\\n',\n",
       "   '\\x1b[0;32m----> 1\\x1b[0m \\x1b[38;5;28;01mraise\\x1b[39;00m \\x1b[38;5;167;01mException\\x1b[39;00m(\\x1b[38;5;124m\"\\x1b[39m\\x1b[38;5;124mOops\\x1b[39m\\x1b[38;5;124m\"\\x1b[39m)\\n',\n",
       "   '\\n',\n",
       "   '\\x1b[0;31mException\\x1b[0m: Oops\\n']},\n",
       " {'ename': 'Exception',\n",
       "  'evalue': 'Oops',\n",
       "  'output_type': 'error',\n",
       "  'traceback': ['Traceback (most recent call last):\\n',\n",
       "   '  File \"/Users/jhoward/miniconda3/lib/python3.11/site-packages/IPython/core/interactiveshell.py\", line 3577, in run_code\\n    exec(code_obj, self.user_global_ns, self.user_ns)\\n',\n",
       "   '  File \"<ipython-input-1-01648acb07bd>\", line 1, in <module>\\n    raise Exception(\"Oops\")\\n',\n",
       "   'Exception: Oops\\n']}]"
      ]
     },
     "execution_count": null,
     "metadata": {},
     "output_type": "execute_result"
    }
   ],
   "source": [
    "o = s.run('raise Exception(\"Oops\")')\n",
    "o"
   ]
  },
  {
   "cell_type": "code",
   "execution_count": null,
   "metadata": {},
   "outputs": [
    {
     "data": {
      "text/plain": [
       "Exception('Oops')"
      ]
     },
     "execution_count": null,
     "metadata": {},
     "output_type": "execute_result"
    }
   ],
   "source": [
    "s.exc"
   ]
  },
  {
   "cell_type": "code",
   "execution_count": null,
   "metadata": {},
   "outputs": [],
   "source": [
    "#|export\n",
    "@patch\n",
    "def cell(self:CaptureShell, cell, stdout=True, stderr=True):\n",
    "    \"Run `cell`, skipping if not code, and store outputs back in cell\"\n",
    "    if cell.cell_type!='code': return\n",
    "    self._cell_idx = cell.idx_ + 1\n",
    "    outs = self.run(cell.source)\n",
    "    if outs: cell.outputs = _dict2obj(outs)"
   ]
  },
  {
   "cell_type": "code",
   "execution_count": null,
   "metadata": {},
   "outputs": [
    {
     "data": {
      "text/markdown": [
       "```json\n",
       "{ 'cell_type': 'code',\n",
       "  'execution_count': None,\n",
       "  'id': 'b123d6d0',\n",
       "  'idx_': 1,\n",
       "  'metadata': {},\n",
       "  'outputs': [],\n",
       "  'source': 'print(1)\\n2'}\n",
       "```"
      ],
      "text/plain": [
       "{'cell_type': 'code',\n",
       " 'execution_count': None,\n",
       " 'id': 'b123d6d0',\n",
       " 'metadata': {},\n",
       " 'outputs': [],\n",
       " 'source': 'print(1)\\n2',\n",
       " 'idx_': 1}"
      ]
     },
     "execution_count": null,
     "metadata": {},
     "output_type": "execute_result"
    }
   ],
   "source": [
    "clean = Path('../tests/clean.ipynb')\n",
    "nb = read_nb(clean)\n",
    "c = nb.cells[1]\n",
    "c"
   ]
  },
  {
   "cell_type": "code",
   "execution_count": null,
   "metadata": {},
   "outputs": [
    {
     "data": {
      "text/plain": [
       "[{'name': 'stdout', 'output_type': 'stream', 'text': ['1\\n']},\n",
       " {'data': {'text/plain': ['2']},\n",
       "  'metadata': {},\n",
       "  'output_type': 'execute_result',\n",
       "  'execution_count': None}]"
      ]
     },
     "execution_count": null,
     "metadata": {},
     "output_type": "execute_result"
    }
   ],
   "source": [
    "s.cell(c)\n",
    "c.outputs"
   ]
  },
  {
   "cell_type": "code",
   "execution_count": null,
   "metadata": {},
   "outputs": [],
   "source": [
    "#| export\n",
    "def find_output(outp, # Output from `run`\n",
    "                ot='execute_result' # Output_type to find\n",
    "               ):\n",
    "    \"Find first output of type `ot` in `CaptureShell.run` output\"\n",
    "    return first(o for o in outp if o['output_type']==ot)"
   ]
  },
  {
   "cell_type": "code",
   "execution_count": null,
   "metadata": {},
   "outputs": [
    {
     "data": {
      "text/markdown": [
       "```json\n",
       "{'text/plain': ['2']}\n",
       "```"
      ],
      "text/plain": [
       "{'text/plain': ['2']}"
      ]
     },
     "execution_count": null,
     "metadata": {},
     "output_type": "execute_result"
    }
   ],
   "source": [
    "find_output(c.outputs)['data']"
   ]
  },
  {
   "cell_type": "code",
   "execution_count": null,
   "metadata": {},
   "outputs": [
    {
     "data": {
      "text/plain": [
       "['1\\n']"
      ]
     },
     "execution_count": null,
     "metadata": {},
     "output_type": "execute_result"
    }
   ],
   "source": [
    "find_output(c.outputs, 'stream')['text']"
   ]
  },
  {
   "cell_type": "code",
   "execution_count": null,
   "metadata": {},
   "outputs": [],
   "source": [
    "#| export\n",
    "def out_exec(outp):\n",
    "    \"Get data from execution result in `outp`.\"\n",
    "    out = find_output(outp)\n",
    "    if out: return '\\n'.join(first(out['data'].values()))"
   ]
  },
  {
   "cell_type": "code",
   "execution_count": null,
   "metadata": {},
   "outputs": [
    {
     "data": {
      "text/plain": [
       "'2'"
      ]
     },
     "execution_count": null,
     "metadata": {},
     "output_type": "execute_result"
    }
   ],
   "source": [
    "out_exec(c.outputs)"
   ]
  },
  {
   "cell_type": "code",
   "execution_count": null,
   "metadata": {},
   "outputs": [],
   "source": [
    "#| export\n",
    "def out_stream(outp):\n",
    "    \"Get text from stream in `outp`.\"\n",
    "    out = find_output(outp, 'stream')\n",
    "    if out: return ('\\n'.join(out['text'])).strip()"
   ]
  },
  {
   "cell_type": "code",
   "execution_count": null,
   "metadata": {},
   "outputs": [
    {
     "data": {
      "text/plain": [
       "'1'"
      ]
     },
     "execution_count": null,
     "metadata": {},
     "output_type": "execute_result"
    }
   ],
   "source": [
    "out_stream(c.outputs)"
   ]
  },
  {
   "cell_type": "code",
   "execution_count": null,
   "metadata": {},
   "outputs": [],
   "source": [
    "#| export\n",
    "def out_error(outp):\n",
    "    \"Get traceback from error in `outp`.\"\n",
    "    out = find_output(outp, 'error')\n",
    "    if out: return '\\n'.join(out['traceback'])"
   ]
  },
  {
   "cell_type": "markdown",
   "metadata": {},
   "source": [
    "### NBs -"
   ]
  },
  {
   "cell_type": "code",
   "execution_count": null,
   "metadata": {},
   "outputs": [],
   "source": [
    "#|export\n",
    "def _false(o): return False\n",
    "\n",
    "@patch\n",
    "def run_all(self:CaptureShell,\n",
    "            nb, # A notebook read with `nbclient` or `read_nb`\n",
    "            exc_stop:bool=False, # Stop on exceptions?\n",
    "            preproc:callable=_false, # Called before each cell is executed\n",
    "            postproc:callable=_false, # Called after each cell is executed\n",
    "            inject_code:str|None=None, # Code to inject into a cell\n",
    "            inject_idx:int=0 # Cell to replace with `inject_code`\n",
    "           ):\n",
    "    \"Run all cells in `nb`, stopping at first exception if `exc_stop`\"\n",
    "    if inject_code is not None: nb.cells[inject_idx].source = inject_code\n",
    "    for cell in nb.cells:\n",
    "        if not preproc(cell):\n",
    "            self.cell(cell)\n",
    "            postproc(cell)\n",
    "        if self.exc and exc_stop: raise self.exc from None"
   ]
  },
  {
   "cell_type": "code",
   "execution_count": null,
   "metadata": {},
   "outputs": [
    {
     "data": {
      "text/plain": [
       "[]"
      ]
     },
     "execution_count": null,
     "metadata": {},
     "output_type": "execute_result"
    }
   ],
   "source": [
    "nb.cells[2].outputs"
   ]
  },
  {
   "cell_type": "code",
   "execution_count": null,
   "metadata": {},
   "outputs": [
    {
     "data": {
      "text/plain": [
       "[{'data': {'text/plain': ['<IPython.core.display.Markdown object>'],\n",
       "   'text/markdown': [\"This is *bold*. Here's a [link](https://www.fast.ai).\"]},\n",
       "  'metadata': {},\n",
       "  'output_type': 'execute_result',\n",
       "  'execution_count': None}]"
      ]
     },
     "execution_count": null,
     "metadata": {},
     "output_type": "execute_result"
    }
   ],
   "source": [
    "s.run_all(nb)\n",
    "nb.cells[2].outputs"
   ]
  },
  {
   "cell_type": "markdown",
   "metadata": {},
   "source": [
    "With `exc_stop=False` (the default), execution continues after exceptions, and exception details are stored into the appropriate cell's output:"
   ]
  },
  {
   "cell_type": "code",
   "execution_count": null,
   "metadata": {},
   "outputs": [
    {
     "data": {
      "text/plain": [
       "'raise Exception(\"Oopsie!\")'"
      ]
     },
     "execution_count": null,
     "metadata": {},
     "output_type": "execute_result"
    }
   ],
   "source": [
    "nb.cells[-1].source"
   ]
  },
  {
   "cell_type": "code",
   "execution_count": null,
   "metadata": {},
   "outputs": [
    {
     "data": {
      "text/plain": [
       "[{'name': 'stdout',\n",
       "  'output_type': 'stream',\n",
       "  'text': ['\\x1b[0;31m---------------------------------------------------------------------------\\x1b[0m\\n',\n",
       "   '\\x1b[0;31mException\\x1b[0m                                 Traceback (most recent call last)\\n',\n",
       "   'File \\x1b[0;32m<ipython-input-1-1c97c1d317ab>:1\\x1b[0m\\n',\n",
       "   '\\x1b[0;32m----> 1\\x1b[0m \\x1b[38;5;28;01mraise\\x1b[39;00m \\x1b[38;5;167;01mException\\x1b[39;00m(\\x1b[38;5;124m\"\\x1b[39m\\x1b[38;5;124mOopsie!\\x1b[39m\\x1b[38;5;124m\"\\x1b[39m)\\n',\n",
       "   '\\n',\n",
       "   '\\x1b[0;31mException\\x1b[0m: Oopsie!\\n']},\n",
       " {'ename': 'Exception',\n",
       "  'evalue': 'Oopsie!',\n",
       "  'output_type': 'error',\n",
       "  'traceback': ['Traceback (most recent call last):\\n',\n",
       "   '  File \"/Users/jhoward/miniconda3/lib/python3.11/site-packages/IPython/core/interactiveshell.py\", line 3577, in run_code\\n    exec(code_obj, self.user_global_ns, self.user_ns)\\n',\n",
       "   '  File \"<ipython-input-1-1c97c1d317ab>\", line 1, in <module>\\n    raise Exception(\"Oopsie!\")\\n',\n",
       "   'Exception: Oopsie!\\n']}]"
      ]
     },
     "execution_count": null,
     "metadata": {},
     "output_type": "execute_result"
    }
   ],
   "source": [
    "nb.cells[-1].outputs"
   ]
  },
  {
   "cell_type": "markdown",
   "metadata": {},
   "source": [
    "With `exc_stop=True`, exceptions in a cell are raised and no further processing occurs:"
   ]
  },
  {
   "cell_type": "code",
   "execution_count": null,
   "metadata": {},
   "outputs": [
    {
     "name": "stdout",
     "output_type": "stream",
     "text": [
      "got exception: Oopsie!\n"
     ]
    }
   ],
   "source": [
    "try: s.run_all(nb, exc_stop=True)\n",
    "except Exception as e: print(f\"got exception: {e}\")"
   ]
  },
  {
   "cell_type": "markdown",
   "metadata": {},
   "source": [
    "We can pass a function to `preproc` to have it run on every cell. It can modify the cell as needed. If the function returns `True`, then that cell will not be executed. For instance, to skip the cell which raises an exception:"
   ]
  },
  {
   "cell_type": "code",
   "execution_count": null,
   "metadata": {},
   "outputs": [],
   "source": [
    "nb = read_nb(clean)\n",
    "s.run_all(nb, preproc=lambda c: 'raise' in c.source)"
   ]
  },
  {
   "cell_type": "markdown",
   "metadata": {},
   "source": [
    "This cell will contain no output, since it was skipped."
   ]
  },
  {
   "cell_type": "code",
   "execution_count": null,
   "metadata": {},
   "outputs": [
    {
     "data": {
      "text/plain": [
       "[]"
      ]
     },
     "execution_count": null,
     "metadata": {},
     "output_type": "execute_result"
    }
   ],
   "source": [
    "nb.cells[-1].outputs"
   ]
  },
  {
   "cell_type": "code",
   "execution_count": null,
   "metadata": {},
   "outputs": [
    {
     "data": {
      "text/plain": [
       "[{'name': 'stdout', 'output_type': 'stream', 'text': ['1\\n']},\n",
       " {'data': {'text/plain': ['2']},\n",
       "  'metadata': {},\n",
       "  'output_type': 'execute_result',\n",
       "  'execution_count': None}]"
      ]
     },
     "execution_count": null,
     "metadata": {},
     "output_type": "execute_result"
    }
   ],
   "source": [
    "nb.cells[1].outputs"
   ]
  },
  {
   "cell_type": "markdown",
   "metadata": {},
   "source": [
    "You can also pass a function to `postproc` to modify a cell after it is executed."
   ]
  },
  {
   "cell_type": "code",
   "execution_count": null,
   "metadata": {},
   "outputs": [],
   "source": [
    "#|export\n",
    "@patch\n",
    "def execute(self:CaptureShell,\n",
    "            src:str|Path, # Notebook path to read from\n",
    "            dest:str|None=None, # Notebook path to write to\n",
    "            exc_stop:bool=False, # Stop on exceptions?\n",
    "            preproc:callable=_false, # Called before each cell is executed\n",
    "            postproc:callable=_false, # Called after each cell is executed\n",
    "            inject_code:str|None=None, # Code to inject into a cell\n",
    "            inject_path:str|Path|None=None, # Path to file containing code to inject into a cell\n",
    "            inject_idx:int=0 # Cell to replace with `inject_code`\n",
    "):\n",
    "    \"Execute notebook from `src` and save with outputs to `dest\"\n",
    "    nb = read_nb(src)\n",
    "    self._fname = src\n",
    "    self.set_path(Path(src).parent.resolve())\n",
    "    if inject_path is not None: inject_code = Path(inject_path).read_text()\n",
    "    self.run_all(nb, exc_stop=exc_stop, preproc=preproc, postproc=postproc,\n",
    "                 inject_code=inject_code, inject_idx=inject_idx)\n",
    "    if dest: write_nb(nb, dest)"
   ]
  },
  {
   "cell_type": "markdown",
   "metadata": {},
   "source": [
    "This is a shortcut for the combination of `read_nb`, `CaptureShell.run_all`, and `write_nb`."
   ]
  },
  {
   "cell_type": "code",
   "execution_count": null,
   "metadata": {},
   "outputs": [
    {
     "name": "stdout",
     "output_type": "stream",
     "text": [
      "[{'name': 'stdout', 'output_type': 'stream', 'text': ['1\\n']}, {'data': {'text/plain': ['2']}, 'execution_count': None, 'metadata': {}, 'output_type': 'execute_result'}]\n"
     ]
    }
   ],
   "source": [
    "s = CaptureShell()\n",
    "try:\n",
    "    s.execute(clean, 'tmp.ipynb')\n",
    "    print(read_nb('tmp.ipynb').cells[1].outputs)\n",
    "finally: Path('tmp.ipynb').unlink()"
   ]
  },
  {
   "cell_type": "code",
   "execution_count": null,
   "metadata": {},
   "outputs": [],
   "source": [
    "p = Path.home()/'git'/'fastcore'/'nbs'\n",
    "n = p/'03a_parallel.ipynb'"
   ]
  },
  {
   "cell_type": "code",
   "execution_count": null,
   "metadata": {},
   "outputs": [],
   "source": [
    "#|export\n",
    "@patch\n",
    "def prettytb(self:CaptureShell, \n",
    "             fname:str|Path=None): # filename to print alongside the traceback\n",
    "    \"Show a pretty traceback for notebooks, optionally printing `fname`.\"\n",
    "    fname = fname if fname else self._fname\n",
    "    _fence = '='*75\n",
    "    cell_intro_str = f\"While Executing Cell #{self._cell_idx}:\" if self._cell_idx else \"While Executing:\"\n",
    "    cell_str = f\"\\n{cell_intro_str}\\n{format_exc(self.exc)}\"\n",
    "    fname_str = f' in {fname}' if fname else ''\n",
    "    return f\"{type(self.exc).__name__}{fname_str}:\\n{_fence}\\n{cell_str}\\n\""
   ]
  },
  {
   "cell_type": "markdown",
   "metadata": {},
   "source": [
    "If an error occurs while running a notebook, you can retrieve a pretty version of the error with the `prettytb` method: "
   ]
  },
  {
   "cell_type": "code",
   "execution_count": null,
   "metadata": {},
   "outputs": [
    {
     "name": "stdout",
     "output_type": "stream",
     "text": [
      "AssertionError in ../tests/error.ipynb:\n",
      "===========================================================================\n",
      "\n",
      "While Executing Cell #2:\n",
      "['Traceback (most recent call last):\\n', '  File \"/var/folders/ss/34z569j921v58v8n1n_8z7h40000gn/T/ipykernel_37071/1421292703.py\", line 3, in <module>\\n    s.execute(\\'../tests/error.ipynb\\', exc_stop=True)\\n', '  File \"/var/folders/ss/34z569j921v58v8n1n_8z7h40000gn/T/ipykernel_37071/3609882568.py\", line 18, in execute\\n    self.run_all(nb, exc_stop=exc_stop, preproc=preproc, postproc=postproc,\\n', '  File \"/var/folders/ss/34z569j921v58v8n1n_8z7h40000gn/T/ipykernel_37071/3068237356.py\", line 19, in run_all\\n    if self.exc and exc_stop: raise self.exc from None\\n                              ^^^^^^^^^^^^^^^^^^^^^^^^\\n', '  File \"/Users/jhoward/miniconda3/lib/python3.11/site-packages/IPython/core/interactiveshell.py\", line 3577, in run_code\\n    exec(code_obj, self.user_global_ns, self.user_ns)\\n', '  File \"<ipython-input-1-b968a57a586e>\", line 3, in <module>\\n    foo()\\n', '  File \"/Users/jhoward/subs_aai/execnb/tests/err.py\", line 2, in foo\\n    assert 13 == 98\\n           ^^^^^^^^\\n', 'AssertionError\\n']\n",
      "\n"
     ]
    }
   ],
   "source": [
    "s = CaptureShell()\n",
    "try:\n",
    "    s.execute('../tests/error.ipynb', exc_stop=True)\n",
    "except:\n",
    "    print(s.prettytb())"
   ]
  },
  {
   "cell_type": "markdown",
   "metadata": {},
   "source": [
    "### Tests -"
   ]
  },
  {
   "cell_type": "code",
   "execution_count": null,
   "metadata": {},
   "outputs": [],
   "source": [
    "#|hide\n",
    "# Trailing `;` stops data from being captured\n",
    "res = CaptureShell().run('1+1;')\n",
    "test_eq(res, [])\n",
    "\n",
    "# Newlines, whitespace, and comments after `;` are ignored\n",
    "# TODO: fix test\n",
    "# res = CaptureShell().run('1+1;\\n  #commented_func()')\n",
    "test_eq(res, [])"
   ]
  },
  {
   "cell_type": "code",
   "execution_count": null,
   "metadata": {},
   "outputs": [],
   "source": [
    "#|hide\n",
    "# Streams are split on and keep newlines\n",
    "res = CaptureShell().run(r\"print('a\\nb'); print('c\\n\\n'); print('d')\")\n",
    "test_eq(res[0]['text'], ['a\\n', 'b\\n', 'c\\n', '\\n', '\\n', 'd\\n'])"
   ]
  },
  {
   "cell_type": "code",
   "execution_count": null,
   "metadata": {},
   "outputs": [],
   "source": [
    "#|hide\n",
    "# Text mime data are split on and keep newlines\n",
    "res = CaptureShell().run(r\"from IPython.display import Markdown; display(Markdown('a\\nb'))\")\n",
    "test_eq(res[0]['data']['text/markdown'], ['a\\n', 'b'])"
   ]
  },
  {
   "cell_type": "code",
   "execution_count": null,
   "metadata": {},
   "outputs": [],
   "source": [
    "#|hide\n",
    "# Binary image mime data are base64-encoded and end in a single `\\n`\n",
    "\n",
    "def _pil2b64(im): return b64encode(im._repr_png_()).decode()+'\\n'\n",
    "im = Image.new('RGB', (3,3), 'red')\n",
    "imb64 = _pil2b64(im)\n",
    "\n",
    "res = CaptureShell().run(\"from PIL import Image; Image.new('RGB', (3,3), 'red')\")\n",
    "test_eq(res[0]['data']['image/png'], imb64)"
   ]
  },
  {
   "cell_type": "code",
   "execution_count": null,
   "metadata": {},
   "outputs": [],
   "source": [
    "#|hide\n",
    "# `display_data` flushes stdout and stderr - in that order\n",
    "res = CaptureShell().run(\"import sys; sys.stderr.write('Error!'); print(1); display(1)\")\n",
    "test_eq(res, [{'name': 'stdout', 'output_type': 'stream', 'text': ['1\\n']},\n",
    "              {'name': 'stderr', 'output_type': 'stream', 'text': ['Error!']},\n",
    "              {'data': {'text/plain': ['1']}, 'metadata': {}, 'output_type': 'display_data'}])"
   ]
  },
  {
   "cell_type": "code",
   "execution_count": null,
   "metadata": {},
   "outputs": [],
   "source": [
    "#|hide\n",
    "# Consecutive writes to stdout are grouped\n",
    "res = CaptureShell().run('print(1); print(2); print(3)')\n",
    "test_eq(res, [{'name': 'stdout', 'output_type': 'stream', 'text': ['1\\n', '2\\n', '3\\n']}])"
   ]
  },
  {
   "cell_type": "code",
   "execution_count": null,
   "metadata": {},
   "outputs": [],
   "source": [
    "#|hide\n",
    "# Consecutive writes to stdout are grouped despite an intermediate write to stderr, which is captured after\n",
    "res = CaptureShell().run(\"import sys; print(1); print(2); sys.stderr.write('Error!'); print(3)\")\n",
    "test_eq(res, [{'name': 'stdout', 'output_type': 'stream', 'text': ['1\\n', '2\\n', '3\\n']},\n",
    "              {'name': 'stderr', 'output_type': 'stream', 'text': ['Error!']}])"
   ]
  },
  {
   "cell_type": "code",
   "execution_count": null,
   "metadata": {},
   "outputs": [],
   "source": [
    "#|hide\n",
    "# `execute_result` is always last\n",
    "res = CaptureShell().run(\"import sys; sys.stderr.write('Error!'); print(1); display(1); 1\")\n",
    "test_eq(res, [{'name': 'stdout', 'output_type': 'stream', 'text': ['1\\n']},\n",
    "              {'name': 'stderr', 'output_type': 'stream', 'text': ['Error!']},\n",
    "              {'data': {'text/plain': ['1']}, 'metadata': {}, 'output_type': 'display_data'},\n",
    "              {'data': {'text/plain': ['1']}, 'metadata': {}, 'output_type': 'execute_result', 'execution_count': None}])"
   ]
  },
  {
   "cell_type": "markdown",
   "metadata": {},
   "source": [
    "## Params -"
   ]
  },
  {
   "cell_type": "markdown",
   "metadata": {},
   "source": [
    "If you pass `inject_code` to `CaptureShell.execute` or `CaptureShell.run_all`, the source of `nb.cells[inject_idx]` will be replaced with `inject_code`. By default, the first cell is replaced. For instance consider this notebook:"
   ]
  },
  {
   "cell_type": "code",
   "execution_count": null,
   "metadata": {},
   "outputs": [
    {
     "name": "stdout",
     "output_type": "stream",
     "text": [
      "-  a=1\n",
      "-  print(a)\n"
     ]
    }
   ],
   "source": [
    "nb = read_nb('../tests/params.ipynb')\n",
    "for c in nb.cells: print('- ',c.source)"
   ]
  },
  {
   "cell_type": "markdown",
   "metadata": {},
   "source": [
    "We can replace the first cell with `a=2` by passing that as `inject_code`, and the notebook will run with that change:"
   ]
  },
  {
   "cell_type": "code",
   "execution_count": null,
   "metadata": {},
   "outputs": [
    {
     "data": {
      "text/plain": [
       "[{'cell_type': 'code',\n",
       "  'execution_count': None,\n",
       "  'id': 'a63ce885',\n",
       "  'metadata': {},\n",
       "  'outputs': [],\n",
       "  'source': 'a=2',\n",
       "  'idx_': 0},\n",
       " {'cell_type': 'code',\n",
       "  'execution_count': None,\n",
       "  'id': 'ea528db5',\n",
       "  'metadata': {},\n",
       "  'outputs': [{'name': 'stdout', 'output_type': 'stream', 'text': ['2\\n']}],\n",
       "  'source': 'print(a)',\n",
       "  'idx_': 1}]"
      ]
     },
     "execution_count": null,
     "metadata": {},
     "output_type": "execute_result"
    }
   ],
   "source": [
    "nb = read_nb('../tests/params.ipynb')\n",
    "s.run_all(nb, inject_code=\"a=2\")\n",
    "list(nb.cells)"
   ]
  },
  {
   "cell_type": "markdown",
   "metadata": {},
   "source": [
    "This can be used with `CaptureShell.execute` to parameterise runs of models in notebooks. Place any defaults for configuration code needed in the first cell, and then when running `execute` pass in new parameters as needed in `inject_code`. To replace only some of the defaults, leave an empty cell as the second cell, and inject code using `inject_idx=1` to replace the empty second cell with code that overrides some of the defaults set in the first cell. When using `execute` you can pass `inject_path` instead of `inject_code` to read the injected code from a file."
   ]
  },
  {
   "cell_type": "markdown",
   "metadata": {},
   "source": [
    "## cli -"
   ]
  },
  {
   "cell_type": "code",
   "execution_count": null,
   "metadata": {},
   "outputs": [],
   "source": [
    "#|export\n",
    "@call_parse\n",
    "def exec_nb(\n",
    "    src:str, # Notebook path to read from\n",
    "    dest:str='', # Notebook path to write to\n",
    "    exc_stop:bool=False, # Stop on exceptions?\n",
    "    inject_code:str=None, # Code to inject into a cell\n",
    "    inject_path:str=None, # Path to file containing code to inject into a cell\n",
    "    inject_idx:int=0 # Cell to replace with `inject_code`\n",
    "):\n",
    "    \"Execute notebook from `src` and save with outputs to `dest`\"\n",
    "    CaptureShell().execute(src, dest, exc_stop=exc_stop, inject_code=inject_code,\n",
    "                           inject_path=inject_path, inject_idx=inject_idx)"
   ]
  },
  {
   "cell_type": "markdown",
   "metadata": {},
   "source": [
    "This is the command-line version of `CaptureShell.execute`. Run `exec_nb -h` from the command line to see how to pass arguments. If you don't pass `dest` then the output notebook won't be saved; this is mainly useful for running tests."
   ]
  },
  {
   "cell_type": "markdown",
   "metadata": {},
   "source": [
    "## Completions -"
   ]
  },
  {
   "cell_type": "code",
   "execution_count": null,
   "metadata": {},
   "outputs": [],
   "source": [
    "#| export\n",
    "class SmartCompleter(IPCompleter):\n",
    "    def __init__(self, shell, namespace=None, jedi=False):\n",
    "        if namespace is None: namespace = shell.user_ns\n",
    "        super().__init__(shell, namespace)\n",
    "        self.use_jedi = jedi\n",
    "        sdisp = StrDispatch()\n",
    "        self.custom_completers = sdisp\n",
    "        import_disp = CommandChainDispatcher()\n",
    "        import_disp.add(types.MethodType(module_completer, shell))\n",
    "        sdisp.add_s('import', import_disp)\n",
    "        sdisp.add_s('from', import_disp)\n",
    "\n",
    "    def __call__(self, c):\n",
    "        if not c: return []\n",
    "        with provisionalcompleter():\n",
    "            res = [o.text.rpartition('.')[-1] for o in self.completions(c, len(c)) if o.type!='magic']\n",
    "        if res and res[0][-1]=='=': res = [o for o in res if o[-1]=='=']\n",
    "        return res"
   ]
  },
  {
   "cell_type": "code",
   "execution_count": null,
   "metadata": {},
   "outputs": [],
   "source": [
    "cc = SmartCompleter(get_ipython())\n",
    "\n",
    "def test_set(a,b): return test_eq(set(a), set(b))\n",
    "\n",
    "class _f:\n",
    "    def __init__(self): self.bar,self.baz,self.room = 0,0,0\n",
    "\n",
    "foo = _f()\n",
    "\n",
    "assert set(cc(\"b\")).issuperset(['bool', 'bytes'])\n",
    "test_set(cc(\"foo.b\"), ['bar', 'baz'])\n",
    "test_set(cc(\"x=1; x = foo.b\"), ['bar', 'baz'])\n",
    "test_set(cc(\"ab\"), ['abs'])\n",
    "test_set(cc(\"b = ab\"), ['abs'])\n",
    "test_set(cc(\"\"), [])\n",
    "test_set(cc(\"foo.\"), ['bar', 'baz', 'room'])\n",
    "test_set(cc(\"nonexistent.b\"), [])\n",
    "test_set(cc(\"foo.nonexistent.b\"), [])\n",
    "assert set(cc(\"import ab\")).issuperset(['abc'])\n",
    "test_set(cc(\"from abc import AB\"), ['ABC', 'ABCMeta'])"
   ]
  },
  {
   "cell_type": "code",
   "execution_count": null,
   "metadata": {},
   "outputs": [
    {
     "data": {
      "text/plain": [
       "['n=', 'pat=', 's=']"
      ]
     },
     "execution_count": null,
     "metadata": {},
     "output_type": "execute_result"
    }
   ],
   "source": [
    "s = CaptureShell()\n",
    "cc = SmartCompleter(s)\n",
    "s.run('''def captures(pat, s, n, **kw):\n",
    "    return 1''')\n",
    "cc('captures(')"
   ]
  },
  {
   "cell_type": "code",
   "execution_count": null,
   "metadata": {},
   "outputs": [],
   "source": [
    "#| export\n",
    "@patch\n",
    "def complete(self:CaptureShell, c):\n",
    "    if not hasattr(self, '_completer'): self._completer = SmartCompleter(self)\n",
    "    return self._completer(c)"
   ]
  },
  {
   "cell_type": "code",
   "execution_count": null,
   "metadata": {},
   "outputs": [
    {
     "data": {
      "text/plain": [
       "['bit_count', 'bit_length']"
      ]
     },
     "execution_count": null,
     "metadata": {},
     "output_type": "execute_result"
    }
   ],
   "source": [
    "s = CaptureShell()\n",
    "s.run('a=1')\n",
    "s.complete('a.b')"
   ]
  },
  {
   "cell_type": "code",
   "execution_count": null,
   "metadata": {},
   "outputs": [
    {
     "data": {
      "text/plain": [
       "['flags=', 'pattern=']"
      ]
     },
     "execution_count": null,
     "metadata": {},
     "output_type": "execute_result"
    }
   ],
   "source": [
    "s.run('import re')\n",
    "s.complete('re.compile(')"
   ]
  },
  {
   "cell_type": "markdown",
   "metadata": {},
   "source": [
    "## export -"
   ]
  },
  {
   "cell_type": "code",
   "execution_count": null,
   "metadata": {},
   "outputs": [],
   "source": [
    "#|hide\n",
    "import nbdev; nbdev.nbdev_export()"
   ]
  },
  {
   "cell_type": "code",
   "execution_count": null,
   "metadata": {},
   "outputs": [],
   "source": []
  }
 ],
 "metadata": {
  "kernelspec": {
   "display_name": "python3",
   "language": "python",
   "name": "python3"
  }
 },
 "nbformat": 4,
 "nbformat_minor": 4
}
