{
 "cells": [
  {
   "cell_type": "code",
   "execution_count": null,
   "metadata": {},
   "outputs": [],
   "source": [
    "#|hide\n",
    "#|default_exp shell"
   ]
  },
  {
   "cell_type": "markdown",
   "metadata": {},
   "source": [
    "# shell\n",
    "\n",
    "> A shell for running notebook code without a notebook server"
   ]
  },
  {
   "cell_type": "code",
   "execution_count": null,
   "metadata": {},
   "outputs": [],
   "source": [
    "#|export\n",
    "from fastcore.utils import *\n",
    "from IPython.core.interactiveshell import InteractiveShell\n",
    "from IPython.core.displayhook import DisplayHook\n",
    "from IPython.core.displaypub import DisplayPublisher\n",
    "from io import StringIO\n",
    "\n",
    "from execnb.fastshell import FastInteractiveShell\n",
    "from execnb.nbio import *"
   ]
  },
  {
   "cell_type": "code",
   "execution_count": null,
   "metadata": {},
   "outputs": [],
   "source": [
    "#|export\n",
    "# IPython requires a DisplayHook and DisplayPublisher\n",
    "# We override `__call__` and `publish` to save outputs instead of printing them\n",
    "\n",
    "class _CaptureHook(DisplayHook):\n",
    "    \"Called when displaying a result\"\n",
    "    def __call__(self, result=None):\n",
    "        if result is None: return\n",
    "        self.fill_exec_result(result)\n",
    "        self.shell._result(result)\n",
    "\n",
    "class _CapturePub(DisplayPublisher):\n",
    "    \"Called when adding an output\"\n",
    "    def publish(self, data, metadata=None, **kwargs): self.shell._add_out(data, metadata, typ='display_data')"
   ]
  },
  {
   "cell_type": "code",
   "execution_count": null,
   "metadata": {},
   "outputs": [],
   "source": [
    "#|export\n",
    "# These are the standard notebook formats for exception and stream data (e.g stdout)\n",
    "def _out_exc(ename, evalue, traceback): return dict(ename=str(ename), evalue=str(evalue), output_type='error', traceback=traceback)\n",
    "def _out_stream(text): return dict(name='stdout', output_type='stream', text=text.splitlines(False))"
   ]
  },
  {
   "cell_type": "markdown",
   "metadata": {},
   "source": [
    "## CaptureShell -"
   ]
  },
  {
   "cell_type": "code",
   "execution_count": null,
   "metadata": {},
   "outputs": [],
   "source": [
    "#|export\n",
    "class CaptureShell(FastInteractiveShell):\n",
    "    \"Execute the IPython/Jupyter source code\"\n",
    "    def __init__(self):\n",
    "        super().__init__(displayhook_class=_CaptureHook, display_pub_class=_CapturePub)\n",
    "        InteractiveShell._instance = self\n",
    "        self.result,self.out,self.count = None,[],1\n",
    "        self.run_cell('%matplotlib inline')\n",
    "\n",
    "    def enable_gui(self, gui=None): pass\n",
    "\n",
    "    def _showtraceback(self, etype, evalue, stb: str):\n",
    "        self.out.append(_out_exc(etype, evalue, stb))\n",
    "        self.exc = (etype, evalue, '\\n'.join(stb))\n",
    "\n",
    "    def _add_out(self, data, meta, typ='execute_result', **kwargs): self.out.append(dict(data=data, metadata=meta, output_type=typ, **kwargs))\n",
    "\n",
    "    def _add_exec(self, result, meta, typ='execute_result'):\n",
    "        fd = {k:v.splitlines(True) for k,v in result.items()}\n",
    "        self._add_out(fd, meta, execution_count=self.count)\n",
    "        self.count += 1\n",
    "\n",
    "    def _result(self, result):\n",
    "        self.result = result\n",
    "        self._add_exec(*self.display_formatter.format(result))\n",
    "\n",
    "    def _stream(self, std):\n",
    "        text = std.getvalue()\n",
    "        if text: self.out.append(_out_stream(text))"
   ]
  },
  {
   "cell_type": "code",
   "execution_count": null,
   "metadata": {},
   "outputs": [],
   "source": [
    "s = CaptureShell()"
   ]
  },
  {
   "cell_type": "markdown",
   "metadata": {},
   "source": [
    "### Cells -"
   ]
  },
  {
   "cell_type": "code",
   "execution_count": null,
   "metadata": {},
   "outputs": [],
   "source": [
    "#|export\n",
    "@patch\n",
    "def run(self:CaptureShell, code:str, stdout=True, stderr=True):\n",
    "    \"runs `code`, returning a list of all outputs in Jupyter notebook format\"\n",
    "    self.exc = False\n",
    "    self.out.clear()\n",
    "    self.sys_stdout,self.sys_stderr = sys.stdout,sys.stderr\n",
    "    if stdout: stdout = sys.stdout = StringIO()\n",
    "    if stderr: stderr = sys.stderr = StringIO()\n",
    "    try: self.run_cell(code)\n",
    "    finally: sys.stdout,sys.stderr = self.sys_stdout,self.sys_stderr\n",
    "    self._stream(stdout)\n",
    "    return [*self.out]"
   ]
  },
  {
   "cell_type": "code",
   "execution_count": null,
   "metadata": {},
   "outputs": [
    {
     "data": {
      "text/plain": [
       "[{'name': 'stdout', 'output_type': 'stream', 'text': ['1']}]"
      ]
     },
     "execution_count": null,
     "metadata": {},
     "output_type": "execute_result"
    }
   ],
   "source": [
    "s.run(\"print(1)\")"
   ]
  },
  {
   "cell_type": "markdown",
   "metadata": {},
   "source": [
    "Code can include magics and `!` shell commands:"
   ]
  },
  {
   "cell_type": "code",
   "execution_count": null,
   "metadata": {},
   "outputs": [
    {
     "data": {
      "text/plain": [
       "[{'data': {'text/plain': ['2']},\n",
       "  'metadata': {},\n",
       "  'output_type': 'execute_result',\n",
       "  'execution_count': 1},\n",
       " {'name': 'stdout',\n",
       "  'output_type': 'stream',\n",
       "  'text': ['CPU times: user 1 us, sys: 0 ns, total: 1 us',\n",
       "   'Wall time: 3.34 us']}]"
      ]
     },
     "execution_count": null,
     "metadata": {},
     "output_type": "execute_result"
    }
   ],
   "source": [
    "s.run(\"%time 1+1\")"
   ]
  },
  {
   "cell_type": "markdown",
   "metadata": {},
   "source": [
    "The result of the last successful execution is stored in `result`:"
   ]
  },
  {
   "cell_type": "code",
   "execution_count": null,
   "metadata": {},
   "outputs": [
    {
     "data": {
      "text/plain": [
       "2"
      ]
     },
     "execution_count": null,
     "metadata": {},
     "output_type": "execute_result"
    }
   ],
   "source": [
    "s.result"
   ]
  },
  {
   "cell_type": "markdown",
   "metadata": {},
   "source": [
    "If an exception is raised then the exception type, object, and stacktrace are stored in `exc`:"
   ]
  },
  {
   "cell_type": "code",
   "execution_count": null,
   "metadata": {},
   "outputs": [
    {
     "data": {
      "text/plain": [
       "(Exception, Exception('Oops'))"
      ]
     },
     "execution_count": null,
     "metadata": {},
     "output_type": "execute_result"
    }
   ],
   "source": [
    "s.run('raise Exception(\"Oops\")')\n",
    "typ,obj,st = s.exc\n",
    "typ,obj"
   ]
  },
  {
   "cell_type": "code",
   "execution_count": null,
   "metadata": {},
   "outputs": [
    {
     "name": "stdout",
     "output_type": "stream",
     "text": [
      "\u001b[0;31m---------------------------------------------------------------------------\u001b[0m\n",
      "\u001b[0;31mException\u001b[0m                                 Traceback (most recent call last)\n",
      "Input \u001b[0;32mIn [1]\u001b[0m, in \u001b[0;36m<cell line: 1>\u001b[0;34m()\u001b[0m\n",
      "\u001b[0;32m----> 1\u001b[0m \u001b[38;5;28;01mraise\u001b[39;00m \u001b[38;5;167;01mException\u001b[39;00m(\u001b[38;5;124m\"\u001b[39m\u001b[38;5;124mOops\u001b[39m\u001b[38;5;124m\"\u001b[39m)\n",
      "\n",
      "\u001b[0;31mException\u001b[0m: Oops\n"
     ]
    }
   ],
   "source": [
    "print(st)"
   ]
  },
  {
   "cell_type": "code",
   "execution_count": null,
   "metadata": {},
   "outputs": [],
   "source": [
    "#|export\n",
    "@patch\n",
    "def cell(self:CaptureShell, cell, stdout=True, stderr=True):\n",
    "    \"Run `cell`, skipping if not code, and store outputs back in cell\"\n",
    "    if cell.cell_type!='code': return\n",
    "    outs = self.run(cell.source)\n",
    "    if outs:\n",
    "        cell.outputs = outs\n",
    "        for o in outs:\n",
    "            if 'execution_count' in o: cell['execution_count'] = o['execution_count']"
   ]
  },
  {
   "cell_type": "code",
   "execution_count": null,
   "metadata": {},
   "outputs": [
    {
     "data": {
      "text/markdown": [
       "```json\n",
       "{ 'cell_type': 'code',\n",
       "  'execution_count': None,\n",
       "  'id': 'b123d6d0',\n",
       "  'idx_': 1,\n",
       "  'metadata': {},\n",
       "  'outputs': [],\n",
       "  'source': 'print(1)\\n2'}\n",
       "```"
      ],
      "text/plain": [
       "{'cell_type': 'code',\n",
       " 'execution_count': None,\n",
       " 'id': 'b123d6d0',\n",
       " 'metadata': {},\n",
       " 'outputs': (#0) [],\n",
       " 'source': 'print(1)\\n2',\n",
       " 'idx_': 1}"
      ]
     },
     "execution_count": null,
     "metadata": {},
     "output_type": "execute_result"
    }
   ],
   "source": [
    "clean = Path('../tests/clean.ipynb')\n",
    "nb = read_nb(clean)\n",
    "c = nb.cells[1]\n",
    "c"
   ]
  },
  {
   "cell_type": "code",
   "execution_count": null,
   "metadata": {},
   "outputs": [
    {
     "data": {
      "text/plain": [
       "[{'data': {'text/plain': ['2']},\n",
       "  'metadata': {},\n",
       "  'output_type': 'execute_result',\n",
       "  'execution_count': 2},\n",
       " {'name': 'stdout', 'output_type': 'stream', 'text': ['1']}]"
      ]
     },
     "execution_count": null,
     "metadata": {},
     "output_type": "execute_result"
    }
   ],
   "source": [
    "s.cell(c)\n",
    "c.outputs"
   ]
  },
  {
   "cell_type": "markdown",
   "metadata": {},
   "source": [
    "### NBs -"
   ]
  },
  {
   "cell_type": "code",
   "execution_count": null,
   "metadata": {},
   "outputs": [],
   "source": [
    "#|export\n",
    "@patch\n",
    "def run_all(self:CaptureShell, nb, exc_stop=False, preproc=noop, postproc=noop):\n",
    "    \"Run all cells in `nb`, stopping at first exception if `exc_stop`\"\n",
    "    for cell in nb.cells:\n",
    "        if not preproc(cell):\n",
    "            self.cell(cell)\n",
    "            postproc(cell)\n",
    "        if self.exc and exc_stop: raise self.exc[1] from None"
   ]
  },
  {
   "cell_type": "code",
   "execution_count": null,
   "metadata": {},
   "outputs": [
    {
     "data": {
      "text/plain": [
       "(#0) []"
      ]
     },
     "execution_count": null,
     "metadata": {},
     "output_type": "execute_result"
    }
   ],
   "source": [
    "nb.cells[2].outputs"
   ]
  },
  {
   "cell_type": "code",
   "execution_count": null,
   "metadata": {},
   "outputs": [
    {
     "data": {
      "text/plain": [
       "(#0) []"
      ]
     },
     "execution_count": null,
     "metadata": {},
     "output_type": "execute_result"
    }
   ],
   "source": [
    "s.run_all(nb)\n",
    "nb.cells[2].outputs"
   ]
  },
  {
   "cell_type": "markdown",
   "metadata": {},
   "source": [
    "With `exc_stop=False` (the default), execution continues after exceptions, and exception details are stored into the appropriate cell's output:"
   ]
  },
  {
   "cell_type": "code",
   "execution_count": null,
   "metadata": {},
   "outputs": [
    {
     "data": {
      "text/plain": [
       "'raise Exception(\"Oopsie!\")'"
      ]
     },
     "execution_count": null,
     "metadata": {},
     "output_type": "execute_result"
    }
   ],
   "source": [
    "nb.cells[-1].source"
   ]
  },
  {
   "cell_type": "code",
   "execution_count": null,
   "metadata": {},
   "outputs": [
    {
     "data": {
      "text/plain": [
       "(#0) []"
      ]
     },
     "execution_count": null,
     "metadata": {},
     "output_type": "execute_result"
    }
   ],
   "source": [
    "nb.cells[-1].outputs"
   ]
  },
  {
   "cell_type": "markdown",
   "metadata": {},
   "source": [
    "With `exc_stop=True` (the default), exceptions in a cell are raised and no further processing occurs:"
   ]
  },
  {
   "cell_type": "code",
   "execution_count": null,
   "metadata": {},
   "outputs": [],
   "source": [
    "try: s.run_all(nb, exc_stop=True)\n",
    "except Exception as e: print(f\"got exception: {e}\")"
   ]
  },
  {
   "cell_type": "markdown",
   "metadata": {},
   "source": [
    "We can pass a function to `preproc` to have it run on every cell. It can modify the cell as needed. If the function returns `True`, then that cell will not be executed. For instance, to skip the cell which raises an exception:"
   ]
  },
  {
   "cell_type": "code",
   "execution_count": null,
   "metadata": {},
   "outputs": [],
   "source": [
    "nb = read_nb(clean)\n",
    "s.run_all(nb, preproc=lambda c: 'raise' in c.source)"
   ]
  },
  {
   "cell_type": "markdown",
   "metadata": {},
   "source": [
    "This cell will contain no output, since it was skipped."
   ]
  },
  {
   "cell_type": "code",
   "execution_count": null,
   "metadata": {},
   "outputs": [
    {
     "data": {
      "text/plain": [
       "(#0) []"
      ]
     },
     "execution_count": null,
     "metadata": {},
     "output_type": "execute_result"
    }
   ],
   "source": [
    "nb.cells[-1].outputs"
   ]
  },
  {
   "cell_type": "markdown",
   "metadata": {},
   "source": [
    "You can also pass a function to `postproc` to modify a cell after it is executed."
   ]
  },
  {
   "cell_type": "code",
   "execution_count": null,
   "metadata": {},
   "outputs": [],
   "source": [
    "#|export\n",
    "@patch\n",
    "def execute(self:CaptureShell, src, dest, exc_stop=False, preproc=noop, postproc=noop):\n",
    "    \"Execute notebook from `src` and save with outputs to `dest\"\n",
    "    nb = read_nb(src)\n",
    "    self.run_all(nb, exc_stop=exc_stop, preproc=preproc, postproc=postproc)\n",
    "    write_nb(nb, dest)"
   ]
  },
  {
   "cell_type": "markdown",
   "metadata": {},
   "source": [
    "This is a shortcut for the combination of `read_nb`, `run_all`, and `write_nb`."
   ]
  },
  {
   "cell_type": "code",
   "execution_count": null,
   "metadata": {},
   "outputs": [
    {
     "name": "stdout",
     "output_type": "stream",
     "text": [
      "[{'data': {'text/plain': ['2']}, 'execution_count': 10, 'metadata': {}, 'output_type': 'execute_result'}, {'name': 'stdout', 'output_type': 'stream', 'text': ['1']}]\n"
     ]
    }
   ],
   "source": [
    "try:\n",
    "    s.execute(clean, 'tmp.ipynb')\n",
    "    print(read_nb('tmp.ipynb').cells[1].outputs)\n",
    "finally: Path('tmp.ipynb').unlink()"
   ]
  },
  {
   "cell_type": "markdown",
   "metadata": {},
   "source": [
    "## export -"
   ]
  },
  {
   "cell_type": "code",
   "execution_count": null,
   "metadata": {},
   "outputs": [],
   "source": [
    "#|hide\n",
    "#|eval: false\n",
    "from nbprocess.doclinks import nbprocess_export\n",
    "nbprocess_export()"
   ]
  },
  {
   "cell_type": "code",
   "execution_count": null,
   "metadata": {},
   "outputs": [],
   "source": []
  }
 ],
 "metadata": {
  "kernelspec": {
   "display_name": "Python 3 (ipykernel)",
   "language": "python",
   "name": "python3"
  }
 },
 "nbformat": 4,
 "nbformat_minor": 4
}
