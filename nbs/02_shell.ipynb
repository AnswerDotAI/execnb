{
 "cells": [
  {
   "cell_type": "code",
   "execution_count": null,
   "metadata": {},
   "outputs": [],
   "source": [
    "#|hide\n",
    "#|default_exp shell"
   ]
  },
  {
   "cell_type": "markdown",
   "metadata": {},
   "source": [
    "# shell\n",
    "\n",
    "> A shell for running notebook code without a notebook server"
   ]
  },
  {
   "cell_type": "code",
   "execution_count": null,
   "metadata": {},
   "outputs": [],
   "source": [
    "#|export\n",
    "from __future__ import annotations\n",
    "\n",
    "from fastcore.utils import *\n",
    "from fastcore.script import call_parse\n",
    "from fastcore.ansi import ansi2html, strip_ansi\n",
    "\n",
    "import multiprocessing,types,traceback,signal\n",
    "try:\n",
    "    if sys.platform == 'darwin': multiprocessing.set_start_method(\"fork\")\n",
    "except RuntimeError: pass # if re-running cell\n",
    "\n",
    "from IPython.core.interactiveshell import InteractiveShell, ExecutionInfo, ExecutionResult\n",
    "from IPython.core.displayhook import DisplayHook\n",
    "from IPython.utils.capture import capture_output\n",
    "from IPython.core.completer import IPCompleter,provisionalcompleter,Completer\n",
    "from IPython.core.hooks import CommandChainDispatcher\n",
    "from IPython.core.completerlib import module_completer\n",
    "from IPython.utils.strdispatch import StrDispatch\n",
    "from IPython.display import display as disp, HTML\n",
    "\n",
    "from base64 import b64encode\n",
    "from html import escape\n",
    "try: from matplotlib_inline.backend_inline import set_matplotlib_formats\n",
    "except ImportError: set_matplotlib_formats = None\n",
    "\n",
    "\n",
    "from execnb.nbio import *\n",
    "from execnb.nbio import _dict2obj\n"
   ]
  },
  {
   "cell_type": "code",
   "execution_count": null,
   "metadata": {},
   "outputs": [],
   "source": [
    "from fastcore.test import *\n",
    "from base64 import b64decode\n",
    "from io import BytesIO\n",
    "from PIL import Image"
   ]
  },
  {
   "cell_type": "markdown",
   "metadata": {},
   "source": [
    "## CaptureShell -"
   ]
  },
  {
   "cell_type": "code",
   "execution_count": null,
   "metadata": {},
   "outputs": [],
   "source": [
    "#|export\n",
    "class _CustDisplayHook(DisplayHook):\n",
    "    def write_output_prompt(self): pass\n",
    "    def write_format_data(self, data, md_dict): pass\n",
    "    def log_output(self, format_dict): pass\n",
    "\n",
    "@patch\n",
    "def __repr__(self: ExecutionInfo): return f'cell: {self.raw_cell}; id: {self.cell_id}'\n",
    "\n",
    "@patch\n",
    "def __repr__(self: ExecutionResult): return f'result: {self.result}; err: {self.error_in_exec}; info: <{self.info}>'"
   ]
  },
  {
   "cell_type": "code",
   "execution_count": null,
   "metadata": {},
   "outputs": [],
   "source": [
    "#|export\n",
    "class CaptureShell(InteractiveShell):\n",
    "    displayhook_class = _CustDisplayHook\n",
    "\n",
    "    def __init__(self, path:str|Path=None, mpl_format='retina', history=False, timeout:Optional[int]=None):\n",
    "        super().__init__()\n",
    "        self.history_manager.enabled = history\n",
    "        self.timeout = timeout\n",
    "        self.result,self.exc = None,None\n",
    "        if path: self.set_path(path)\n",
    "        self.display_formatter.active = True\n",
    "        if not IN_NOTEBOOK: InteractiveShell._instance = self\n",
    "        if set_matplotlib_formats:\n",
    "            self.enable_matplotlib(\"inline\")\n",
    "            self._run(\"from matplotlib_inline.backend_inline import set_matplotlib_formats\")\n",
    "            self._run(f\"set_matplotlib_formats('{mpl_format}')\")\n",
    "\n",
    "    def _run(self, raw_cell, store_history=False, silent=False, shell_futures=True, cell_id=None,\n",
    "                 stdout=True, stderr=True, display=True):\n",
    "        # TODO what if there's a comment?\n",
    "        semic = raw_cell.rstrip().endswith(';')\n",
    "        with capture_output(display=display, stdout=stdout, stderr=stderr) as c:\n",
    "            result = super().run_cell(raw_cell, store_history, silent, shell_futures=shell_futures, cell_id=cell_id)\n",
    "        return AttrDict(result=result, stdout='' if semic else c.stdout, stderr=c.stderr,\n",
    "                        display_objects=c.outputs, exception=result.error_in_exec, quiet=semic)\n",
    "    \n",
    "    def set_path(self, path):\n",
    "        \"Add `path` to python path, or `path.parent` if it's a file\"\n",
    "        path = Path(path)\n",
    "        if path.is_file(): path = path.parent\n",
    "        self._run(f\"import sys; sys.path.insert(0, '{path.as_posix()}')\")\n",
    "    \n",
    "    def enable_gui(self, gui=None): pass"
   ]
  },
  {
   "cell_type": "code",
   "execution_count": null,
   "metadata": {},
   "outputs": [],
   "source": [
    "#|export\n",
    "@patch\n",
    "def run_cell(self:CaptureShell, raw_cell, store_history=False, silent=False, shell_futures=True, cell_id=None,\n",
    "             stdout=True, stderr=True, display=True, timeout=None):\n",
    "    if not timeout: timeout = self.timeout\n",
    "    if timeout:\n",
    "        def handler(*args): raise TimeoutError()\n",
    "        signal.signal(signal.SIGALRM, handler)\n",
    "        signal.alarm(timeout)\n",
    "    try: return self._run(raw_cell, store_history, silent, shell_futures, cell_id=cell_id,\n",
    "                          stdout=stdout, stderr=stderr, display=display)\n",
    "    finally:\n",
    "        if timeout: signal.alarm(0)"
   ]
  },
  {
   "cell_type": "code",
   "execution_count": null,
   "metadata": {},
   "outputs": [],
   "source": [
    "s = CaptureShell(mpl_format='retina')"
   ]
  },
  {
   "cell_type": "code",
   "execution_count": null,
   "metadata": {},
   "outputs": [],
   "source": [
    "s.run_cell('a=1');"
   ]
  },
  {
   "cell_type": "code",
   "execution_count": null,
   "metadata": {},
   "outputs": [
    {
     "data": {
      "text/markdown": [
       "```json\n",
       "{ 'display_objects': [],\n",
       "  'exception': None,\n",
       "  'quiet': False,\n",
       "  'result': result: None; err: None; info: <cell: print(a); id: None>,\n",
       "  'stderr': '',\n",
       "  'stdout': '1\\n'}\n",
       "```"
      ],
      "text/plain": [
       "{'result': result: None; err: None; info: <cell: print(a); id: None>,\n",
       " 'stdout': '1\\n',\n",
       " 'stderr': '',\n",
       " 'display_objects': [],\n",
       " 'exception': None,\n",
       " 'quiet': False}"
      ]
     },
     "execution_count": null,
     "metadata": {},
     "output_type": "execute_result"
    }
   ],
   "source": [
    "o = s.run_cell('print(a)')\n",
    "o"
   ]
  },
  {
   "cell_type": "code",
   "execution_count": null,
   "metadata": {},
   "outputs": [
    {
     "data": {
      "text/markdown": [
       "```json\n",
       "{ 'display_objects': [],\n",
       "  'exception': None,\n",
       "  'quiet': False,\n",
       "  'result': result: None; err: None; info: <cell: from warnings import warn; warn(\"1\"); id: None>,\n",
       "  'stderr': '<ipython-input-1-a51443ae013a>:1: UserWarning: 1\\n'\n",
       "            '  from warnings import warn; warn(\"1\")\\n',\n",
       "  'stdout': ''}\n",
       "```"
      ],
      "text/plain": [
       "{'result': result: None; err: None; info: <cell: from warnings import warn; warn(\"1\"); id: None>,\n",
       " 'stdout': '',\n",
       " 'stderr': '<ipython-input-1-a51443ae013a>:1: UserWarning: 1\\n  from warnings import warn; warn(\"1\")\\n',\n",
       " 'display_objects': [],\n",
       " 'exception': None,\n",
       " 'quiet': False}"
      ]
     },
     "execution_count": null,
     "metadata": {},
     "output_type": "execute_result"
    }
   ],
   "source": [
    "o = s.run_cell('from warnings import warn; warn(\"1\")')\n",
    "o"
   ]
  },
  {
   "cell_type": "code",
   "execution_count": null,
   "metadata": {},
   "outputs": [
    {
     "data": {
      "text/markdown": [
       "```json\n",
       "{ 'display_objects': [],\n",
       "  'exception': None,\n",
       "  'quiet': False,\n",
       "  'result': result: 1; err: None; info: <cell: 1; id: None>,\n",
       "  'stderr': '',\n",
       "  'stdout': ''}\n",
       "```"
      ],
      "text/plain": [
       "{'result': result: 1; err: None; info: <cell: 1; id: None>,\n",
       " 'stdout': '',\n",
       " 'stderr': '',\n",
       " 'display_objects': [],\n",
       " 'exception': None,\n",
       " 'quiet': False}"
      ]
     },
     "execution_count": null,
     "metadata": {},
     "output_type": "execute_result"
    }
   ],
   "source": [
    "o = s.run_cell('1')\n",
    "o"
   ]
  },
  {
   "cell_type": "code",
   "execution_count": null,
   "metadata": {},
   "outputs": [
    {
     "data": {
      "text/markdown": [
       "```json\n",
       "{ 'display_objects': [<IPython.utils.capture.RichOutput object>],\n",
       "  'exception': None,\n",
       "  'quiet': False,\n",
       "  'result': result: <IPython.core.display.Markdown object>; err: None; info: <cell: from IPython.display import Markdown,display; print(0); display(Markdown(\"*2*\")); Markdown(\"*1*\"); id: None>,\n",
       "  'stderr': '',\n",
       "  'stdout': '0\\n'}\n",
       "```"
      ],
      "text/plain": [
       "{'result': result: <IPython.core.display.Markdown object>; err: None; info: <cell: from IPython.display import Markdown,display; print(0); display(Markdown(\"*2*\")); Markdown(\"*1*\"); id: None>,\n",
       " 'stdout': '0\\n',\n",
       " 'stderr': '',\n",
       " 'display_objects': [<IPython.utils.capture.RichOutput>],\n",
       " 'exception': None,\n",
       " 'quiet': False}"
      ]
     },
     "execution_count": null,
     "metadata": {},
     "output_type": "execute_result"
    }
   ],
   "source": [
    "o = s.run_cell('from IPython.display import Markdown,display; print(0); display(Markdown(\"*2*\")); Markdown(\"*1*\")')\n",
    "o"
   ]
  },
  {
   "cell_type": "code",
   "execution_count": null,
   "metadata": {},
   "outputs": [
    {
     "data": {
      "text/markdown": [
       "*1*"
      ],
      "text/plain": [
       "<IPython.core.display.Markdown object>"
      ]
     },
     "execution_count": null,
     "metadata": {},
     "output_type": "execute_result"
    }
   ],
   "source": [
    "o.result.result"
   ]
  },
  {
   "cell_type": "code",
   "execution_count": null,
   "metadata": {},
   "outputs": [
    {
     "data": {
      "text/markdown": [
       "*2*"
      ],
      "text/plain": [
       "<IPython.core.display.Markdown object>"
      ]
     },
     "execution_count": null,
     "metadata": {},
     "output_type": "execute_result"
    }
   ],
   "source": [
    "o.display_objects[0]"
   ]
  },
  {
   "cell_type": "code",
   "execution_count": null,
   "metadata": {},
   "outputs": [
    {
     "data": {
      "text/markdown": [
       "```json\n",
       "{ 'display_objects': [],\n",
       "  'exception': None,\n",
       "  'quiet': True,\n",
       "  'result': result: 1; err: None; info: <cell: 1;; id: None>,\n",
       "  'stderr': '',\n",
       "  'stdout': ''}\n",
       "```"
      ],
      "text/plain": [
       "{'result': result: 1; err: None; info: <cell: 1;; id: None>,\n",
       " 'stdout': '',\n",
       " 'stderr': '',\n",
       " 'display_objects': [],\n",
       " 'exception': None,\n",
       " 'quiet': True}"
      ]
     },
     "execution_count": null,
     "metadata": {},
     "output_type": "execute_result"
    }
   ],
   "source": [
    "o = s.run_cell('1;')\n",
    "o"
   ]
  },
  {
   "cell_type": "code",
   "execution_count": null,
   "metadata": {},
   "outputs": [
    {
     "data": {
      "text/markdown": [
       "```json\n",
       "{ 'display_objects': [<IPython.utils.capture.RichOutput object>],\n",
       "  'exception': None,\n",
       "  'quiet': False,\n",
       "  'result': result: [<matplotlib.lines.Line2D object>]; err: None; info: <cell: import matplotlib.pyplot as plt; plt.plot([1,2,3]); id: None>,\n",
       "  'stderr': '',\n",
       "  'stdout': ''}\n",
       "```"
      ],
      "text/plain": [
       "{'result': result: [<matplotlib.lines.Line2D object>]; err: None; info: <cell: import matplotlib.pyplot as plt; plt.plot([1,2,3]); id: None>,\n",
       " 'stdout': '',\n",
       " 'stderr': '',\n",
       " 'display_objects': [<IPython.utils.capture.RichOutput>],\n",
       " 'exception': None,\n",
       " 'quiet': False}"
      ]
     },
     "execution_count": null,
     "metadata": {},
     "output_type": "execute_result"
    }
   ],
   "source": [
    "o = s.run_cell('import matplotlib.pyplot as plt; plt.plot([1,2,3])')\n",
    "o"
   ]
  },
  {
   "cell_type": "code",
   "execution_count": null,
   "metadata": {},
   "outputs": [
    {
     "data": {
      "text/plain": [
       "<matplotlib.lines.Line2D>"
      ]
     },
     "execution_count": null,
     "metadata": {},
     "output_type": "execute_result"
    }
   ],
   "source": [
    "o.result.result[0]"
   ]
  },
  {
   "cell_type": "code",
   "execution_count": null,
   "metadata": {},
   "outputs": [
    {
     "data": {
      "image/png": "[encoded data removed]",
      "text/plain": [
       "<Figure size 640x480 with 1 Axes>"
      ]
     },
     "execution_count": null,
     "metadata": {
      "image/png": {
       "height": 413,
       "width": 556
      }
     },
     "output_type": "execute_result"
    }
   ],
   "source": [
    "o.display_objects[0]"
   ]
  },
  {
   "cell_type": "code",
   "execution_count": null,
   "metadata": {},
   "outputs": [
    {
     "data": {
      "text/markdown": [
       "```json\n",
       "{ 'display_objects': [],\n",
       "  'exception': None,\n",
       "  'quiet': False,\n",
       "  'result': result:    A  B\n",
       "0  1  3\n",
       "1  2  4; err: None; info: <cell: \n",
       "import pandas as pd\n",
       "pd.DataFrame({'A': [1, 2], 'B': [3, 4]}); id: None>,\n",
       "  'stderr': '',\n",
       "  'stdout': ''}\n",
       "```"
      ],
      "text/plain": [
       "{'result': result:    A  B\n",
       " 0  1  3\n",
       " 1  2  4; err: None; info: <cell: \n",
       " import pandas as pd\n",
       " pd.DataFrame({'A': [1, 2], 'B': [3, 4]}); id: None>,\n",
       " 'stdout': '',\n",
       " 'stderr': '',\n",
       " 'display_objects': [],\n",
       " 'exception': None,\n",
       " 'quiet': False}"
      ]
     },
     "execution_count": null,
     "metadata": {},
     "output_type": "execute_result"
    }
   ],
   "source": [
    "o = s.run_cell('''\n",
    "import pandas as pd\n",
    "pd.DataFrame({'A': [1, 2], 'B': [3, 4]})''')\n",
    "o"
   ]
  },
  {
   "cell_type": "code",
   "execution_count": null,
   "metadata": {},
   "outputs": [
    {
     "data": {
      "text/html": [
       "<div>\n",
       "<style scoped>\n",
       "    .dataframe tbody tr th:only-of-type {\n",
       "        vertical-align: middle;\n",
       "    }\n",
       "\n",
       "    .dataframe tbody tr th {\n",
       "        vertical-align: top;\n",
       "    }\n",
       "\n",
       "    .dataframe thead th {\n",
       "        text-align: right;\n",
       "    }\n",
       "</style>\n",
       "<table border=\"1\" class=\"dataframe\">\n",
       "  <thead>\n",
       "    <tr style=\"text-align: right;\">\n",
       "      <th></th>\n",
       "      <th>A</th>\n",
       "      <th>B</th>\n",
       "    </tr>\n",
       "  </thead>\n",
       "  <tbody>\n",
       "    <tr>\n",
       "      <th>0</th>\n",
       "      <td>1</td>\n",
       "      <td>3</td>\n",
       "    </tr>\n",
       "    <tr>\n",
       "      <th>1</th>\n",
       "      <td>2</td>\n",
       "      <td>4</td>\n",
       "    </tr>\n",
       "  </tbody>\n",
       "</table>\n",
       "</div>"
      ],
      "text/plain": [
       "   A  B\n",
       "0  1  3\n",
       "1  2  4"
      ]
     },
     "execution_count": null,
     "metadata": {},
     "output_type": "execute_result"
    }
   ],
   "source": [
    "o.result.result"
   ]
  },
  {
   "cell_type": "code",
   "execution_count": null,
   "metadata": {},
   "outputs": [
    {
     "data": {
      "text/markdown": [
       "```json\n",
       "{ 'display_objects': [],\n",
       "  'exception': ZeroDivisionError('division by zero'),\n",
       "  'quiet': False,\n",
       "  'result': result: None; err: division by zero; info: <cell: 1/0; id: None>,\n",
       "  'stderr': '',\n",
       "  'stdout': '\\x1b[31m---------------------------------------------------------------------------\\x1b[39m\\n'\n",
       "            '\\x1b[31mZeroDivisionError\\x1b[39m                         '\n",
       "            'Traceback (most recent call last)\\n'\n",
       "            '\\x1b[36mFile '\n",
       "            '\\x1b[39m\\x1b[32m<ipython-input-1-9e1622b385b6>:1\\x1b[39m\\n'\n",
       "            '\\x1b[32m----> \\x1b[39m\\x1b[32m1\\x1b[39m '\n",
       "            '\\x1b[32;43m1\\x1b[39;49m\\x1b[43m/\\x1b[49m\\x1b[32;43m0\\x1b[39;49m\\n'\n",
       "            '\\n'\n",
       "            '\\x1b[31mZeroDivisionError\\x1b[39m: division by zero\\n'}\n",
       "```"
      ],
      "text/plain": [
       "{'result': result: None; err: division by zero; info: <cell: 1/0; id: None>,\n",
       " 'stdout': '\\x1b[31m---------------------------------------------------------------------------\\x1b[39m\\n\\x1b[31mZeroDivisionError\\x1b[39m                         Traceback (most recent call last)\\n\\x1b[36mFile \\x1b[39m\\x1b[32m<ipython-input-1-9e1622b385b6>:1\\x1b[39m\\n\\x1b[32m----> \\x1b[39m\\x1b[32m1\\x1b[39m \\x1b[32;43m1\\x1b[39;49m\\x1b[43m/\\x1b[49m\\x1b[32;43m0\\x1b[39;49m\\n\\n\\x1b[31mZeroDivisionError\\x1b[39m: division by zero\\n',\n",
       " 'stderr': '',\n",
       " 'display_objects': [],\n",
       " 'exception': ZeroDivisionError('division by zero'),\n",
       " 'quiet': False}"
      ]
     },
     "execution_count": null,
     "metadata": {},
     "output_type": "execute_result"
    }
   ],
   "source": [
    "o = s.run_cell('1/0')\n",
    "o"
   ]
  },
  {
   "cell_type": "code",
   "execution_count": null,
   "metadata": {},
   "outputs": [
    {
     "data": {
      "text/plain": [
       "TimeoutError()"
      ]
     },
     "execution_count": null,
     "metadata": {},
     "output_type": "execute_result"
    }
   ],
   "source": [
    "o = s.run_cell('import time; time.sleep(2)', timeout=1)\n",
    "o['exception']"
   ]
  },
  {
   "cell_type": "markdown",
   "metadata": {},
   "source": [
    "### Cells"
   ]
  },
  {
   "cell_type": "code",
   "execution_count": null,
   "metadata": {},
   "outputs": [],
   "source": [
    "#| export\n",
    "def format_exc(e):\n",
    "    \"Format exception `e` as a string list\"\n",
    "    return traceback.format_exception(type(e), e, e.__traceback__)"
   ]
  },
  {
   "cell_type": "code",
   "execution_count": null,
   "metadata": {},
   "outputs": [],
   "source": [
    "#|export\n",
    "def _out_stream(text, name): return dict(name=name, output_type='stream', text=text.splitlines(True))\n",
    "def _out_exc(e):\n",
    "    ename = type(e).__name__\n",
    "    tb = traceback.extract_tb(e.__traceback__)#.format()\n",
    "    return dict(ename=str(ename), evalue=str(e), output_type='error', traceback=format_exc(e))\n",
    "\n",
    "def _format_mimedata(k, v):\n",
    "    \"Format mime-type keyed data consistently with Jupyter\"\n",
    "    if k.startswith('text/'): return v.splitlines(True)\n",
    "    if k.startswith('image/') and isinstance(v, bytes):\n",
    "        v = b64encode(v).decode()\n",
    "        return v+'\\n' if not v.endswith('\\n') else v\n",
    "    return v\n",
    "\n",
    "def _mk_out(data, meta, output_type='display_data'):\n",
    "    fd = {k:_format_mimedata(k,v) for k,v in data.items()}\n",
    "    return dict(data=fd, metadata=meta, output_type=output_type)\n",
    "\n",
    "def _out_nb(o, fmt):\n",
    "    res = []\n",
    "    if o.stdout: res.append(_out_stream(o.stdout, 'stdout'))\n",
    "    if o.stderr: res.append(_out_stream(o.stderr, 'stderr'))\n",
    "    if o.exception: res.append(_out_exc(o.exception))\n",
    "    r = o.result.result\n",
    "    for x in o.display_objects: res.append(_mk_out(x.data, x.metadata))\n",
    "    if r is not None and not o.quiet:\n",
    "        res.append(_mk_out(*fmt.format(r), 'execute_result'))\n",
    "    if 'execution_count' not in o: o['execution_count']=None\n",
    "    for p in res:\n",
    "        if p[\"output_type\"]==\"execute_result\": p['execution_count'] = o['execution_count']\n",
    "    return res"
   ]
  },
  {
   "cell_type": "code",
   "execution_count": null,
   "metadata": {},
   "outputs": [],
   "source": [
    "#|export\n",
    "@patch\n",
    "def run(self:CaptureShell,\n",
    "        code:str, # Python/IPython code to run\n",
    "        stdout=True, # Capture stdout and save as output?\n",
    "        stderr=True, # Capture stderr and save as output?\n",
    "       timeout:Optional[int]=None): # Shell command will time out after {timeout} seconds\n",
    "    \"Run `code`, returning a list of all outputs in Jupyter notebook format\"\n",
    "    res = self.run_cell(code, stdout=stdout, stderr=stderr, timeout=timeout)\n",
    "    self.result = res.result.result\n",
    "    self.exc = res.exception\n",
    "    return _out_nb(res, self.display_formatter)"
   ]
  },
  {
   "cell_type": "code",
   "execution_count": null,
   "metadata": {},
   "outputs": [],
   "source": [
    "s = CaptureShell()"
   ]
  },
  {
   "cell_type": "code",
   "execution_count": null,
   "metadata": {},
   "outputs": [
    {
     "data": {
      "text/plain": [
       "[{'name': 'stdout', 'output_type': 'stream', 'text': ['1\\n']}]"
      ]
     },
     "execution_count": null,
     "metadata": {},
     "output_type": "execute_result"
    }
   ],
   "source": [
    "s.run(\"print(1)\")"
   ]
  },
  {
   "cell_type": "markdown",
   "metadata": {},
   "source": [
    "Code can include magics and `!` shell commands:"
   ]
  },
  {
   "cell_type": "code",
   "execution_count": null,
   "metadata": {},
   "outputs": [
    {
     "data": {
      "text/plain": [
       "[{'name': 'stdout',\n",
       "  'output_type': 'stream',\n",
       "  'text': ['CPU times: user 1 us, sys: 1 us, total: 2 us\\n',\n",
       "   'Wall time: 3.1 us\\n']},\n",
       " {'data': {'text/plain': ['2']},\n",
       "  'metadata': {},\n",
       "  'output_type': 'execute_result',\n",
       "  'execution_count': None}]"
      ]
     },
     "execution_count": null,
     "metadata": {},
     "output_type": "execute_result"
    }
   ],
   "source": [
    "o = s.run(\"%time 1+1\")\n",
    "o"
   ]
  },
  {
   "cell_type": "markdown",
   "metadata": {},
   "source": [
    "The result of the last successful execution is stored in `result`:"
   ]
  },
  {
   "cell_type": "code",
   "execution_count": null,
   "metadata": {},
   "outputs": [
    {
     "data": {
      "text/plain": [
       "2"
      ]
     },
     "execution_count": null,
     "metadata": {},
     "output_type": "execute_result"
    }
   ],
   "source": [
    "s.result"
   ]
  },
  {
   "cell_type": "markdown",
   "metadata": {},
   "source": [
    "A trailing `;` stops the result from being captured:"
   ]
  },
  {
   "cell_type": "code",
   "execution_count": null,
   "metadata": {},
   "outputs": [
    {
     "data": {
      "text/plain": [
       "[]"
      ]
     },
     "execution_count": null,
     "metadata": {},
     "output_type": "execute_result"
    }
   ],
   "source": [
    "s.run(\"1+2;\")"
   ]
  },
  {
   "cell_type": "code",
   "execution_count": null,
   "metadata": {},
   "outputs": [
    {
     "data": {
      "text/plain": [
       "[{'name': 'stdout',\n",
       "  'output_type': 'stream',\n",
       "  'text': ['\\x1b[31m---------------------------------------------------------------------------\\x1b[39m\\n',\n",
       "   '\\x1b[31mZeroDivisionError\\x1b[39m                         Traceback (most recent call last)\\n',\n",
       "   '\\x1b[36mFile \\x1b[39m\\x1b[32m<ipython-input-1-9e1622b385b6>:1\\x1b[39m\\n',\n",
       "   '\\x1b[32m----> \\x1b[39m\\x1b[32m1\\x1b[39m \\x1b[32;43m1\\x1b[39;49m\\x1b[43m/\\x1b[49m\\x1b[32;43m0\\x1b[39;49m\\n',\n",
       "   '\\n',\n",
       "   '\\x1b[31mZeroDivisionError\\x1b[39m: division by zero\\n']},\n",
       " {'ename': 'ZeroDivisionError',\n",
       "  'evalue': 'division by zero',\n",
       "  'output_type': 'error',\n",
       "  'traceback': ['Traceback (most recent call last):\\n',\n",
       "   '  File \"/Users/iflath/.venv/lib/python3.12/site-packages/IPython/core/interactiveshell.py\", line 3546, in run_code\\n    exec(code_obj, self.user_global_ns, self.user_ns)\\n',\n",
       "   '  File \"<ipython-input-1-9e1622b385b6>\", line 1, in <module>\\n    1/0\\n    ~^~\\n',\n",
       "   'ZeroDivisionError: division by zero\\n']}]"
      ]
     },
     "execution_count": null,
     "metadata": {},
     "output_type": "execute_result"
    }
   ],
   "source": [
    "o = s.run(\"1/0\")\n",
    "o"
   ]
  },
  {
   "cell_type": "markdown",
   "metadata": {},
   "source": [
    "This is how IPython formats exceptions internally:"
   ]
  },
  {
   "cell_type": "code",
   "execution_count": null,
   "metadata": {},
   "outputs": [],
   "source": [
    "from IPython.core.ultratb import VerboseTB\n",
    "with warnings.catch_warnings():\n",
    "    warnings.filterwarnings(\"ignore\", category=DeprecationWarning)\n",
    "    formatter = VerboseTB(color_scheme='Linux')"
   ]
  },
  {
   "cell_type": "code",
   "execution_count": null,
   "metadata": {},
   "outputs": [
    {
     "name": "stdout",
     "output_type": "stream",
     "text": [
      "\u001b[91m---------------------------------------------------------------------------\u001b[39m\n",
      "\u001b[91mNameError\u001b[39m                                 Traceback (most recent call last)\n",
      "\u001b[96mCell\u001b[39m\u001b[96m \u001b[39m\u001b[32mIn[33]\u001b[39m\u001b[32m, line 1\u001b[39m\n",
      "\u001b[92m----> \u001b[39m\u001b[92m1\u001b[39m \u001b[38;5;81mtry\u001b[39m\u001b[38;5;15m:\u001b[39m\u001b[38;5;15m \u001b[39m\u001b[38;5;15mf\u001b[39m\u001b[38;5;15m(\u001b[39m\u001b[38;5;15m)\u001b[39m\n",
      "\u001b[92m      2\u001b[39m \u001b[38;5;81mexcept\u001b[39m\u001b[38;5;15m \u001b[39m\u001b[38;5;148mException\u001b[39m\u001b[38;5;15m \u001b[39m\u001b[38;5;81mas\u001b[39m\u001b[38;5;15m \u001b[39m\u001b[38;5;15me\u001b[39m\u001b[38;5;15m:\u001b[39m\n",
      "\u001b[92m      3\u001b[39m \u001b[38;5;15m    \u001b[39m\u001b[38;5;15mex\u001b[39m\u001b[38;5;15m \u001b[39m\u001b[38;5;204m=\u001b[39m\u001b[38;5;15m \u001b[39m\u001b[38;5;15me\u001b[39m\n",
      "\n",
      "\u001b[91mNameError\u001b[39m: name 'f' is not defined\n"
     ]
    }
   ],
   "source": [
    "try: f()\n",
    "except Exception as e:\n",
    "    ex = e\n",
    "    print(formatter.text(type(e), e, e.__traceback__))"
   ]
  },
  {
   "cell_type": "code",
   "execution_count": null,
   "metadata": {},
   "outputs": [
    {
     "data": {
      "text/plain": [
       "[{'name': 'stdout', 'output_type': 'stream', 'text': ['no timeout\\n']}]"
      ]
     },
     "execution_count": null,
     "metadata": {},
     "output_type": "execute_result"
    }
   ],
   "source": [
    "s.run(\"import time; time.sleep(0.1); print('no timeout')\", timeout=1)"
   ]
  },
  {
   "cell_type": "code",
   "execution_count": null,
   "metadata": {},
   "outputs": [
    {
     "data": {
      "text/plain": [
       "['\\x1b[31m---------------------------------------------------------------------------\\x1b[39m\\n',\n",
       " '\\x1b[31mTimeoutError\\x1b[39m                              Traceback (most recent call last)\\n']"
      ]
     },
     "execution_count": null,
     "metadata": {},
     "output_type": "execute_result"
    }
   ],
   "source": [
    "o = s.run(\"import time; time.sleep(1.1)\", timeout=1)\n",
    "o[0]['text'][:2]"
   ]
  },
  {
   "cell_type": "code",
   "execution_count": null,
   "metadata": {},
   "outputs": [
    {
     "data": {
      "text/plain": [
       "[{'name': 'stdout', 'output_type': 'stream', 'text': ['0\\n', '1\\n']},\n",
       " {'data': {'text/plain': ['<IPython.core.display.Markdown object>'],\n",
       "   'text/markdown': ['*2*']},\n",
       "  'metadata': {},\n",
       "  'output_type': 'display_data'},\n",
       " {'data': {'text/plain': ['<IPython.core.display.Markdown object>'],\n",
       "   'text/markdown': ['*1*']},\n",
       "  'metadata': {},\n",
       "  'output_type': 'execute_result',\n",
       "  'execution_count': None}]"
      ]
     },
     "execution_count": null,
     "metadata": {},
     "output_type": "execute_result"
    }
   ],
   "source": [
    "o1 = s.run('from IPython.display import Markdown,display; print(0); print(1); display(Markdown(\"*2*\")); Markdown(\"*1*\")')\n",
    "o1"
   ]
  },
  {
   "cell_type": "code",
   "execution_count": null,
   "metadata": {},
   "outputs": [],
   "source": [
    "#| export\n",
    "@patch\n",
    "async def run_async(self:CaptureShell,\n",
    "        code: str,  # Python/IPython code to run\n",
    "        stdout=True,  # Capture stdout and save as output?\n",
    "        stderr=True,  # Capture stderr and save as output?\n",
    "        timeout:Optional[int]=None): # Shell command will time out after {timeout} seconds\n",
    "    return self.run(code, stdout=stdout, stderr=stderr, timeout=timeout)"
   ]
  },
  {
   "cell_type": "code",
   "execution_count": null,
   "metadata": {},
   "outputs": [
    {
     "data": {
      "text/plain": [
       "[{'data': {'text/plain': ['2']},\n",
       "  'metadata': {},\n",
       "  'output_type': 'execute_result',\n",
       "  'execution_count': None}]"
      ]
     },
     "execution_count": null,
     "metadata": {},
     "output_type": "execute_result"
    }
   ],
   "source": [
    "await s.run_async(\"1+1\")"
   ]
  },
  {
   "cell_type": "code",
   "execution_count": null,
   "metadata": {},
   "outputs": [],
   "source": [
    "#| export\n",
    "def _pre(s, xtra=''): return f\"<pre {xtra}><code>{escape(s)}</code></pre>\"\n",
    "def _strip(s): return strip_ansi(escape(s))\n",
    "\n",
    "def render_outputs(outputs, ansi_renderer=_strip, include_imgs=True, pygments=False, md_tfm=noop, html_tfm=noop):\n",
    "    try:\n",
    "        from mistletoe import markdown, HTMLRenderer\n",
    "        from mistletoe.contrib.pygments_renderer import PygmentsRenderer\n",
    "    except ImportError: return print('mistletoe not found -- please install it')\n",
    "    renderer = PygmentsRenderer if pygments else HTMLRenderer\n",
    "    \n",
    "    def render_output(out):\n",
    "        otype = out['output_type']\n",
    "        if otype == 'stream':\n",
    "            txt = ansi_renderer(''.join(out[\"text\"]))\n",
    "            xtra = '' if out['name']=='stdout' else \"class='stderr'\"\n",
    "            is_err = '<span class' in txt\n",
    "            return f\"<pre {xtra}><code class='{'nohighlight hljs' if is_err else ''}'>{txt}</code></pre>\"\n",
    "        elif otype in ('display_data','execute_result'):\n",
    "            data = out['data']\n",
    "            _g = lambda t: ''.join(data[t]) if t in data else None\n",
    "            if d := _g('text/html'): return html_tfm(d)\n",
    "            if d := _g('application/javascript'): return f'<script>{d}</script>'\n",
    "            if d := _g('text/markdown'): return md_tfm(markdown(d, renderer=renderer))\n",
    "            if d := _g('text/latex'): return f'<div class=\"math\">${d}$</div>'\n",
    "            if include_imgs:\n",
    "                if d := _g('image/jpeg'): return f'<img src=\"data:image/jpeg;base64,{d}\"/>'\n",
    "                if d := _g('image/png'): return f'<img src=\"data:image/png;base64,{d}\"/>'\n",
    "            if d := _g('text/plain'): return _pre(d)\n",
    "            if d := _g('image/svg+xml'): return d\n",
    "            \n",
    "        return ''\n",
    "\n",
    "    return '\\n'.join(map(render_output, outputs))"
   ]
  },
  {
   "cell_type": "code",
   "execution_count": null,
   "metadata": {},
   "outputs": [
    {
     "data": {
      "text/html": [
       "<pre ><code class=''>---------------------------------------------------------------------------\n",
       "TimeoutError                              Traceback (most recent call last)\n",
       "File &lt;ipython-input-1-a5c3817716b6&gt;:1\n",
       "----&gt; 1 import time; time.sleep(1.1)\n",
       "\n",
       "Cell In[6], line 7, in run_cell.&lt;locals&gt;.handler(*args)\n",
       "      5 if not timeout: timeout = self.timeout\n",
       "      6 if timeout:\n",
       "----&gt; 7     def handler(*args): raise TimeoutError()\n",
       "      8     signal.signal(signal.SIGALRM, handler)\n",
       "      9     signal.alarm(timeout)\n",
       "\n",
       "TimeoutError: \n",
       "</code></pre>\n"
      ],
      "text/plain": [
       "<IPython.core.display.HTML object>"
      ]
     },
     "execution_count": null,
     "metadata": {},
     "output_type": "execute_result"
    }
   ],
   "source": [
    "HTML(render_outputs(o))"
   ]
  },
  {
   "cell_type": "markdown",
   "metadata": {},
   "source": [
    "We can use `ansi2html` to convert from ANSI to HTML for color rendering.  You need some [css styles](https://github.com/fastai/fastcore/blob/master/examples/ansi.css) for the colors to render properly.  Jupyter already has these built in so it's not neccessary here, but if you plan on using this in another web app you will need to ensure that css styling is included."
   ]
  },
  {
   "cell_type": "code",
   "execution_count": null,
   "metadata": {},
   "outputs": [
    {
     "data": {
      "text/html": [
       "<pre ><code class='nohighlight hljs'><span class=\"ansi-red-fg\">---------------------------------------------------------------------------</span>\n",
       "<span class=\"ansi-red-fg\">TimeoutError</span>                              Traceback (most recent call last)\n",
       "<span class=\"ansi-cyan-fg\">File </span><span class=\"ansi-green-fg\">&lt;ipython-input-1-a5c3817716b6&gt;:1</span>\n",
       "<span class=\"ansi-green-fg\">----&gt; </span><span class=\"ansi-green-fg\">1</span> <span class=\"ansi-bold\" style=\"color: rgb(0,135,0)\">import</span><span style=\"color: rgb(188,188,188)\"> </span><span class=\"ansi-blue-intense-fg ansi-bold\">time</span>; time.sleep(<span class=\"ansi-green-fg\">1.1</span>)\n",
       "\n",
       "<span class=\"ansi-cyan-fg\">Cell</span><span class=\"ansi-cyan-fg\"> </span><span class=\"ansi-green-fg\">In[6]</span><span class=\"ansi-green-fg\">, line 7</span>, in <span class=\"ansi-cyan-fg\">run_cell.&lt;locals&gt;.handler</span><span class=\"ansi-blue-fg\">(*args)</span>\n",
       "<span class=\"ansi-green-fg\">      5</span> <span class=\"ansi-bold\" style=\"color: rgb(0,135,0)\">if</span> <span class=\"ansi-bold\" style=\"color: rgb(175,0,255)\">not</span> timeout: timeout = <span style=\"color: rgb(0,135,0)\">self</span>.timeout\n",
       "<span class=\"ansi-green-fg\">      6</span> <span class=\"ansi-bold\" style=\"color: rgb(0,135,0)\">if</span> timeout:\n",
       "<span class=\"ansi-green-fg\">----&gt; </span><span class=\"ansi-green-fg\">7</span>     <span class=\"ansi-bold\" style=\"color: rgb(0,135,0)\">def</span><span style=\"color: rgb(188,188,188)\"> </span><span class=\"ansi-blue-fg\">handler</span>(*args): <span class=\"ansi-bold\" style=\"color: rgb(0,135,0)\">raise</span> <span class=\"ansi-bold\" style=\"color: rgb(215,95,95)\">TimeoutError</span>()\n",
       "<span class=\"ansi-green-fg\">      8</span>     signal.signal(signal.SIGALRM, handler)\n",
       "<span class=\"ansi-green-fg\">      9</span>     signal.alarm(timeout)\n",
       "\n",
       "<span class=\"ansi-red-fg\">TimeoutError</span>: \n",
       "</code></pre>\n"
      ],
      "text/plain": [
       "<IPython.core.display.HTML object>"
      ]
     },
     "execution_count": null,
     "metadata": {},
     "output_type": "execute_result"
    }
   ],
   "source": [
    "HTML(render_outputs(o, ansi2html))"
   ]
  },
  {
   "cell_type": "markdown",
   "metadata": {},
   "source": [
    "Images and matplotlib figures are captured:"
   ]
  },
  {
   "cell_type": "code",
   "execution_count": null,
   "metadata": {},
   "outputs": [
    {
     "data": {
      "text/html": [
       "<img src=\"data:image/png;base64,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\"/>"
      ],
      "text/plain": [
       "<IPython.core.display.HTML object>"
      ]
     },
     "execution_count": null,
     "metadata": {},
     "output_type": "execute_result"
    }
   ],
   "source": [
    "res = s.run('''import matplotlib.pyplot as plt\n",
    "plt.figure(figsize=(2,1))\n",
    "plt.plot([1,2,4]);''')\n",
    "\n",
    "HTML(render_outputs(res))"
   ]
  },
  {
   "cell_type": "markdown",
   "metadata": {},
   "source": [
    "If an exception is raised then the exception type, object, and stacktrace are stored in `exc`:"
   ]
  },
  {
   "cell_type": "code",
   "execution_count": null,
   "metadata": {},
   "outputs": [
    {
     "data": {
      "text/plain": [
       "[{'name': 'stdout',\n",
       "  'output_type': 'stream',\n",
       "  'text': ['\\x1b[31m---------------------------------------------------------------------------\\x1b[39m\\n',\n",
       "   '\\x1b[31mException\\x1b[39m                                 Traceback (most recent call last)\\n',\n",
       "   '\\x1b[36mFile \\x1b[39m\\x1b[32m<ipython-input-1-01648acb07bd>:1\\x1b[39m\\n',\n",
       "   '\\x1b[32m----> \\x1b[39m\\x1b[32m1\\x1b[39m \\x1b[38;5;28;01mraise\\x1b[39;00m \\x1b[38;5;167;01mException\\x1b[39;00m(\\x1b[33m\"\\x1b[39m\\x1b[33mOops\\x1b[39m\\x1b[33m\"\\x1b[39m)\\n',\n",
       "   '\\n',\n",
       "   '\\x1b[31mException\\x1b[39m: Oops\\n']},\n",
       " {'ename': 'Exception',\n",
       "  'evalue': 'Oops',\n",
       "  'output_type': 'error',\n",
       "  'traceback': ['Traceback (most recent call last):\\n',\n",
       "   '  File \"/Users/iflath/.venv/lib/python3.12/site-packages/IPython/core/interactiveshell.py\", line 3546, in run_code\\n    exec(code_obj, self.user_global_ns, self.user_ns)\\n',\n",
       "   '  File \"<ipython-input-1-01648acb07bd>\", line 1, in <module>\\n    raise Exception(\"Oops\")\\n',\n",
       "   'Exception: Oops\\n']}]"
      ]
     },
     "execution_count": null,
     "metadata": {},
     "output_type": "execute_result"
    }
   ],
   "source": [
    "o = s.run('raise Exception(\"Oops\")')\n",
    "o"
   ]
  },
  {
   "cell_type": "code",
   "execution_count": null,
   "metadata": {},
   "outputs": [
    {
     "data": {
      "text/plain": [
       "Exception('Oops')"
      ]
     },
     "execution_count": null,
     "metadata": {},
     "output_type": "execute_result"
    }
   ],
   "source": [
    "s.exc"
   ]
  },
  {
   "cell_type": "code",
   "execution_count": null,
   "metadata": {},
   "outputs": [],
   "source": [
    "#|export\n",
    "@patch\n",
    "def cell(self:CaptureShell, cell, stdout=True, stderr=True):\n",
    "    \"Run `cell`, skipping if not code, and store outputs back in cell\"\n",
    "    if cell.cell_type!='code': return\n",
    "    self._cell_idx = cell.idx_ + 1\n",
    "    outs = self.run(cell.source)\n",
    "    if outs: cell.outputs = _dict2obj(outs)"
   ]
  },
  {
   "cell_type": "code",
   "execution_count": null,
   "metadata": {},
   "outputs": [
    {
     "data": {
      "text/markdown": [
       "```json\n",
       "{ 'cell_type': 'code',\n",
       "  'execution_count': None,\n",
       "  'id': 'b123d6d0',\n",
       "  'idx_': 1,\n",
       "  'metadata': {},\n",
       "  'outputs': [],\n",
       "  'source': 'print(1)\\n2'}\n",
       "```"
      ],
      "text/plain": [
       "{'cell_type': 'code',\n",
       " 'execution_count': None,\n",
       " 'id': 'b123d6d0',\n",
       " 'metadata': {},\n",
       " 'outputs': [],\n",
       " 'source': 'print(1)\\n2',\n",
       " 'idx_': 1}"
      ]
     },
     "execution_count": null,
     "metadata": {},
     "output_type": "execute_result"
    }
   ],
   "source": [
    "clean = Path('../tests/clean.ipynb')\n",
    "nb = read_nb(clean)\n",
    "c = nb.cells[1]\n",
    "c"
   ]
  },
  {
   "cell_type": "code",
   "execution_count": null,
   "metadata": {},
   "outputs": [
    {
     "data": {
      "text/plain": [
       "[{'name': 'stdout', 'output_type': 'stream', 'text': ['1\\n']},\n",
       " {'data': {'text/plain': ['2']},\n",
       "  'metadata': {},\n",
       "  'output_type': 'execute_result',\n",
       "  'execution_count': None}]"
      ]
     },
     "execution_count": null,
     "metadata": {},
     "output_type": "execute_result"
    }
   ],
   "source": [
    "s.cell(c)\n",
    "c.outputs"
   ]
  },
  {
   "cell_type": "code",
   "execution_count": null,
   "metadata": {},
   "outputs": [],
   "source": [
    "#| export\n",
    "def find_output(outp, # Output from `run`\n",
    "                ot='execute_result' # Output_type to find\n",
    "               ):\n",
    "    \"Find first output of type `ot` in `CaptureShell.run` output\"\n",
    "    return first(o for o in outp if o['output_type']==ot)"
   ]
  },
  {
   "cell_type": "code",
   "execution_count": null,
   "metadata": {},
   "outputs": [
    {
     "data": {
      "text/markdown": [
       "```json\n",
       "{'text/plain': ['2']}\n",
       "```"
      ],
      "text/plain": [
       "{'text/plain': ['2']}"
      ]
     },
     "execution_count": null,
     "metadata": {},
     "output_type": "execute_result"
    }
   ],
   "source": [
    "find_output(c.outputs)['data']"
   ]
  },
  {
   "cell_type": "code",
   "execution_count": null,
   "metadata": {},
   "outputs": [
    {
     "data": {
      "text/plain": [
       "['1\\n']"
      ]
     },
     "execution_count": null,
     "metadata": {},
     "output_type": "execute_result"
    }
   ],
   "source": [
    "find_output(c.outputs, 'stream')['text']"
   ]
  },
  {
   "cell_type": "code",
   "execution_count": null,
   "metadata": {},
   "outputs": [],
   "source": [
    "#| export\n",
    "def out_exec(outp):\n",
    "    \"Get data from execution result in `outp`.\"\n",
    "    out = find_output(outp)\n",
    "    if out: return '\\n'.join(first(out['data'].values()))"
   ]
  },
  {
   "cell_type": "code",
   "execution_count": null,
   "metadata": {},
   "outputs": [
    {
     "data": {
      "text/plain": [
       "'2'"
      ]
     },
     "execution_count": null,
     "metadata": {},
     "output_type": "execute_result"
    }
   ],
   "source": [
    "out_exec(c.outputs)"
   ]
  },
  {
   "cell_type": "code",
   "execution_count": null,
   "metadata": {},
   "outputs": [],
   "source": [
    "#| export\n",
    "def out_stream(outp):\n",
    "    \"Get text from stream in `outp`.\"\n",
    "    out = find_output(outp, 'stream')\n",
    "    if out: return ('\\n'.join(out['text'])).strip()"
   ]
  },
  {
   "cell_type": "code",
   "execution_count": null,
   "metadata": {},
   "outputs": [
    {
     "data": {
      "text/plain": [
       "'1'"
      ]
     },
     "execution_count": null,
     "metadata": {},
     "output_type": "execute_result"
    }
   ],
   "source": [
    "out_stream(c.outputs)"
   ]
  },
  {
   "cell_type": "code",
   "execution_count": null,
   "metadata": {},
   "outputs": [],
   "source": [
    "#| export\n",
    "def out_error(outp):\n",
    "    \"Get traceback from error in `outp`.\"\n",
    "    out = find_output(outp, 'error')\n",
    "    if out: return '\\n'.join(out['traceback'])"
   ]
  },
  {
   "cell_type": "markdown",
   "metadata": {},
   "source": [
    "### NBs -"
   ]
  },
  {
   "cell_type": "code",
   "execution_count": null,
   "metadata": {},
   "outputs": [],
   "source": [
    "#|export\n",
    "def _false(o): return False\n",
    "\n",
    "@patch\n",
    "def run_all(self:CaptureShell,\n",
    "            nb, # A notebook read with `nbclient` or `read_nb`\n",
    "            exc_stop:bool=False, # Stop on exceptions?\n",
    "            preproc:callable=_false, # Called before each cell is executed\n",
    "            postproc:callable=_false, # Called after each cell is executed\n",
    "            inject_code:str|None=None, # Code to inject into a cell\n",
    "            inject_idx:int=0 # Cell to replace with `inject_code`\n",
    "           ):\n",
    "    \"Run all cells in `nb`, stopping at first exception if `exc_stop`\"\n",
    "    if inject_code is not None: nb.cells[inject_idx].source = inject_code\n",
    "    for cell in nb.cells:\n",
    "        if not preproc(cell):\n",
    "            self.cell(cell)\n",
    "            postproc(cell)\n",
    "        if self.exc and exc_stop: raise self.exc from None"
   ]
  },
  {
   "cell_type": "code",
   "execution_count": null,
   "metadata": {},
   "outputs": [
    {
     "data": {
      "text/plain": [
       "[]"
      ]
     },
     "execution_count": null,
     "metadata": {},
     "output_type": "execute_result"
    }
   ],
   "source": [
    "nb.cells[2].outputs"
   ]
  },
  {
   "cell_type": "code",
   "execution_count": null,
   "metadata": {},
   "outputs": [
    {
     "data": {
      "text/plain": [
       "[{'data': {'text/plain': ['<IPython.core.display.Markdown object>'],\n",
       "   'text/markdown': [\"This is *bold*. Here's a [link](https://www.fast.ai).\"]},\n",
       "  'metadata': {},\n",
       "  'output_type': 'execute_result',\n",
       "  'execution_count': None}]"
      ]
     },
     "execution_count": null,
     "metadata": {},
     "output_type": "execute_result"
    }
   ],
   "source": [
    "s.run_all(nb)\n",
    "nb.cells[2].outputs"
   ]
  },
  {
   "cell_type": "markdown",
   "metadata": {},
   "source": [
    "With `exc_stop=False` (the default), execution continues after exceptions, and exception details are stored into the appropriate cell's output:"
   ]
  },
  {
   "cell_type": "code",
   "execution_count": null,
   "metadata": {},
   "outputs": [
    {
     "data": {
      "text/plain": [
       "'raise Exception(\"Oopsie!\")'"
      ]
     },
     "execution_count": null,
     "metadata": {},
     "output_type": "execute_result"
    }
   ],
   "source": [
    "nb.cells[-1].source"
   ]
  },
  {
   "cell_type": "code",
   "execution_count": null,
   "metadata": {},
   "outputs": [
    {
     "data": {
      "text/plain": [
       "[{'name': 'stdout',\n",
       "  'output_type': 'stream',\n",
       "  'text': ['\\x1b[31m---------------------------------------------------------------------------\\x1b[39m\\n',\n",
       "   '\\x1b[31mException\\x1b[39m                                 Traceback (most recent call last)\\n',\n",
       "   '\\x1b[36mFile \\x1b[39m\\x1b[32m<ipython-input-1-1c97c1d317ab>:1\\x1b[39m\\n',\n",
       "   '\\x1b[32m----> \\x1b[39m\\x1b[32m1\\x1b[39m \\x1b[38;5;28;01mraise\\x1b[39;00m \\x1b[38;5;167;01mException\\x1b[39;00m(\\x1b[33m\"\\x1b[39m\\x1b[33mOopsie!\\x1b[39m\\x1b[33m\"\\x1b[39m)\\n',\n",
       "   '\\n',\n",
       "   '\\x1b[31mException\\x1b[39m: Oopsie!\\n']},\n",
       " {'ename': 'Exception',\n",
       "  'evalue': 'Oopsie!',\n",
       "  'output_type': 'error',\n",
       "  'traceback': ['Traceback (most recent call last):\\n',\n",
       "   '  File \"/Users/iflath/.venv/lib/python3.12/site-packages/IPython/core/interactiveshell.py\", line 3546, in run_code\\n    exec(code_obj, self.user_global_ns, self.user_ns)\\n',\n",
       "   '  File \"<ipython-input-1-1c97c1d317ab>\", line 1, in <module>\\n    raise Exception(\"Oopsie!\")\\n',\n",
       "   'Exception: Oopsie!\\n']}]"
      ]
     },
     "execution_count": null,
     "metadata": {},
     "output_type": "execute_result"
    }
   ],
   "source": [
    "nb.cells[-1].outputs"
   ]
  },
  {
   "cell_type": "markdown",
   "metadata": {},
   "source": [
    "With `exc_stop=True`, exceptions in a cell are raised and no further processing occurs:"
   ]
  },
  {
   "cell_type": "code",
   "execution_count": null,
   "metadata": {},
   "outputs": [
    {
     "name": "stdout",
     "output_type": "stream",
     "text": [
      "got exception: Oopsie!\n"
     ]
    }
   ],
   "source": [
    "try: s.run_all(nb, exc_stop=True)\n",
    "except Exception as e: print(f\"got exception: {e}\")"
   ]
  },
  {
   "cell_type": "markdown",
   "metadata": {},
   "source": [
    "We can pass a function to `preproc` to have it run on every cell. It can modify the cell as needed. If the function returns `True`, then that cell will not be executed. For instance, to skip the cell which raises an exception:"
   ]
  },
  {
   "cell_type": "code",
   "execution_count": null,
   "metadata": {},
   "outputs": [],
   "source": [
    "nb = read_nb(clean)\n",
    "s.run_all(nb, preproc=lambda c: 'raise' in c.source)"
   ]
  },
  {
   "cell_type": "markdown",
   "metadata": {},
   "source": [
    "This cell will contain no output, since it was skipped."
   ]
  },
  {
   "cell_type": "code",
   "execution_count": null,
   "metadata": {},
   "outputs": [
    {
     "data": {
      "text/plain": [
       "[]"
      ]
     },
     "execution_count": null,
     "metadata": {},
     "output_type": "execute_result"
    }
   ],
   "source": [
    "nb.cells[-1].outputs"
   ]
  },
  {
   "cell_type": "code",
   "execution_count": null,
   "metadata": {},
   "outputs": [
    {
     "data": {
      "text/plain": [
       "[{'name': 'stdout', 'output_type': 'stream', 'text': ['1\\n']},\n",
       " {'data': {'text/plain': ['2']},\n",
       "  'metadata': {},\n",
       "  'output_type': 'execute_result',\n",
       "  'execution_count': None}]"
      ]
     },
     "execution_count": null,
     "metadata": {},
     "output_type": "execute_result"
    }
   ],
   "source": [
    "nb.cells[1].outputs"
   ]
  },
  {
   "cell_type": "markdown",
   "metadata": {},
   "source": [
    "You can also pass a function to `postproc` to modify a cell after it is executed."
   ]
  },
  {
   "cell_type": "code",
   "execution_count": null,
   "metadata": {},
   "outputs": [],
   "source": [
    "#|export\n",
    "@patch\n",
    "def execute(self:CaptureShell,\n",
    "            src:str|Path, # Notebook path to read from\n",
    "            dest:str|None=None, # Notebook path to write to\n",
    "            exc_stop:bool=False, # Stop on exceptions?\n",
    "            preproc:callable=_false, # Called before each cell is executed\n",
    "            postproc:callable=_false, # Called after each cell is executed\n",
    "            inject_code:str|None=None, # Code to inject into a cell\n",
    "            inject_path:str|Path|None=None, # Path to file containing code to inject into a cell\n",
    "            inject_idx:int=0 # Cell to replace with `inject_code`\n",
    "):\n",
    "    \"Execute notebook from `src` and save with outputs to `dest\"\n",
    "    nb = read_nb(src)\n",
    "    self._fname = src\n",
    "    self.set_path(Path(src).parent.resolve())\n",
    "    if inject_path is not None: inject_code = Path(inject_path).read_text()\n",
    "    self.run_all(nb, exc_stop=exc_stop, preproc=preproc, postproc=postproc,\n",
    "                 inject_code=inject_code, inject_idx=inject_idx)\n",
    "    if dest: write_nb(nb, dest)"
   ]
  },
  {
   "cell_type": "markdown",
   "metadata": {},
   "source": [
    "This is a shortcut for the combination of `read_nb`, `CaptureShell.run_all`, and `write_nb`."
   ]
  },
  {
   "cell_type": "code",
   "execution_count": null,
   "metadata": {},
   "outputs": [
    {
     "name": "stdout",
     "output_type": "stream",
     "text": [
      "[{'name': 'stdout', 'output_type': 'stream', 'text': ['1\\n']}, {'data': {'text/plain': ['2']}, 'execution_count': None, 'metadata': {}, 'output_type': 'execute_result'}]\n"
     ]
    }
   ],
   "source": [
    "s = CaptureShell()\n",
    "try:\n",
    "    s.execute(clean, 'tmp.ipynb')\n",
    "    print(read_nb('tmp.ipynb').cells[1].outputs)\n",
    "finally: Path('tmp.ipynb').unlink()"
   ]
  },
  {
   "cell_type": "code",
   "execution_count": null,
   "metadata": {},
   "outputs": [],
   "source": [
    "p = Path.home()/'git'/'fastcore'/'nbs'\n",
    "n = p/'03a_parallel.ipynb'"
   ]
  },
  {
   "cell_type": "code",
   "execution_count": null,
   "metadata": {},
   "outputs": [],
   "source": [
    "#|export\n",
    "@patch\n",
    "def prettytb(self:CaptureShell, \n",
    "             fname:str|Path=None): # filename to print alongside the traceback\n",
    "    \"Show a pretty traceback for notebooks, optionally printing `fname`.\"\n",
    "    fname = fname if fname else self._fname\n",
    "    _fence = '='*75\n",
    "    cell_intro_str = f\"While Executing Cell #{self._cell_idx}:\" if self._cell_idx else \"While Executing:\"\n",
    "    cell_str = f\"\\n{cell_intro_str}\\n{''.join(format_exc(self.exc))}\"\n",
    "    fname_str = f' in {fname}' if fname else ''\n",
    "    return f\"{type(self.exc).__name__}{fname_str}:\\n{_fence}\\n{cell_str}\\n\""
   ]
  },
  {
   "cell_type": "markdown",
   "metadata": {},
   "source": [
    "If an error occurs while running a notebook, you can retrieve a pretty version of the error with the `prettytb` method: "
   ]
  },
  {
   "cell_type": "code",
   "execution_count": null,
   "metadata": {},
   "outputs": [
    {
     "name": "stdout",
     "output_type": "stream",
     "text": [
      "AssertionError in ../tests/error.ipynb:\n",
      "===========================================================================\n",
      "\n",
      "While Executing Cell #2:\n",
      "Traceback (most recent call last):\n",
      "  File \"/var/folders/_8/cpj54rdn0w1fjskv7g8bn2fr0000gn/T/ipykernel_8573/1421292703.py\", line 3, in <module>\n",
      "    s.execute('../tests/error.ipynb', exc_stop=True)\n",
      "  File \"/var/folders/_8/cpj54rdn0w1fjskv7g8bn2fr0000gn/T/ipykernel_8573/3609882568.py\", line 18, in execute\n",
      "    self.run_all(nb, exc_stop=exc_stop, preproc=preproc, postproc=postproc,\n",
      "  File \"/var/folders/_8/cpj54rdn0w1fjskv7g8bn2fr0000gn/T/ipykernel_8573/3068237356.py\", line 19, in run_all\n",
      "    if self.exc and exc_stop: raise self.exc from None\n",
      "                              ^^^^^^^^^^^^^^^^^^^^^^^^\n",
      "  File \"/Users/iflath/.venv/lib/python3.12/site-packages/IPython/core/interactiveshell.py\", line 3546, in run_code\n",
      "    exec(code_obj, self.user_global_ns, self.user_ns)\n",
      "  File \"<ipython-input-1-b968a57a586e>\", line 3, in <module>\n",
      "    foo()\n",
      "  File \"/Users/iflath/git/fastai/execnb/tests/err.py\", line 2, in foo\n",
      "    assert 13 == 98\n",
      "           ^^^^^^^^\n",
      "AssertionError\n",
      "\n",
      "\n"
     ]
    }
   ],
   "source": [
    "s = CaptureShell()\n",
    "try:\n",
    "    s.execute('../tests/error.ipynb', exc_stop=True)\n",
    "except:\n",
    "    print(s.prettytb())"
   ]
  },
  {
   "cell_type": "markdown",
   "metadata": {},
   "source": [
    "### Tests -"
   ]
  },
  {
   "cell_type": "code",
   "execution_count": null,
   "metadata": {},
   "outputs": [],
   "source": [
    "#|hide\n",
    "# Trailing `;` stops data from being captured\n",
    "res = CaptureShell().run('1+1;')\n",
    "test_eq(res, [])\n",
    "\n",
    "# Newlines, whitespace, and comments after `;` are ignored\n",
    "# TODO: fix test\n",
    "# res = CaptureShell().run('1+1;\\n  #commented_func()')\n",
    "test_eq(res, [])"
   ]
  },
  {
   "cell_type": "code",
   "execution_count": null,
   "metadata": {},
   "outputs": [],
   "source": [
    "#|hide\n",
    "# Streams are split on and keep newlines\n",
    "res = CaptureShell().run(r\"print('a\\nb'); print('c\\n\\n'); print('d')\")\n",
    "test_eq(res[0]['text'], ['a\\n', 'b\\n', 'c\\n', '\\n', '\\n', 'd\\n'])"
   ]
  },
  {
   "cell_type": "code",
   "execution_count": null,
   "metadata": {},
   "outputs": [],
   "source": [
    "#|hide\n",
    "# Text mime data are split on and keep newlines\n",
    "res = CaptureShell().run(r\"from IPython.display import Markdown; display(Markdown('a\\nb'))\")\n",
    "test_eq(res[0]['data']['text/markdown'], ['a\\n', 'b'])"
   ]
  },
  {
   "cell_type": "code",
   "execution_count": null,
   "metadata": {},
   "outputs": [],
   "source": [
    "#|hide\n",
    "# Binary image mime data are base64-encoded and end in a single `\\n`\n",
    "\n",
    "def _pil2b64(im): return b64encode(im._repr_png_()).decode()+'\\n'\n",
    "im = Image.new('RGB', (3,3), 'red')\n",
    "imb64 = _pil2b64(im)\n",
    "\n",
    "res = CaptureShell().run(\"from PIL import Image; Image.new('RGB', (3,3), 'red')\")\n",
    "test_eq(res[0]['data']['image/png'], imb64)"
   ]
  },
  {
   "cell_type": "code",
   "execution_count": null,
   "metadata": {},
   "outputs": [],
   "source": [
    "#|hide\n",
    "# `display_data` flushes stdout and stderr - in that order\n",
    "res = CaptureShell().run(\"import sys; sys.stderr.write('Error!'); print(1); display(1)\")\n",
    "test_eq(res, [{'name': 'stdout', 'output_type': 'stream', 'text': ['1\\n']},\n",
    "              {'name': 'stderr', 'output_type': 'stream', 'text': ['Error!']},\n",
    "              {'data': {'text/plain': ['1']}, 'metadata': {}, 'output_type': 'display_data'}])"
   ]
  },
  {
   "cell_type": "code",
   "execution_count": null,
   "metadata": {},
   "outputs": [],
   "source": [
    "#|hide\n",
    "# Consecutive writes to stdout are grouped\n",
    "res = CaptureShell().run('print(1); print(2); print(3)')\n",
    "test_eq(res, [{'name': 'stdout', 'output_type': 'stream', 'text': ['1\\n', '2\\n', '3\\n']}])"
   ]
  },
  {
   "cell_type": "code",
   "execution_count": null,
   "metadata": {},
   "outputs": [],
   "source": [
    "#|hide\n",
    "# Consecutive writes to stdout are grouped despite an intermediate write to stderr, which is captured after\n",
    "res = CaptureShell().run(\"import sys; print(1); print(2); sys.stderr.write('Error!'); print(3)\")\n",
    "test_eq(res, [{'name': 'stdout', 'output_type': 'stream', 'text': ['1\\n', '2\\n', '3\\n']},\n",
    "              {'name': 'stderr', 'output_type': 'stream', 'text': ['Error!']}])"
   ]
  },
  {
   "cell_type": "code",
   "execution_count": null,
   "metadata": {},
   "outputs": [],
   "source": [
    "#|hide\n",
    "# `execute_result` is always last\n",
    "res = CaptureShell().run(\"import sys; sys.stderr.write('Error!'); print(1); display(1); 1\")\n",
    "test_eq(res, [{'name': 'stdout', 'output_type': 'stream', 'text': ['1\\n']},\n",
    "              {'name': 'stderr', 'output_type': 'stream', 'text': ['Error!']},\n",
    "              {'data': {'text/plain': ['1']}, 'metadata': {}, 'output_type': 'display_data'},\n",
    "              {'data': {'text/plain': ['1']}, 'metadata': {}, 'output_type': 'execute_result', 'execution_count': None}])"
   ]
  },
  {
   "cell_type": "markdown",
   "metadata": {},
   "source": [
    "## Params -"
   ]
  },
  {
   "cell_type": "markdown",
   "metadata": {},
   "source": [
    "If you pass `inject_code` to `CaptureShell.execute` or `CaptureShell.run_all`, the source of `nb.cells[inject_idx]` will be replaced with `inject_code`. By default, the first cell is replaced. For instance consider this notebook:"
   ]
  },
  {
   "cell_type": "code",
   "execution_count": null,
   "metadata": {},
   "outputs": [
    {
     "name": "stdout",
     "output_type": "stream",
     "text": [
      "-  a=1\n",
      "-  print(a)\n"
     ]
    }
   ],
   "source": [
    "nb = read_nb('../tests/params.ipynb')\n",
    "for c in nb.cells: print('- ',c.source)"
   ]
  },
  {
   "cell_type": "markdown",
   "metadata": {},
   "source": [
    "We can replace the first cell with `a=2` by passing that as `inject_code`, and the notebook will run with that change:"
   ]
  },
  {
   "cell_type": "code",
   "execution_count": null,
   "metadata": {},
   "outputs": [
    {
     "data": {
      "text/plain": [
       "[{'cell_type': 'code',\n",
       "  'execution_count': None,\n",
       "  'id': 'a63ce885',\n",
       "  'metadata': {},\n",
       "  'outputs': [],\n",
       "  'source': 'a=2',\n",
       "  'idx_': 0},\n",
       " {'cell_type': 'code',\n",
       "  'execution_count': None,\n",
       "  'id': 'ea528db5',\n",
       "  'metadata': {},\n",
       "  'outputs': [{'name': 'stdout', 'output_type': 'stream', 'text': ['2\\n']}],\n",
       "  'source': 'print(a)',\n",
       "  'idx_': 1}]"
      ]
     },
     "execution_count": null,
     "metadata": {},
     "output_type": "execute_result"
    }
   ],
   "source": [
    "nb = read_nb('../tests/params.ipynb')\n",
    "s.run_all(nb, inject_code=\"a=2\")\n",
    "list(nb.cells)"
   ]
  },
  {
   "cell_type": "markdown",
   "metadata": {},
   "source": [
    "This can be used with `CaptureShell.execute` to parameterise runs of models in notebooks. Place any defaults for configuration code needed in the first cell, and then when running `execute` pass in new parameters as needed in `inject_code`. To replace only some of the defaults, leave an empty cell as the second cell, and inject code using `inject_idx=1` to replace the empty second cell with code that overrides some of the defaults set in the first cell. When using `execute` you can pass `inject_path` instead of `inject_code` to read the injected code from a file."
   ]
  },
  {
   "cell_type": "markdown",
   "metadata": {},
   "source": [
    "## cli -"
   ]
  },
  {
   "cell_type": "code",
   "execution_count": null,
   "metadata": {},
   "outputs": [],
   "source": [
    "#|export\n",
    "@call_parse\n",
    "def exec_nb(\n",
    "    src:str, # Notebook path to read from\n",
    "    dest:str='', # Notebook path to write to\n",
    "    exc_stop:bool=False, # Stop on exceptions?\n",
    "    inject_code:str=None, # Code to inject into a cell\n",
    "    inject_path:str=None, # Path to file containing code to inject into a cell\n",
    "    inject_idx:int=0 # Cell to replace with `inject_code`\n",
    "):\n",
    "    \"Execute notebook from `src` and save with outputs to `dest`\"\n",
    "    CaptureShell().execute(src, dest, exc_stop=exc_stop, inject_code=inject_code,\n",
    "                           inject_path=inject_path, inject_idx=inject_idx)"
   ]
  },
  {
   "cell_type": "markdown",
   "metadata": {},
   "source": [
    "This is the command-line version of `CaptureShell.execute`. Run `exec_nb -h` from the command line to see how to pass arguments. If you don't pass `dest` then the output notebook won't be saved; this is mainly useful for running tests."
   ]
  },
  {
   "cell_type": "markdown",
   "metadata": {},
   "source": [
    "## Completions -"
   ]
  },
  {
   "cell_type": "code",
   "execution_count": null,
   "metadata": {},
   "outputs": [],
   "source": [
    "#| export\n",
    "class SmartCompleter(IPCompleter):\n",
    "    def __init__(self, shell, namespace=None, jedi=False):\n",
    "        if namespace is None: namespace = shell.user_ns\n",
    "        super().__init__(shell, namespace)\n",
    "        self.use_jedi = jedi\n",
    "        sdisp = StrDispatch()\n",
    "        self.custom_completers = sdisp\n",
    "        import_disp = CommandChainDispatcher()\n",
    "        import_disp.add(types.MethodType(module_completer, shell))\n",
    "        sdisp.add_s('import', import_disp)\n",
    "        sdisp.add_s('from', import_disp)\n",
    "\n",
    "    def __call__(self, c):\n",
    "        if not c: return []\n",
    "        with provisionalcompleter():\n",
    "            res = [o.text.rpartition('.')[-1] for o in self.completions(c, len(c)) if o.type!='magic']\n",
    "        if res and res[0][-1]=='=': res = [o for o in res if o[-1]=='=']\n",
    "        return res"
   ]
  },
  {
   "cell_type": "code",
   "execution_count": null,
   "metadata": {},
   "outputs": [],
   "source": [
    "cc = SmartCompleter(get_ipython())\n",
    "\n",
    "def test_set(a,b): return test_eq(set(a), set(b))\n",
    "\n",
    "class _f:\n",
    "    def __init__(self): self.bar,self.baz,self.room = 0,0,0\n",
    "\n",
    "foo = _f()\n",
    "\n",
    "assert set(cc(\"b\")).issuperset(['bool', 'bytes'])\n",
    "test_set(cc(\"foo.b\"), ['bar', 'baz'])\n",
    "test_set(cc(\"x=1; x = foo.b\"), ['bar', 'baz'])\n",
    "test_set(cc(\"ab\"), ['abs'])\n",
    "test_set(cc(\"b = ab\"), ['abs'])\n",
    "test_set(cc(\"\"), [])\n",
    "test_set(cc(\"foo.\"), ['bar', 'baz', 'room'])\n",
    "test_set(cc(\"nonexistent.b\"), [])\n",
    "test_set(cc(\"foo.nonexistent.b\"), [])\n",
    "assert set(cc(\"import ab\")).issuperset(['abc'])\n",
    "test_set(cc(\"from abc import AB\"), ['ABC', 'ABCMeta'])"
   ]
  },
  {
   "cell_type": "code",
   "execution_count": null,
   "metadata": {},
   "outputs": [
    {
     "data": {
      "text/plain": [
       "['n=', 'pat=', 's=']"
      ]
     },
     "execution_count": null,
     "metadata": {},
     "output_type": "execute_result"
    }
   ],
   "source": [
    "s = CaptureShell()\n",
    "cc = SmartCompleter(s)\n",
    "s.run('''def captures(pat, s, n, **kw):\n",
    "    return 1''')\n",
    "cc('captures(')"
   ]
  },
  {
   "cell_type": "code",
   "execution_count": null,
   "metadata": {},
   "outputs": [],
   "source": [
    "#| export\n",
    "@patch\n",
    "def complete(self:CaptureShell, c):\n",
    "    if not hasattr(self, '_completer'): self._completer = SmartCompleter(self)\n",
    "    return self._completer(c)"
   ]
  },
  {
   "cell_type": "code",
   "execution_count": null,
   "metadata": {},
   "outputs": [
    {
     "data": {
      "text/plain": [
       "['bit_count', 'bit_length']"
      ]
     },
     "execution_count": null,
     "metadata": {},
     "output_type": "execute_result"
    }
   ],
   "source": [
    "s = CaptureShell()\n",
    "s.run('a=1')\n",
    "s.complete('a.b')"
   ]
  },
  {
   "cell_type": "code",
   "execution_count": null,
   "metadata": {},
   "outputs": [
    {
     "data": {
      "text/plain": [
       "['flags=', 'pattern=']"
      ]
     },
     "execution_count": null,
     "metadata": {},
     "output_type": "execute_result"
    }
   ],
   "source": [
    "s.run('import re')\n",
    "s.complete('re.compile(')"
   ]
  },
  {
   "cell_type": "markdown",
   "metadata": {},
   "source": [
    "## export -"
   ]
  },
  {
   "cell_type": "code",
   "execution_count": null,
   "metadata": {},
   "outputs": [],
   "source": [
    "#|hide\n",
    "import nbdev; nbdev.nbdev_export()"
   ]
  }
 ],
 "metadata": {
  "kernelspec": {
   "display_name": "python3",
   "language": "python",
   "name": "python3"
  }
 },
 "nbformat": 4,
 "nbformat_minor": 4
}
