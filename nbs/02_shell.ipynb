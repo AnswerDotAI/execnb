{
 "cells": [
  {
   "cell_type": "code",
   "execution_count": null,
   "metadata": {},
   "outputs": [],
   "source": [
    "#|hide\n",
    "#|default_exp shell"
   ]
  },
  {
   "cell_type": "markdown",
   "metadata": {},
   "source": [
    "# shell\n",
    "\n",
    "> A shell for running notebook code without a notebook server"
   ]
  },
  {
   "cell_type": "code",
   "execution_count": null,
   "metadata": {},
   "outputs": [],
   "source": [
    "#|export\n",
    "from __future__ import annotations\n",
    "\n",
    "from fastcore.utils import *\n",
    "from fastcore.script import call_parse\n",
    "from fastcore.ansi import ansi2html, strip_ansi\n",
    "\n",
    "import multiprocessing,types,traceback,signal\n",
    "try:\n",
    "    if sys.platform == 'darwin': multiprocessing.set_start_method(\"fork\")\n",
    "except RuntimeError: pass # if re-running cell\n",
    "\n",
    "from IPython.core.interactiveshell import InteractiveShell, ExecutionInfo, ExecutionResult\n",
    "from IPython.core.displayhook import DisplayHook\n",
    "from IPython.utils.capture import capture_output\n",
    "from IPython.core.completer import IPCompleter,provisionalcompleter,Completer\n",
    "from IPython.core.hooks import CommandChainDispatcher\n",
    "from IPython.core.completerlib import module_completer\n",
    "from IPython.utils.strdispatch import StrDispatch\n",
    "from IPython.display import display as disp, HTML\n",
    "\n",
    "from base64 import b64encode\n",
    "from html import escape\n",
    "try: from matplotlib_inline.backend_inline import set_matplotlib_formats\n",
    "except ImportError: set_matplotlib_formats = None\n",
    "\n",
    "\n",
    "from execnb.nbio import *\n",
    "from execnb.nbio import _dict2obj\n"
   ]
  },
  {
   "cell_type": "code",
   "execution_count": null,
   "metadata": {},
   "outputs": [],
   "source": [
    "from fastcore.test import *\n",
    "from base64 import b64decode\n",
    "from io import BytesIO\n",
    "from PIL import Image"
   ]
  },
  {
   "cell_type": "markdown",
   "metadata": {},
   "source": [
    "## CaptureShell -"
   ]
  },
  {
   "cell_type": "code",
   "execution_count": null,
   "metadata": {},
   "outputs": [],
   "source": [
    "#|export\n",
    "class _CustDisplayHook(DisplayHook):\n",
    "    def write_output_prompt(self): pass\n",
    "    def write_format_data(self, data, md_dict): pass\n",
    "    def log_output(self, format_dict): pass\n",
    "\n",
    "@patch\n",
    "def __repr__(self: ExecutionInfo): return f'cell: {self.raw_cell}; id: {self.cell_id}'\n",
    "\n",
    "@patch\n",
    "def __repr__(self: ExecutionResult): return f'result: {self.result}; err: {self.error_in_exec}; info: <{self.info}>'"
   ]
  },
  {
   "cell_type": "code",
   "execution_count": null,
   "metadata": {},
   "outputs": [],
   "source": [
    "#|export\n",
    "class CaptureShell(InteractiveShell):\n",
    "    displayhook_class = _CustDisplayHook\n",
    "\n",
    "    def __init__(self, path:str|Path=None, mpl_format='retina', history=False, timeout:Optional[int]=None):\n",
    "        super().__init__()\n",
    "        self.history_manager.enabled = history\n",
    "        self.timeout = timeout\n",
    "        self.result,self.exc = None,None\n",
    "        if path: self.set_path(path)\n",
    "        self.display_formatter.active = True\n",
    "        if not IN_NOTEBOOK: InteractiveShell._instance = self\n",
    "        if set_matplotlib_formats:\n",
    "            self.enable_matplotlib(\"inline\")\n",
    "            self._run(\"from matplotlib_inline.backend_inline import set_matplotlib_formats\")\n",
    "            self._run(f\"set_matplotlib_formats('{mpl_format}')\")\n",
    "\n",
    "    def _run(self, raw_cell, store_history=False, silent=False, shell_futures=True, cell_id=None,\n",
    "                 stdout=True, stderr=True, display=True, verbose=False):\n",
    "        # TODO what if there's a comment?\n",
    "        semic = raw_cell.rstrip().endswith(';')\n",
    "        with capture_output(display=display, stdout=stdout and not verbose, stderr=stderr and not verbose) as c:\n",
    "            result = super().run_cell(raw_cell, store_history, silent, shell_futures=shell_futures, cell_id=cell_id)\n",
    "        return AttrDict(result=result, stdout='' if semic else c.stdout, stderr=c.stderr,\n",
    "                        display_objects=c.outputs, exception=result.error_in_exec, quiet=semic)\n",
    "    \n",
    "    def set_path(self, path):\n",
    "        \"Add `path` to python path, or `path.parent` if it's a file\"\n",
    "        path = Path(path)\n",
    "        if path.is_file(): path = path.parent\n",
    "        self._run(f\"import sys; sys.path.insert(0, '{path.as_posix()}')\")\n",
    "    \n",
    "    def enable_gui(self, gui=None): pass"
   ]
  },
  {
   "cell_type": "code",
   "execution_count": null,
   "metadata": {},
   "outputs": [],
   "source": [
    "#|export\n",
    "@patch\n",
    "def run_cell(self:CaptureShell, raw_cell, store_history=False, silent=False, shell_futures=True, cell_id=None,\n",
    "             stdout=True, stderr=True, display=True, timeout=None, verbose=False):\n",
    "    if not timeout: timeout = self.timeout\n",
    "    if timeout:\n",
    "        def handler(*args): raise TimeoutError()\n",
    "        signal.signal(signal.SIGALRM, handler)\n",
    "        signal.alarm(timeout)\n",
    "    try: return self._run(raw_cell, store_history, silent, shell_futures, cell_id=cell_id,\n",
    "                          stdout=stdout, stderr=stderr, display=display, verbose=verbose)\n",
    "    finally:\n",
    "        if timeout: signal.alarm(0)"
   ]
  },
  {
   "cell_type": "code",
   "execution_count": null,
   "metadata": {},
   "outputs": [],
   "source": [
    "s = CaptureShell(mpl_format='retina')"
   ]
  },
  {
   "cell_type": "code",
   "execution_count": null,
   "metadata": {},
   "outputs": [],
   "source": [
    "s.run_cell('a=1');"
   ]
  },
  {
   "cell_type": "code",
   "execution_count": null,
   "metadata": {},
   "outputs": [
    {
     "data": {
      "text/markdown": [
       "```json\n",
       "{ 'display_objects': [],\n",
       "  'exception': None,\n",
       "  'quiet': False,\n",
       "  'result': result: None; err: None; info: <cell: print(a); id: None>,\n",
       "  'stderr': '',\n",
       "  'stdout': '1\\n'}\n",
       "```"
      ],
      "text/plain": [
       "{'result': result: None; err: None; info: <cell: print(a); id: None>,\n",
       " 'stdout': '1\\n',\n",
       " 'stderr': '',\n",
       " 'display_objects': [],\n",
       " 'exception': None,\n",
       " 'quiet': False}"
      ]
     },
     "execution_count": null,
     "metadata": {},
     "output_type": "execute_result"
    }
   ],
   "source": [
    "o = s.run_cell('print(a)')\n",
    "o"
   ]
  },
  {
   "cell_type": "code",
   "execution_count": null,
   "metadata": {},
   "outputs": [
    {
     "data": {
      "text/markdown": [
       "```json\n",
       "{ 'display_objects': [],\n",
       "  'exception': None,\n",
       "  'quiet': False,\n",
       "  'result': result: None; err: None; info: <cell: from warnings import warn; warn(\"1\"); id: None>,\n",
       "  'stderr': '<ipython-input-1-a51443ae013a>:1: UserWarning: 1\\n'\n",
       "            '  from warnings import warn; warn(\"1\")\\n',\n",
       "  'stdout': ''}\n",
       "```"
      ],
      "text/plain": [
       "{'result': result: None; err: None; info: <cell: from warnings import warn; warn(\"1\"); id: None>,\n",
       " 'stdout': '',\n",
       " 'stderr': '<ipython-input-1-a51443ae013a>:1: UserWarning: 1\\n  from warnings import warn; warn(\"1\")\\n',\n",
       " 'display_objects': [],\n",
       " 'exception': None,\n",
       " 'quiet': False}"
      ]
     },
     "execution_count": null,
     "metadata": {},
     "output_type": "execute_result"
    }
   ],
   "source": [
    "o = s.run_cell('from warnings import warn; warn(\"1\")')\n",
    "o"
   ]
  },
  {
   "cell_type": "code",
   "execution_count": null,
   "metadata": {},
   "outputs": [
    {
     "data": {
      "text/markdown": [
       "```json\n",
       "{ 'display_objects': [],\n",
       "  'exception': None,\n",
       "  'quiet': False,\n",
       "  'result': result: 1; err: None; info: <cell: 1; id: None>,\n",
       "  'stderr': '',\n",
       "  'stdout': ''}\n",
       "```"
      ],
      "text/plain": [
       "{'result': result: 1; err: None; info: <cell: 1; id: None>,\n",
       " 'stdout': '',\n",
       " 'stderr': '',\n",
       " 'display_objects': [],\n",
       " 'exception': None,\n",
       " 'quiet': False}"
      ]
     },
     "execution_count": null,
     "metadata": {},
     "output_type": "execute_result"
    }
   ],
   "source": [
    "o = s.run_cell('1')\n",
    "o"
   ]
  },
  {
   "cell_type": "code",
   "execution_count": null,
   "metadata": {},
   "outputs": [
    {
     "data": {
      "text/markdown": [
       "```json\n",
       "{ 'display_objects': [ <IPython.utils.capture.RichOutput object>],\n",
       "  'exception': None,\n",
       "  'quiet': False,\n",
       "  'result': result: <IPython.core.display.Markdown object>; err: None; info: <cell: from IPython.display import Markdown,display; print(0); display(Markdown(\"*2*\")); Markdown(\"*1*\"); id: None>,\n",
       "  'stderr': '',\n",
       "  'stdout': '0\\n'}\n",
       "```"
      ],
      "text/plain": [
       "{'result': result: <IPython.core.display.Markdown object>; err: None; info: <cell: from IPython.display import Markdown,display; print(0); display(Markdown(\"*2*\")); Markdown(\"*1*\"); id: None>,\n",
       " 'stdout': '0\\n',\n",
       " 'stderr': '',\n",
       " 'display_objects': [<IPython.utils.capture.RichOutput>],\n",
       " 'exception': None,\n",
       " 'quiet': False}"
      ]
     },
     "execution_count": null,
     "metadata": {},
     "output_type": "execute_result"
    }
   ],
   "source": [
    "o = s.run_cell('from IPython.display import Markdown,display; print(0); display(Markdown(\"*2*\")); Markdown(\"*1*\")')\n",
    "o"
   ]
  },
  {
   "cell_type": "code",
   "execution_count": null,
   "metadata": {},
   "outputs": [
    {
     "data": {
      "text/markdown": [
       "*1*"
      ],
      "text/plain": [
       "<IPython.core.display.Markdown object>"
      ]
     },
     "execution_count": null,
     "metadata": {},
     "output_type": "execute_result"
    }
   ],
   "source": [
    "o.result.result"
   ]
  },
  {
   "cell_type": "code",
   "execution_count": null,
   "metadata": {},
   "outputs": [
    {
     "data": {
      "text/markdown": [
       "*2*"
      ],
      "text/plain": [
       "<IPython.core.display.Markdown object>"
      ]
     },
     "execution_count": null,
     "metadata": {},
     "output_type": "execute_result"
    }
   ],
   "source": [
    "o.display_objects[0]"
   ]
  },
  {
   "cell_type": "code",
   "execution_count": null,
   "metadata": {},
   "outputs": [
    {
     "data": {
      "text/markdown": [
       "```json\n",
       "{ 'display_objects': [],\n",
       "  'exception': None,\n",
       "  'quiet': True,\n",
       "  'result': result: 1; err: None; info: <cell: 1;; id: None>,\n",
       "  'stderr': '',\n",
       "  'stdout': ''}\n",
       "```"
      ],
      "text/plain": [
       "{'result': result: 1; err: None; info: <cell: 1;; id: None>,\n",
       " 'stdout': '',\n",
       " 'stderr': '',\n",
       " 'display_objects': [],\n",
       " 'exception': None,\n",
       " 'quiet': True}"
      ]
     },
     "execution_count": null,
     "metadata": {},
     "output_type": "execute_result"
    }
   ],
   "source": [
    "o = s.run_cell('1;')\n",
    "o"
   ]
  },
  {
   "cell_type": "code",
   "execution_count": null,
   "metadata": {},
   "outputs": [
    {
     "data": {
      "text/markdown": [
       "```json\n",
       "{ 'display_objects': [ <IPython.utils.capture.RichOutput object>],\n",
       "  'exception': None,\n",
       "  'quiet': False,\n",
       "  'result': result: [<matplotlib.lines.Line2D object>]; err: None; info: <cell: import matplotlib.pyplot as plt; plt.plot([1,2,3]); id: None>,\n",
       "  'stderr': '',\n",
       "  'stdout': ''}\n",
       "```"
      ],
      "text/plain": [
       "{'result': result: [<matplotlib.lines.Line2D object>]; err: None; info: <cell: import matplotlib.pyplot as plt; plt.plot([1,2,3]); id: None>,\n",
       " 'stdout': '',\n",
       " 'stderr': '',\n",
       " 'display_objects': [<IPython.utils.capture.RichOutput>],\n",
       " 'exception': None,\n",
       " 'quiet': False}"
      ]
     },
     "execution_count": null,
     "metadata": {},
     "output_type": "execute_result"
    }
   ],
   "source": [
    "o = s.run_cell('import matplotlib.pyplot as plt; plt.plot([1,2,3])')\n",
    "o"
   ]
  },
  {
   "cell_type": "code",
   "execution_count": null,
   "metadata": {},
   "outputs": [
    {
     "data": {
      "text/plain": [
       "<matplotlib.lines.Line2D>"
      ]
     },
     "execution_count": null,
     "metadata": {},
     "output_type": "execute_result"
    }
   ],
   "source": [
    "o.result.result[0]"
   ]
  },
  {
   "cell_type": "code",
   "execution_count": null,
   "metadata": {},
   "outputs": [
    {
     "data": {
      "image/png": "[encoded data removed]",
      "text/plain": [
       "<Figure size 640x480 with 1 Axes>"
      ]
     },
     "execution_count": null,
     "metadata": {
      "image/png": {
       "height": 413,
       "width": 556
      }
     },
     "output_type": "execute_result"
    }
   ],
   "source": [
    "o.display_objects[0]"
   ]
  },
  {
   "cell_type": "code",
   "execution_count": null,
   "metadata": {},
   "outputs": [
    {
     "data": {
      "text/markdown": [
       "```json\n",
       "{ 'display_objects': [],\n",
       "  'exception': None,\n",
       "  'quiet': False,\n",
       "  'result': result:    A  B\n",
       "0  1  3\n",
       "1  2  4; err: None; info: <cell: \n",
       "import pandas as pd\n",
       "pd.DataFrame({'A': [1, 2], 'B': [3, 4]}); id: None>,\n",
       "  'stderr': '',\n",
       "  'stdout': ''}\n",
       "```"
      ],
      "text/plain": [
       "{'result': result:    A  B\n",
       " 0  1  3\n",
       " 1  2  4; err: None; info: <cell: \n",
       " import pandas as pd\n",
       " pd.DataFrame({'A': [1, 2], 'B': [3, 4]}); id: None>,\n",
       " 'stdout': '',\n",
       " 'stderr': '',\n",
       " 'display_objects': [],\n",
       " 'exception': None,\n",
       " 'quiet': False}"
      ]
     },
     "execution_count": null,
     "metadata": {},
     "output_type": "execute_result"
    }
   ],
   "source": [
    "o = s.run_cell('''\n",
    "import pandas as pd\n",
    "pd.DataFrame({'A': [1, 2], 'B': [3, 4]})''')\n",
    "o"
   ]
  },
  {
   "cell_type": "code",
   "execution_count": null,
   "metadata": {},
   "outputs": [
    {
     "data": {
      "text/html": [
       "<div>\n",
       "<style scoped>\n",
       "    .dataframe tbody tr th:only-of-type {\n",
       "        vertical-align: middle;\n",
       "    }\n",
       "\n",
       "    .dataframe tbody tr th {\n",
       "        vertical-align: top;\n",
       "    }\n",
       "\n",
       "    .dataframe thead th {\n",
       "        text-align: right;\n",
       "    }\n",
       "</style>\n",
       "<table border=\"1\" class=\"dataframe\">\n",
       "  <thead>\n",
       "    <tr style=\"text-align: right;\">\n",
       "      <th></th>\n",
       "      <th>A</th>\n",
       "      <th>B</th>\n",
       "    </tr>\n",
       "  </thead>\n",
       "  <tbody>\n",
       "    <tr>\n",
       "      <th>0</th>\n",
       "      <td>1</td>\n",
       "      <td>3</td>\n",
       "    </tr>\n",
       "    <tr>\n",
       "      <th>1</th>\n",
       "      <td>2</td>\n",
       "      <td>4</td>\n",
       "    </tr>\n",
       "  </tbody>\n",
       "</table>\n",
       "</div>"
      ],
      "text/plain": [
       "   A  B\n",
       "0  1  3\n",
       "1  2  4"
      ]
     },
     "execution_count": null,
     "metadata": {},
     "output_type": "execute_result"
    }
   ],
   "source": [
    "o.result.result"
   ]
  },
  {
   "cell_type": "code",
   "execution_count": null,
   "metadata": {},
   "outputs": [
    {
     "data": {
      "text/markdown": [
       "```json\n",
       "{ 'display_objects': [],\n",
       "  'exception': ZeroDivisionError('division by zero'),\n",
       "  'quiet': False,\n",
       "  'result': result: None; err: division by zero; info: <cell: 1/0; id: None>,\n",
       "  'stderr': '',\n",
       "  'stdout': '\\x1b[31m---------------------------------------------------------------------------\\x1b[39m\\n'\n",
       "            '\\x1b[31mZeroDivisionError\\x1b[39m                         '\n",
       "            'Traceback (most recent call last)\\n'\n",
       "            '\\x1b[36mFile '\n",
       "            '\\x1b[39m\\x1b[32m<ipython-input-1-9e1622b385b6>:1\\x1b[39m\\n'\n",
       "            '\\x1b[32m----> \\x1b[39m\\x1b[32m1\\x1b[39m '\n",
       "            '\\x1b[32;43m1\\x1b[39;49m\\x1b[43m/\\x1b[49m\\x1b[32;43m0\\x1b[39;49m\\n'\n",
       "            '\\n'\n",
       "            '\\x1b[31mZeroDivisionError\\x1b[39m: division by zero\\n'}\n",
       "```"
      ],
      "text/plain": [
       "{'result': result: None; err: division by zero; info: <cell: 1/0; id: None>,\n",
       " 'stdout': '\\x1b[31m---------------------------------------------------------------------------\\x1b[39m\\n\\x1b[31mZeroDivisionError\\x1b[39m                         Traceback (most recent call last)\\n\\x1b[36mFile \\x1b[39m\\x1b[32m<ipython-input-1-9e1622b385b6>:1\\x1b[39m\\n\\x1b[32m----> \\x1b[39m\\x1b[32m1\\x1b[39m \\x1b[32;43m1\\x1b[39;49m\\x1b[43m/\\x1b[49m\\x1b[32;43m0\\x1b[39;49m\\n\\n\\x1b[31mZeroDivisionError\\x1b[39m: division by zero\\n',\n",
       " 'stderr': '',\n",
       " 'display_objects': [],\n",
       " 'exception': ZeroDivisionError('division by zero'),\n",
       " 'quiet': False}"
      ]
     },
     "execution_count": null,
     "metadata": {},
     "output_type": "execute_result"
    }
   ],
   "source": [
    "o = s.run_cell('1/0')\n",
    "o"
   ]
  },
  {
   "cell_type": "code",
   "execution_count": null,
   "metadata": {},
   "outputs": [
    {
     "data": {
      "text/plain": [
       "TimeoutError()"
      ]
     },
     "execution_count": null,
     "metadata": {},
     "output_type": "execute_result"
    }
   ],
   "source": [
    "o = s.run_cell('import time; time.sleep(2)', timeout=1)\n",
    "o['exception']"
   ]
  },
  {
   "cell_type": "markdown",
   "metadata": {},
   "source": [
    "### Cells / run"
   ]
  },
  {
   "cell_type": "code",
   "execution_count": null,
   "metadata": {},
   "outputs": [],
   "source": [
    "#| export\n",
    "def format_exc(e):\n",
    "    \"Format exception `e` as a string list\"\n",
    "    return traceback.format_exception(type(e), e, e.__traceback__)"
   ]
  },
  {
   "cell_type": "code",
   "execution_count": null,
   "metadata": {},
   "outputs": [],
   "source": [
    "#| export\n",
    "class NbResult(list): pass"
   ]
  },
  {
   "cell_type": "code",
   "execution_count": null,
   "metadata": {},
   "outputs": [],
   "source": [
    "#|export\n",
    "def _out_stream(text, name): return dict(name=name, output_type='stream', text=text.splitlines(True))\n",
    "def _out_exc(e):\n",
    "    ename = type(e).__name__\n",
    "    tb = traceback.extract_tb(e.__traceback__)#.format()\n",
    "    return dict(ename=str(ename), evalue=str(e), output_type='error', traceback=format_exc(e))\n",
    "\n",
    "def _format_mimedata(k, v):\n",
    "    \"Format mime-type keyed data consistently with Jupyter\"\n",
    "    if k.startswith('text/'): return v.splitlines(True)\n",
    "    if k.startswith('image/') and isinstance(v, bytes):\n",
    "        v = b64encode(v).decode()\n",
    "        return v+'\\n' if not v.endswith('\\n') else v\n",
    "    return v\n",
    "\n",
    "def _mk_out(data, meta, output_type='display_data'):\n",
    "    fd = {k:_format_mimedata(k,v) for k,v in data.items()}\n",
    "    return dict(data=fd, metadata=meta, output_type=output_type)\n",
    "\n",
    "def _out_nb(o, fmt):\n",
    "    res = NbResult()\n",
    "    if o.stdout: res.append(_out_stream(o.stdout, 'stdout'))\n",
    "    if o.stderr: res.append(_out_stream(o.stderr, 'stderr'))\n",
    "    if o.exception: res.append(_out_exc(o.exception))\n",
    "    res.result = o.result.result\n",
    "    for x in o.display_objects: res.append(_mk_out(x.data, x.metadata))\n",
    "    if res.result is not None and not o.quiet:\n",
    "        res.append(_mk_out(*fmt.format(res.result), 'execute_result'))\n",
    "    if 'execution_count' not in o: o['execution_count']=None\n",
    "    for p in res:\n",
    "        if p[\"output_type\"]==\"execute_result\": p['execution_count'] = o['execution_count']\n",
    "    return res"
   ]
  },
  {
   "cell_type": "code",
   "execution_count": null,
   "metadata": {},
   "outputs": [],
   "source": [
    "#|export\n",
    "@patch\n",
    "def run(self:CaptureShell,\n",
    "        code:str, # Python/IPython code to run\n",
    "        stdout=True, # Capture stdout and save as output?\n",
    "        stderr=True, # Capture stderr and save as output?\n",
    "        timeout:Optional[int]=None, # Shell command will time out after {timeout} seconds\n",
    "        verbose:bool=False): # Show stdout/stderr during execution\n",
    "    \"Run `code`, returning a list of all outputs in Jupyter notebook format\"\n",
    "    res = self.run_cell(code, stdout=stdout, stderr=stderr, timeout=timeout, verbose=verbose)\n",
    "    self.result = res.result.result\n",
    "    self.exc = res.exception\n",
    "    return _out_nb(res, self.display_formatter)"
   ]
  },
  {
   "cell_type": "code",
   "execution_count": null,
   "metadata": {},
   "outputs": [],
   "source": [
    "s = CaptureShell()"
   ]
  },
  {
   "cell_type": "code",
   "execution_count": null,
   "metadata": {},
   "outputs": [
    {
     "data": {
      "text/plain": [
       "[{'name': 'stdout', 'output_type': 'stream', 'text': ['1\\n']}]"
      ]
     },
     "execution_count": null,
     "metadata": {},
     "output_type": "execute_result"
    }
   ],
   "source": [
    "s.run(\"print(1)\")"
   ]
  },
  {
   "cell_type": "markdown",
   "metadata": {},
   "source": [
    "Code can include magics and `!` shell commands:"
   ]
  },
  {
   "cell_type": "code",
   "execution_count": null,
   "metadata": {},
   "outputs": [
    {
     "data": {
      "text/plain": [
       "[{'name': 'stdout',\n",
       "  'output_type': 'stream',\n",
       "  'text': ['CPU times: user 1 us, sys: 1 us, total: 2 us\\n',\n",
       "   'Wall time: 4.05 us\\n']},\n",
       " {'data': {'text/plain': ['2']},\n",
       "  'metadata': {},\n",
       "  'output_type': 'execute_result',\n",
       "  'execution_count': None}]"
      ]
     },
     "execution_count": null,
     "metadata": {},
     "output_type": "execute_result"
    }
   ],
   "source": [
    "o = s.run(\"%time 1+1\")\n",
    "o"
   ]
  },
  {
   "cell_type": "markdown",
   "metadata": {},
   "source": [
    "The result of the last successful execution is stored in `result`:"
   ]
  },
  {
   "cell_type": "code",
   "execution_count": null,
   "metadata": {},
   "outputs": [
    {
     "data": {
      "text/plain": [
       "2"
      ]
     },
     "execution_count": null,
     "metadata": {},
     "output_type": "execute_result"
    }
   ],
   "source": [
    "s.result"
   ]
  },
  {
   "cell_type": "markdown",
   "metadata": {},
   "source": [
    "A trailing `;` stops the result from being captured:"
   ]
  },
  {
   "cell_type": "code",
   "execution_count": null,
   "metadata": {},
   "outputs": [
    {
     "data": {
      "text/plain": [
       "[]"
      ]
     },
     "execution_count": null,
     "metadata": {},
     "output_type": "execute_result"
    }
   ],
   "source": [
    "s.run(\"1+2;\")"
   ]
  },
  {
   "cell_type": "code",
   "execution_count": null,
   "metadata": {},
   "outputs": [
    {
     "data": {
      "text/plain": [
       "[{'name': 'stdout',\n",
       "  'output_type': 'stream',\n",
       "  'text': ['\\x1b[31m---------------------------------------------------------------------------\\x1b[39m\\n',\n",
       "   '\\x1b[31mZeroDivisionError\\x1b[39m                         Traceback (most recent call last)\\n',\n",
       "   '\\x1b[36mFile \\x1b[39m\\x1b[32m<ipython-input-1-9e1622b385b6>:1\\x1b[39m\\n',\n",
       "   '\\x1b[32m----> \\x1b[39m\\x1b[32m1\\x1b[39m \\x1b[32;43m1\\x1b[39;49m\\x1b[43m/\\x1b[49m\\x1b[32;43m0\\x1b[39;49m\\n',\n",
       "   '\\n',\n",
       "   '\\x1b[31mZeroDivisionError\\x1b[39m: division by zero\\n']},\n",
       " {'ename': 'ZeroDivisionError',\n",
       "  'evalue': 'division by zero',\n",
       "  'output_type': 'error',\n",
       "  'traceback': ['Traceback (most recent call last):\\n',\n",
       "   '  File \"/home/radek/miniconda3/envs/kaggle/lib/python3.11/site-packages/IPython/core/interactiveshell.py\", line 3672, in run_code\\n    exec(code_obj, self.user_global_ns, self.user_ns)\\n',\n",
       "   '  File \"<ipython-input-1-9e1622b385b6>\", line 1, in <module>\\n    1/0\\n    ~^~\\n',\n",
       "   'ZeroDivisionError: division by zero\\n']}]"
      ]
     },
     "execution_count": null,
     "metadata": {},
     "output_type": "execute_result"
    }
   ],
   "source": [
    "o = s.run(\"1/0\")\n",
    "o"
   ]
  },
  {
   "cell_type": "markdown",
   "metadata": {},
   "source": [
    "This is how IPython formats exceptions internally:"
   ]
  },
  {
   "cell_type": "code",
   "execution_count": null,
   "metadata": {},
   "outputs": [],
   "source": [
    "from IPython.core.ultratb import VerboseTB"
   ]
  },
  {
   "cell_type": "code",
   "execution_count": null,
   "metadata": {},
   "outputs": [],
   "source": [
    "with warnings.catch_warnings():\n",
    "    warnings.filterwarnings(\"ignore\", category=DeprecationWarning)\n",
    "    formatter = VerboseTB(color_scheme='Linux')"
   ]
  },
  {
   "cell_type": "code",
   "execution_count": null,
   "metadata": {},
   "outputs": [
    {
     "name": "stdout",
     "output_type": "stream",
     "text": [
      "\u001b[91m---------------------------------------------------------------------------\u001b[39m\n",
      "\u001b[91mNameError\u001b[39m                                 Traceback (most recent call last)\n",
      "\u001b[96mCell\u001b[39m\u001b[96m \u001b[39m\u001b[32mIn[35]\u001b[39m\u001b[32m, line 1\u001b[39m\n",
      "\u001b[92m----> \u001b[39m\u001b[92m1\u001b[39m \u001b[38;5;81mtry\u001b[39m\u001b[38;5;15m:\u001b[39m\u001b[38;5;15m \u001b[39m\u001b[38;5;15mf\u001b[39m\u001b[38;5;15m(\u001b[39m\u001b[38;5;15m)\u001b[39m\n",
      "\u001b[92m      2\u001b[39m \u001b[38;5;81mexcept\u001b[39m\u001b[38;5;15m \u001b[39m\u001b[38;5;148mException\u001b[39m\u001b[38;5;15m \u001b[39m\u001b[38;5;81mas\u001b[39m\u001b[38;5;15m \u001b[39m\u001b[38;5;15me\u001b[39m\u001b[38;5;15m:\u001b[39m\n",
      "\u001b[92m      3\u001b[39m \u001b[38;5;15m    \u001b[39m\u001b[38;5;15mex\u001b[39m\u001b[38;5;15m \u001b[39m\u001b[38;5;204m=\u001b[39m\u001b[38;5;15m \u001b[39m\u001b[38;5;15me\u001b[39m\n",
      "\n",
      "\u001b[91mNameError\u001b[39m: name 'f' is not defined\n"
     ]
    }
   ],
   "source": [
    "try: f()\n",
    "except Exception as e:\n",
    "    ex = e\n",
    "    print(formatter.text(type(e), e, e.__traceback__))"
   ]
  },
  {
   "cell_type": "code",
   "execution_count": null,
   "metadata": {},
   "outputs": [
    {
     "data": {
      "text/plain": [
       "[{'name': 'stdout', 'output_type': 'stream', 'text': ['no timeout\\n']}]"
      ]
     },
     "execution_count": null,
     "metadata": {},
     "output_type": "execute_result"
    }
   ],
   "source": [
    "s.run(\"import time; time.sleep(0.1); print('no timeout')\", timeout=1)"
   ]
  },
  {
   "cell_type": "code",
   "execution_count": null,
   "metadata": {},
   "outputs": [
    {
     "data": {
      "text/plain": [
       "['\\x1b[31m---------------------------------------------------------------------------\\x1b[39m\\n',\n",
       " '\\x1b[31mTimeoutError\\x1b[39m                              Traceback (most recent call last)\\n']"
      ]
     },
     "execution_count": null,
     "metadata": {},
     "output_type": "execute_result"
    }
   ],
   "source": [
    "o = s.run(\"import time; time.sleep(1.1)\", timeout=1)\n",
    "o[0]['text'][:2]"
   ]
  },
  {
   "cell_type": "code",
   "execution_count": null,
   "metadata": {},
   "outputs": [
    {
     "data": {
      "text/plain": [
       "[{'name': 'stdout', 'output_type': 'stream', 'text': ['0\\n', '1\\n']},\n",
       " {'data': {'text/plain': ['<IPython.core.display.Markdown object>'],\n",
       "   'text/markdown': ['*2*']},\n",
       "  'metadata': {},\n",
       "  'output_type': 'display_data'},\n",
       " {'data': {'text/plain': ['<IPython.core.display.Markdown object>'],\n",
       "   'text/markdown': ['*1*']},\n",
       "  'metadata': {},\n",
       "  'output_type': 'execute_result',\n",
       "  'execution_count': None}]"
      ]
     },
     "execution_count": null,
     "metadata": {},
     "output_type": "execute_result"
    }
   ],
   "source": [
    "o1 = s.run('from IPython.display import Markdown,display; print(0); print(1); display(Markdown(\"*2*\")); Markdown(\"*1*\")')\n",
    "o1"
   ]
  },
  {
   "cell_type": "code",
   "execution_count": null,
   "metadata": {},
   "outputs": [],
   "source": [
    "#| export\n",
    "@patch\n",
    "async def run_async(self:CaptureShell,\n",
    "        code: str,  # Python/IPython code to run\n",
    "        stdout=True,  # Capture stdout and save as output?\n",
    "        stderr=True,  # Capture stderr and save as output?\n",
    "        timeout:Optional[int]=None, # Shell command will time out after {timeout} seconds\n",
    "        verbose:bool=False): # Show stdout/stderr during execution\n",
    "    return self.run(code, stdout=stdout, stderr=stderr, timeout=timeout, verbose=verbose)"
   ]
  },
  {
   "cell_type": "code",
   "execution_count": null,
   "metadata": {},
   "outputs": [
    {
     "data": {
      "text/plain": [
       "[{'data': {'text/plain': ['2']},\n",
       "  'metadata': {},\n",
       "  'output_type': 'execute_result',\n",
       "  'execution_count': None}]"
      ]
     },
     "execution_count": null,
     "metadata": {},
     "output_type": "execute_result"
    }
   ],
   "source": [
    "await s.run_async(\"1+1\")"
   ]
  },
  {
   "cell_type": "code",
   "execution_count": null,
   "metadata": {},
   "outputs": [],
   "source": [
    "#| export\n",
    "def _pre(s, xtra=''): return f\"<pre {xtra}><code>{escape(s)}</code></pre>\"\n",
    "def _strip(s): return strip_ansi(escape(s))\n",
    "\n",
    "def render_outputs(outputs, ansi_renderer=_strip, include_imgs=True, pygments=False, md_tfm=noop, html_tfm=noop):\n",
    "    try:\n",
    "        from mistletoe import markdown, HTMLRenderer\n",
    "        from mistletoe.contrib.pygments_renderer import PygmentsRenderer\n",
    "    except ImportError: return print('mistletoe not found -- please install it for execnb.shell.render_output')\n",
    "    renderer = PygmentsRenderer if pygments else HTMLRenderer\n",
    "    \n",
    "    def render_output(out):\n",
    "        otype = out['output_type']\n",
    "        if otype == 'stream':\n",
    "            txt = ansi_renderer(''.join(out[\"text\"]))\n",
    "            xtra = '' if out['name']=='stdout' else \"class='stderr'\"\n",
    "            is_err = '<span class' in txt\n",
    "            return f\"<pre {xtra}><code class='{'nohighlight hljs' if is_err else ''}'>{txt}</code></pre>\"\n",
    "        elif otype in ('display_data','execute_result'):\n",
    "            data = out['data']\n",
    "            _g = lambda t: ''.join(data[t]) if t in data else None\n",
    "            if d := _g('text/html'): return html_tfm(d)\n",
    "            if d := _g('application/javascript'): return f'<script>{d}</script>'\n",
    "            if d := _g('text/markdown'): return md_tfm(markdown(d, renderer=renderer))\n",
    "            if d := _g('text/latex'): return f'<div class=\"math\">${d}$</div>'\n",
    "            if include_imgs:\n",
    "                if d := _g('image/jpeg'): return f'<img src=\"data:image/jpeg;base64,{d}\"/>'\n",
    "                if d := _g('image/png'): return f'<img src=\"data:image/png;base64,{d}\"/>'\n",
    "                if d := _g('image/svg+xml'): return d\n",
    "            if d := _g('text/plain'): return _pre(d)\n",
    "            \n",
    "        return ''\n",
    "\n",
    "    return '\\n'.join(map(render_output, outputs))"
   ]
  },
  {
   "cell_type": "code",
   "execution_count": null,
   "metadata": {},
   "outputs": [
    {
     "data": {
      "text/html": [
       "<pre ><code class=''>---------------------------------------------------------------------------\n",
       "TimeoutError                              Traceback (most recent call last)\n",
       "File &lt;ipython-input-1-a5c3817716b6&gt;:1\n",
       "----&gt; 1 import time; time.sleep(1.1)\n",
       "\n",
       "Cell In[6], line 7, in run_cell.&lt;locals&gt;.handler(*args)\n",
       "----&gt; 7 def handler(*args): raise TimeoutError()\n",
       "\n",
       "TimeoutError: \n",
       "</code></pre>\n"
      ],
      "text/plain": [
       "<IPython.core.display.HTML object>"
      ]
     },
     "execution_count": null,
     "metadata": {},
     "output_type": "execute_result"
    }
   ],
   "source": [
    "HTML(render_outputs(o))"
   ]
  },
  {
   "cell_type": "markdown",
   "metadata": {},
   "source": [
    "We can use `ansi2html` to convert from ANSI to HTML for color rendering.  You need some [css styles](https://github.com/fastai/fastcore/blob/master/examples/ansi.css) for the colors to render properly.  Jupyter already has these built in so it's not neccessary here, but if you plan on using this in another web app you will need to ensure that css styling is included."
   ]
  },
  {
   "cell_type": "code",
   "execution_count": null,
   "metadata": {},
   "outputs": [
    {
     "data": {
      "text/html": [
       "<pre ><code class='nohighlight hljs'><span class=\"ansi-red-fg\">---------------------------------------------------------------------------</span>\n",
       "<span class=\"ansi-red-fg\">TimeoutError</span>                              Traceback (most recent call last)\n",
       "<span class=\"ansi-cyan-fg\">File </span><span class=\"ansi-green-fg\">&lt;ipython-input-1-a5c3817716b6&gt;:1</span>\n",
       "<span class=\"ansi-green-fg\">----&gt; </span><span class=\"ansi-green-fg\">1</span> <span class=\"ansi-bold\" style=\"color: rgb(0,135,0)\">import</span><span style=\"color: rgb(188,188,188)\"> </span><span class=\"ansi-blue-intense-fg ansi-bold\">time</span>; time.sleep(<span class=\"ansi-green-fg\">1.1</span>)\n",
       "\n",
       "<span class=\"ansi-cyan-fg\">Cell</span><span class=\"ansi-cyan-fg\"> </span><span class=\"ansi-green-fg\">In[6]</span><span class=\"ansi-green-fg\">, line 7</span>, in <span class=\"ansi-cyan-fg\">run_cell.&lt;locals&gt;.handler</span><span class=\"ansi-blue-fg\">(*args)</span>\n",
       "<span class=\"ansi-green-fg\">----&gt; </span><span class=\"ansi-green-fg\">7</span> <span class=\"ansi-bold\" style=\"color: rgb(0,135,0)\">def</span><span style=\"color: rgb(188,188,188)\"> </span><span class=\"ansi-blue-fg\">handler</span>(*args): <span class=\"ansi-bold\" style=\"color: rgb(0,135,0)\">raise</span> <span class=\"ansi-bold\" style=\"color: rgb(215,95,95)\">TimeoutError</span>()\n",
       "\n",
       "<span class=\"ansi-red-fg\">TimeoutError</span>: \n",
       "</code></pre>\n"
      ],
      "text/plain": [
       "<IPython.core.display.HTML object>"
      ]
     },
     "execution_count": null,
     "metadata": {},
     "output_type": "execute_result"
    }
   ],
   "source": [
    "HTML(render_outputs(o, ansi2html))"
   ]
  },
  {
   "cell_type": "markdown",
   "metadata": {},
   "source": [
    "Images and matplotlib figures are captured:"
   ]
  },
  {
   "cell_type": "code",
   "execution_count": null,
   "metadata": {},
   "outputs": [
    {
     "data": {
      "text/html": [
       "<img src=\"data:image/png;base64,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\"/>"
      ],
      "text/plain": [
       "<IPython.core.display.HTML object>"
      ]
     },
     "execution_count": null,
     "metadata": {},
     "output_type": "execute_result"
    }
   ],
   "source": [
    "res = s.run('''import matplotlib.pyplot as plt\n",
    "plt.figure(figsize=(2,1))\n",
    "plt.plot([1,2,4]);''')\n",
    "\n",
    "HTML(render_outputs(res))"
   ]
  },
  {
   "cell_type": "markdown",
   "metadata": {},
   "source": [
    "If an exception is raised then the exception type, object, and stacktrace are stored in `exc`:"
   ]
  },
  {
   "cell_type": "code",
   "execution_count": null,
   "metadata": {},
   "outputs": [
    {
     "data": {
      "text/plain": [
       "[{'name': 'stdout',\n",
       "  'output_type': 'stream',\n",
       "  'text': ['\\x1b[31m---------------------------------------------------------------------------\\x1b[39m\\n',\n",
       "   '\\x1b[31mException\\x1b[39m                                 Traceback (most recent call last)\\n',\n",
       "   '\\x1b[36mFile \\x1b[39m\\x1b[32m<ipython-input-1-01648acb07bd>:1\\x1b[39m\\n',\n",
       "   '\\x1b[32m----> \\x1b[39m\\x1b[32m1\\x1b[39m \\x1b[38;5;28;01mraise\\x1b[39;00m \\x1b[38;5;167;01mException\\x1b[39;00m(\\x1b[33m\"\\x1b[39m\\x1b[33mOops\\x1b[39m\\x1b[33m\"\\x1b[39m)\\n',\n",
       "   '\\n',\n",
       "   '\\x1b[31mException\\x1b[39m: Oops\\n']},\n",
       " {'ename': 'Exception',\n",
       "  'evalue': 'Oops',\n",
       "  'output_type': 'error',\n",
       "  'traceback': ['Traceback (most recent call last):\\n',\n",
       "   '  File \"/home/radek/miniconda3/envs/kaggle/lib/python3.11/site-packages/IPython/core/interactiveshell.py\", line 3672, in run_code\\n    exec(code_obj, self.user_global_ns, self.user_ns)\\n',\n",
       "   '  File \"<ipython-input-1-01648acb07bd>\", line 1, in <module>\\n    raise Exception(\"Oops\")\\n',\n",
       "   'Exception: Oops\\n']}]"
      ]
     },
     "execution_count": null,
     "metadata": {},
     "output_type": "execute_result"
    }
   ],
   "source": [
    "o = s.run('raise Exception(\"Oops\")')\n",
    "o"
   ]
  },
  {
   "cell_type": "code",
   "execution_count": null,
   "metadata": {},
   "outputs": [
    {
     "data": {
      "text/plain": [
       "Exception('Oops')"
      ]
     },
     "execution_count": null,
     "metadata": {},
     "output_type": "execute_result"
    }
   ],
   "source": [
    "s.exc"
   ]
  },
  {
   "cell_type": "code",
   "execution_count": null,
   "metadata": {},
   "outputs": [],
   "source": [
    "#|export\n",
    "@patch\n",
    "def cell(self:CaptureShell, cell, stdout=True, stderr=True, verbose=False):\n",
    "    \"Run `cell`, skipping if not code, and store outputs back in cell\"\n",
    "    if cell.cell_type!='code': return\n",
    "    self._cell_idx = cell.idx_ + 1\n",
    "    outs = self.run(cell.source, verbose=verbose)\n",
    "    if outs: cell.outputs = _dict2obj(outs)"
   ]
  },
  {
   "cell_type": "code",
   "execution_count": null,
   "metadata": {},
   "outputs": [
    {
     "data": {
      "text/markdown": [
       "```json\n",
       "{ 'cell_type': 'code',\n",
       "  'execution_count': None,\n",
       "  'id': 'b123d6d0',\n",
       "  'idx_': 1,\n",
       "  'metadata': {},\n",
       "  'outputs': [],\n",
       "  'source': 'print(1)\\n2'}\n",
       "```"
      ],
      "text/plain": [
       "{'cell_type': 'code',\n",
       " 'execution_count': None,\n",
       " 'id': 'b123d6d0',\n",
       " 'metadata': {},\n",
       " 'outputs': [],\n",
       " 'source': 'print(1)\\n2',\n",
       " 'idx_': 1}"
      ]
     },
     "execution_count": null,
     "metadata": {},
     "output_type": "execute_result"
    }
   ],
   "source": [
    "clean = Path('../tests/clean.ipynb')\n",
    "nb = read_nb(clean)\n",
    "c = nb.cells[1]\n",
    "c"
   ]
  },
  {
   "cell_type": "code",
   "execution_count": null,
   "metadata": {},
   "outputs": [
    {
     "data": {
      "text/plain": [
       "[{'name': 'stdout', 'output_type': 'stream', 'text': ['1\\n']},\n",
       " {'data': {'text/plain': ['2']},\n",
       "  'metadata': {},\n",
       "  'output_type': 'execute_result',\n",
       "  'execution_count': None}]"
      ]
     },
     "execution_count": null,
     "metadata": {},
     "output_type": "execute_result"
    }
   ],
   "source": [
    "s.cell(c)\n",
    "c.outputs"
   ]
  },
  {
   "cell_type": "code",
   "execution_count": null,
   "metadata": {},
   "outputs": [],
   "source": [
    "#| export\n",
    "def find_output(outp, # Output from `run`\n",
    "                ot='execute_result' # Output_type to find\n",
    "               ):\n",
    "    \"Find first output of type `ot` in `CaptureShell.run` output\"\n",
    "    return first(o for o in outp if o['output_type']==ot)"
   ]
  },
  {
   "cell_type": "code",
   "execution_count": null,
   "metadata": {},
   "outputs": [
    {
     "data": {
      "text/markdown": [
       "```json\n",
       "{'text/plain': ['2']}\n",
       "```"
      ],
      "text/plain": [
       "{'text/plain': ['2']}"
      ]
     },
     "execution_count": null,
     "metadata": {},
     "output_type": "execute_result"
    }
   ],
   "source": [
    "find_output(c.outputs)['data']"
   ]
  },
  {
   "cell_type": "code",
   "execution_count": null,
   "metadata": {},
   "outputs": [
    {
     "data": {
      "text/plain": [
       "['1\\n']"
      ]
     },
     "execution_count": null,
     "metadata": {},
     "output_type": "execute_result"
    }
   ],
   "source": [
    "find_output(c.outputs, 'stream')['text']"
   ]
  },
  {
   "cell_type": "code",
   "execution_count": null,
   "metadata": {},
   "outputs": [],
   "source": [
    "#| export\n",
    "def out_exec(outp):\n",
    "    \"Get data from execution result in `outp`.\"\n",
    "    out = find_output(outp)\n",
    "    if out: return '\\n'.join(first(out['data'].values()))"
   ]
  },
  {
   "cell_type": "code",
   "execution_count": null,
   "metadata": {},
   "outputs": [
    {
     "data": {
      "text/plain": [
       "'2'"
      ]
     },
     "execution_count": null,
     "metadata": {},
     "output_type": "execute_result"
    }
   ],
   "source": [
    "out_exec(c.outputs)"
   ]
  },
  {
   "cell_type": "code",
   "execution_count": null,
   "metadata": {},
   "outputs": [],
   "source": [
    "#| export\n",
    "def out_stream(outp):\n",
    "    \"Get text from stream in `outp`.\"\n",
    "    out = find_output(outp, 'stream')\n",
    "    if out: return ('\\n'.join(out['text'])).strip()"
   ]
  },
  {
   "cell_type": "code",
   "execution_count": null,
   "metadata": {},
   "outputs": [
    {
     "data": {
      "text/plain": [
       "'1'"
      ]
     },
     "execution_count": null,
     "metadata": {},
     "output_type": "execute_result"
    }
   ],
   "source": [
    "out_stream(c.outputs)"
   ]
  },
  {
   "cell_type": "code",
   "execution_count": null,
   "metadata": {},
   "outputs": [],
   "source": [
    "#| export\n",
    "def out_error(outp):\n",
    "    \"Get traceback from error in `outp`.\"\n",
    "    out = find_output(outp, 'error')\n",
    "    if out: return '\\n'.join(out['traceback'])"
   ]
  },
  {
   "cell_type": "markdown",
   "metadata": {},
   "source": [
    "### NBs -"
   ]
  },
  {
   "cell_type": "code",
   "execution_count": null,
   "metadata": {},
   "outputs": [],
   "source": [
    "#|export\n",
    "def _false(o): return False\n",
    "\n",
    "@patch\n",
    "def run_all(self:CaptureShell,\n",
    "            nb, # A notebook read with `nbclient` or `read_nb`\n",
    "            exc_stop:bool=False, # Stop on exceptions?\n",
    "            preproc:callable=_false, # Called before each cell is executed\n",
    "            postproc:callable=_false, # Called after each cell is executed\n",
    "            inject_code:str|None=None, # Code to inject into a cell\n",
    "            inject_idx:int=0, # Cell to replace with `inject_code`\n",
    "            verbose:bool=False # Show stdout/stderr during execution\n",
    "           ):\n",
    "    \"Run all cells in `nb`, stopping at first exception if `exc_stop`\"\n",
    "    if inject_code is not None: nb.cells[inject_idx].source = inject_code\n",
    "    for cell in nb.cells:\n",
    "        if not preproc(cell):\n",
    "            self.cell(cell, verbose=verbose)\n",
    "            postproc(cell)\n",
    "        if self.exc and exc_stop: raise self.exc from None"
   ]
  },
  {
   "cell_type": "code",
   "execution_count": null,
   "metadata": {},
   "outputs": [
    {
     "data": {
      "text/plain": [
       "[]"
      ]
     },
     "execution_count": null,
     "metadata": {},
     "output_type": "execute_result"
    }
   ],
   "source": [
    "nb.cells[2].outputs"
   ]
  },
  {
   "cell_type": "code",
   "execution_count": null,
   "metadata": {},
   "outputs": [
    {
     "data": {
      "text/plain": [
       "[{'data': {'text/plain': ['<IPython.core.display.Markdown object>'],\n",
       "   'text/markdown': [\"This is *bold*. Here's a [link](https://www.fast.ai).\"]},\n",
       "  'metadata': {},\n",
       "  'output_type': 'execute_result',\n",
       "  'execution_count': None}]"
      ]
     },
     "execution_count": null,
     "metadata": {},
     "output_type": "execute_result"
    }
   ],
   "source": [
    "s.run_all(nb)\n",
    "nb.cells[2].outputs"
   ]
  },
  {
   "cell_type": "markdown",
   "metadata": {},
   "source": [
    "With `exc_stop=False` (the default), execution continues after exceptions, and exception details are stored into the appropriate cell's output:"
   ]
  },
  {
   "cell_type": "code",
   "execution_count": null,
   "metadata": {},
   "outputs": [
    {
     "data": {
      "text/plain": [
       "'raise Exception(\"Oopsie!\")'"
      ]
     },
     "execution_count": null,
     "metadata": {},
     "output_type": "execute_result"
    }
   ],
   "source": [
    "nb.cells[-1].source"
   ]
  },
  {
   "cell_type": "code",
   "execution_count": null,
   "metadata": {},
   "outputs": [
    {
     "data": {
      "text/plain": [
       "[{'name': 'stdout',\n",
       "  'output_type': 'stream',\n",
       "  'text': ['\\x1b[31m---------------------------------------------------------------------------\\x1b[39m\\n',\n",
       "   '\\x1b[31mException\\x1b[39m                                 Traceback (most recent call last)\\n',\n",
       "   '\\x1b[36mFile \\x1b[39m\\x1b[32m<ipython-input-1-1c97c1d317ab>:1\\x1b[39m\\n',\n",
       "   '\\x1b[32m----> \\x1b[39m\\x1b[32m1\\x1b[39m \\x1b[38;5;28;01mraise\\x1b[39;00m \\x1b[38;5;167;01mException\\x1b[39;00m(\\x1b[33m\"\\x1b[39m\\x1b[33mOopsie!\\x1b[39m\\x1b[33m\"\\x1b[39m)\\n',\n",
       "   '\\n',\n",
       "   '\\x1b[31mException\\x1b[39m: Oopsie!\\n']},\n",
       " {'ename': 'Exception',\n",
       "  'evalue': 'Oopsie!',\n",
       "  'output_type': 'error',\n",
       "  'traceback': ['Traceback (most recent call last):\\n',\n",
       "   '  File \"/home/radek/miniconda3/envs/kaggle/lib/python3.11/site-packages/IPython/core/interactiveshell.py\", line 3672, in run_code\\n    exec(code_obj, self.user_global_ns, self.user_ns)\\n',\n",
       "   '  File \"<ipython-input-1-1c97c1d317ab>\", line 1, in <module>\\n    raise Exception(\"Oopsie!\")\\n',\n",
       "   'Exception: Oopsie!\\n']}]"
      ]
     },
     "execution_count": null,
     "metadata": {},
     "output_type": "execute_result"
    }
   ],
   "source": [
    "nb.cells[-1].outputs"
   ]
  },
  {
   "cell_type": "markdown",
   "metadata": {},
   "source": [
    "With `exc_stop=True`, exceptions in a cell are raised and no further processing occurs:"
   ]
  },
  {
   "cell_type": "code",
   "execution_count": null,
   "metadata": {},
   "outputs": [
    {
     "name": "stdout",
     "output_type": "stream",
     "text": [
      "got exception: Oopsie!\n"
     ]
    }
   ],
   "source": [
    "try: s.run_all(nb, exc_stop=True)\n",
    "except Exception as e: print(f\"got exception: {e}\")"
   ]
  },
  {
   "cell_type": "markdown",
   "metadata": {},
   "source": [
    "We can pass a function to `preproc` to have it run on every cell. It can modify the cell as needed. If the function returns `True`, then that cell will not be executed. For instance, to skip the cell which raises an exception:"
   ]
  },
  {
   "cell_type": "code",
   "execution_count": null,
   "metadata": {},
   "outputs": [],
   "source": [
    "nb = read_nb(clean)\n",
    "s.run_all(nb, preproc=lambda c: 'raise' in c.source)"
   ]
  },
  {
   "cell_type": "markdown",
   "metadata": {},
   "source": [
    "This cell will contain no output, since it was skipped."
   ]
  },
  {
   "cell_type": "code",
   "execution_count": null,
   "metadata": {},
   "outputs": [
    {
     "data": {
      "text/plain": [
       "[]"
      ]
     },
     "execution_count": null,
     "metadata": {},
     "output_type": "execute_result"
    }
   ],
   "source": [
    "nb.cells[-1].outputs"
   ]
  },
  {
   "cell_type": "code",
   "execution_count": null,
   "metadata": {},
   "outputs": [
    {
     "data": {
      "text/plain": [
       "[{'name': 'stdout', 'output_type': 'stream', 'text': ['1\\n']},\n",
       " {'data': {'text/plain': ['2']},\n",
       "  'metadata': {},\n",
       "  'output_type': 'execute_result',\n",
       "  'execution_count': None}]"
      ]
     },
     "execution_count": null,
     "metadata": {},
     "output_type": "execute_result"
    }
   ],
   "source": [
    "nb.cells[1].outputs"
   ]
  },
  {
   "cell_type": "markdown",
   "metadata": {},
   "source": [
    "You can also pass a function to `postproc` to modify a cell after it is executed."
   ]
  },
  {
   "cell_type": "code",
   "execution_count": null,
   "metadata": {},
   "outputs": [],
   "source": [
    "#|export\n",
    "@patch\n",
    "def execute(self:CaptureShell,\n",
    "            src:str|Path, # Notebook path to read from\n",
    "            dest:str|None=None, # Notebook path to write to\n",
    "            exc_stop:bool=False, # Stop on exceptions?\n",
    "            preproc:callable=_false, # Called before each cell is executed\n",
    "            postproc:callable=_false, # Called after each cell is executed\n",
    "            inject_code:str|None=None, # Code to inject into a cell\n",
    "            inject_path:str|Path|None=None, # Path to file containing code to inject into a cell\n",
    "            inject_idx:int=0, # Cell to replace with `inject_code`\n",
    "            verbose:bool=False # Show stdout/stderr during execution\n",
    "):\n",
    "    \"Execute notebook from `src` and save with outputs to `dest\"\n",
    "    nb = read_nb(src)\n",
    "    self._fname = src\n",
    "    self.set_path(Path(src).parent.resolve())\n",
    "    if inject_path is not None: inject_code = Path(inject_path).read_text()\n",
    "    self.run_all(nb, exc_stop=exc_stop, preproc=preproc, postproc=postproc,\n",
    "                 inject_code=inject_code, inject_idx=inject_idx, verbose=verbose)\n",
    "    if dest: write_nb(nb, dest)"
   ]
  },
  {
   "cell_type": "markdown",
   "metadata": {},
   "source": [
    "This is a shortcut for the combination of `read_nb`, `CaptureShell.run_all`, and `write_nb`."
   ]
  },
  {
   "cell_type": "code",
   "execution_count": null,
   "metadata": {},
   "outputs": [
    {
     "name": "stdout",
     "output_type": "stream",
     "text": [
      "[{'name': 'stdout', 'output_type': 'stream', 'text': ['1\\n']}, {'data': {'text/plain': ['2']}, 'execution_count': None, 'metadata': {}, 'output_type': 'execute_result'}]\n"
     ]
    }
   ],
   "source": [
    "s = CaptureShell()\n",
    "try:\n",
    "    s.execute(clean, 'tmp.ipynb')\n",
    "    print(read_nb('tmp.ipynb').cells[1].outputs)\n",
    "finally: Path('tmp.ipynb').unlink()"
   ]
  },
  {
   "cell_type": "code",
   "execution_count": null,
   "metadata": {},
   "outputs": [],
   "source": [
    "p = Path.home()/'git'/'fastcore'/'nbs'\n",
    "n = p/'03a_parallel.ipynb'"
   ]
  },
  {
   "cell_type": "code",
   "execution_count": null,
   "metadata": {},
   "outputs": [],
   "source": [
    "#|export\n",
    "@patch\n",
    "def prettytb(self:CaptureShell, \n",
    "             fname:str|Path=None): # filename to print alongside the traceback\n",
    "    \"Show a pretty traceback for notebooks, optionally printing `fname`.\"\n",
    "    fname = fname if fname else self._fname\n",
    "    _fence = '='*75\n",
    "    cell_intro_str = f\"While Executing Cell #{self._cell_idx}:\" if self._cell_idx else \"While Executing:\"\n",
    "    cell_str = f\"\\n{cell_intro_str}\\n{''.join(format_exc(self.exc))}\"\n",
    "    fname_str = f' in {fname}' if fname else ''\n",
    "    return f\"{type(self.exc).__name__}{fname_str}:\\n{_fence}\\n{cell_str}\\n\""
   ]
  },
  {
   "cell_type": "markdown",
   "metadata": {},
   "source": [
    "If an error occurs while running a notebook, you can retrieve a pretty version of the error with the `prettytb` method: "
   ]
  },
  {
   "cell_type": "code",
   "execution_count": null,
   "metadata": {},
   "outputs": [
    {
     "name": "stdout",
     "output_type": "stream",
     "text": [
      "AssertionError in ../tests/error.ipynb:\n",
      "===========================================================================\n",
      "\n",
      "While Executing Cell #2:\n",
      "Traceback (most recent call last):\n",
      "  File \"/tmp/ipykernel_1087357/1421292703.py\", line 3, in <module>\n",
      "    s.execute('../tests/error.ipynb', exc_stop=True)\n",
      "  File \"/tmp/ipykernel_1087357/3276016238.py\", line 19, in execute\n",
      "    self.run_all(nb, exc_stop=exc_stop, preproc=preproc, postproc=postproc,\n",
      "  File \"/tmp/ipykernel_1087357/3244179380.py\", line 20, in run_all\n",
      "    if self.exc and exc_stop: raise self.exc from None\n",
      "                              ^^^^^^^^^^^^^^^^^^^^^^^^\n",
      "  File \"/home/radek/miniconda3/envs/kaggle/lib/python3.11/site-packages/IPython/core/interactiveshell.py\", line 3672, in run_code\n",
      "    exec(code_obj, self.user_global_ns, self.user_ns)\n",
      "  File \"<ipython-input-1-b968a57a586e>\", line 3, in <module>\n",
      "    foo()\n",
      "  File \"/home/radek/workspace/execnb/tests/err.py\", line 2, in foo\n",
      "    assert 13 == 98\n",
      "           ^^^^^^^^\n",
      "AssertionError\n",
      "\n",
      "\n"
     ]
    }
   ],
   "source": [
    "s = CaptureShell()\n",
    "try:\n",
    "    s.execute('../tests/error.ipynb', exc_stop=True)\n",
    "except:\n",
    "    print(s.prettytb())"
   ]
  },
  {
   "cell_type": "markdown",
   "metadata": {},
   "source": [
    "### Tests -"
   ]
  },
  {
   "cell_type": "code",
   "execution_count": null,
   "metadata": {},
   "outputs": [],
   "source": [
    "#|hide\n",
    "# Trailing `;` stops data from being captured\n",
    "res = CaptureShell().run('1+1;')\n",
    "test_eq(res, [])\n",
    "\n",
    "# Newlines, whitespace, and comments after `;` are ignored\n",
    "# TODO: fix test\n",
    "# res = CaptureShell().run('1+1;\\n  #commented_func()')\n",
    "test_eq(res, [])"
   ]
  },
  {
   "cell_type": "code",
   "execution_count": null,
   "metadata": {},
   "outputs": [],
   "source": [
    "#|hide\n",
    "# Streams are split on and keep newlines\n",
    "res = CaptureShell().run(r\"print('a\\nb'); print('c\\n\\n'); print('d')\")\n",
    "test_eq(res[0]['text'], ['a\\n', 'b\\n', 'c\\n', '\\n', '\\n', 'd\\n'])"
   ]
  },
  {
   "cell_type": "code",
   "execution_count": null,
   "metadata": {},
   "outputs": [],
   "source": [
    "#|hide\n",
    "# Text mime data are split on and keep newlines\n",
    "res = CaptureShell().run(r\"from IPython.display import Markdown; display(Markdown('a\\nb'))\")\n",
    "test_eq(res[0]['data']['text/markdown'], ['a\\n', 'b'])"
   ]
  },
  {
   "cell_type": "code",
   "execution_count": null,
   "metadata": {},
   "outputs": [],
   "source": [
    "#|hide\n",
    "# Binary image mime data are base64-encoded and end in a single `\\n`\n",
    "\n",
    "def _pil2b64(im): return b64encode(im._repr_png_()).decode()+'\\n'\n",
    "im = Image.new('RGB', (3,3), 'red')\n",
    "imb64 = _pil2b64(im)\n",
    "\n",
    "res = CaptureShell().run(\"from PIL import Image; Image.new('RGB', (3,3), 'red')\")\n",
    "test_eq(res[0]['data']['image/png'], imb64)"
   ]
  },
  {
   "cell_type": "code",
   "execution_count": null,
   "metadata": {},
   "outputs": [],
   "source": [
    "#|hide\n",
    "# `display_data` flushes stdout and stderr - in that order\n",
    "res = CaptureShell().run(\"import sys; sys.stderr.write('Error!'); print(1); display(1)\")\n",
    "test_eq(res, [{'name': 'stdout', 'output_type': 'stream', 'text': ['1\\n']},\n",
    "              {'name': 'stderr', 'output_type': 'stream', 'text': ['Error!']},\n",
    "              {'data': {'text/plain': ['1']}, 'metadata': {}, 'output_type': 'display_data'}])"
   ]
  },
  {
   "cell_type": "code",
   "execution_count": null,
   "metadata": {},
   "outputs": [],
   "source": [
    "#|hide\n",
    "# Consecutive writes to stdout are grouped\n",
    "res = CaptureShell().run('print(1); print(2); print(3)')\n",
    "test_eq(res, [{'name': 'stdout', 'output_type': 'stream', 'text': ['1\\n', '2\\n', '3\\n']}])"
   ]
  },
  {
   "cell_type": "code",
   "execution_count": null,
   "metadata": {},
   "outputs": [],
   "source": [
    "#|hide\n",
    "# Consecutive writes to stdout are grouped despite an intermediate write to stderr, which is captured after\n",
    "res = CaptureShell().run(\"import sys; print(1); print(2); sys.stderr.write('Error!'); print(3)\")\n",
    "test_eq(res, [{'name': 'stdout', 'output_type': 'stream', 'text': ['1\\n', '2\\n', '3\\n']},\n",
    "              {'name': 'stderr', 'output_type': 'stream', 'text': ['Error!']}])"
   ]
  },
  {
   "cell_type": "code",
   "execution_count": null,
   "metadata": {},
   "outputs": [],
   "source": [
    "#|hide\n",
    "# `execute_result` is always last\n",
    "res = CaptureShell().run(\"import sys; sys.stderr.write('Error!'); print(1); display(1); 1\")\n",
    "test_eq(res, [{'name': 'stdout', 'output_type': 'stream', 'text': ['1\\n']},\n",
    "              {'name': 'stderr', 'output_type': 'stream', 'text': ['Error!']},\n",
    "              {'data': {'text/plain': ['1']}, 'metadata': {}, 'output_type': 'display_data'},\n",
    "              {'data': {'text/plain': ['1']}, 'metadata': {}, 'output_type': 'execute_result', 'execution_count': None}])"
   ]
  },
  {
   "cell_type": "markdown",
   "metadata": {},
   "source": [
    "## Params -"
   ]
  },
  {
   "cell_type": "markdown",
   "metadata": {},
   "source": [
    "If you pass `inject_code` to `CaptureShell.execute` or `CaptureShell.run_all`, the source of `nb.cells[inject_idx]` will be replaced with `inject_code`. By default, the first cell is replaced. For instance consider this notebook:"
   ]
  },
  {
   "cell_type": "code",
   "execution_count": null,
   "metadata": {},
   "outputs": [
    {
     "name": "stdout",
     "output_type": "stream",
     "text": [
      "-  a=1\n",
      "-  print(a)\n"
     ]
    }
   ],
   "source": [
    "nb = read_nb('../tests/params.ipynb')\n",
    "for c in nb.cells: print('- ',c.source)"
   ]
  },
  {
   "cell_type": "markdown",
   "metadata": {},
   "source": [
    "We can replace the first cell with `a=2` by passing that as `inject_code`, and the notebook will run with that change:"
   ]
  },
  {
   "cell_type": "code",
   "execution_count": null,
   "metadata": {},
   "outputs": [
    {
     "data": {
      "text/plain": [
       "[{'cell_type': 'code',\n",
       "  'execution_count': None,\n",
       "  'id': 'a63ce885',\n",
       "  'metadata': {},\n",
       "  'outputs': [],\n",
       "  'source': 'a=2',\n",
       "  'idx_': 0},\n",
       " {'cell_type': 'code',\n",
       "  'execution_count': None,\n",
       "  'id': 'ea528db5',\n",
       "  'metadata': {},\n",
       "  'outputs': [{'name': 'stdout', 'output_type': 'stream', 'text': ['2\\n']}],\n",
       "  'source': 'print(a)',\n",
       "  'idx_': 1}]"
      ]
     },
     "execution_count": null,
     "metadata": {},
     "output_type": "execute_result"
    }
   ],
   "source": [
    "nb = read_nb('../tests/params.ipynb')\n",
    "s.run_all(nb, inject_code=\"a=2\")\n",
    "list(nb.cells)"
   ]
  },
  {
   "cell_type": "markdown",
   "metadata": {},
   "source": [
    "This can be used with `CaptureShell.execute` to parameterise runs of models in notebooks. Place any defaults for configuration code needed in the first cell, and then when running `execute` pass in new parameters as needed in `inject_code`. To replace only some of the defaults, leave an empty cell as the second cell, and inject code using `inject_idx=1` to replace the empty second cell with code that overrides some of the defaults set in the first cell. When using `execute` you can pass `inject_path` instead of `inject_code` to read the injected code from a file."
   ]
  },
  {
   "cell_type": "markdown",
   "metadata": {},
   "source": [
    "## cli -"
   ]
  },
  {
   "cell_type": "code",
   "execution_count": null,
   "metadata": {},
   "outputs": [],
   "source": [
    "#|export\n",
    "@call_parse\n",
    "def exec_nb(\n",
    "    src:str, # Notebook path to read from\n",
    "    dest:str='', # Notebook path to write to\n",
    "    exc_stop:bool=False, # Stop on exceptions?\n",
    "    inject_code:str=None, # Code to inject into a cell\n",
    "    inject_path:str=None, # Path to file containing code to inject into a cell\n",
    "    inject_idx:int=0, # Cell to replace with `inject_code`\n",
    "    verbose:bool=False # Show stdout/stderr during execution\n",
    "):\n",
    "    \"Execute notebook from `src` and save with outputs to `dest`\"\n",
    "    CaptureShell().execute(src, dest, exc_stop=exc_stop, inject_code=inject_code,\n",
    "                           inject_path=inject_path, inject_idx=inject_idx, verbose=verbose)"
   ]
  },
  {
   "cell_type": "markdown",
   "metadata": {},
   "source": [
    "This is the command-line version of `CaptureShell.execute`. Run `exec_nb -h` from the command line to see how to pass arguments. If you don't pass `dest` then the output notebook won't be saved; this is mainly useful for running tests."
   ]
  },
  {
   "cell_type": "markdown",
   "metadata": {},
   "source": [
    "## Completions -"
   ]
  },
  {
   "cell_type": "code",
   "execution_count": null,
   "metadata": {},
   "outputs": [],
   "source": [
    "#| export\n",
    "class SmartCompleter(IPCompleter):\n",
    "    def __init__(self, shell, namespace=None, jedi=False):\n",
    "        if namespace is None: namespace = shell.user_ns\n",
    "        super().__init__(shell, namespace)\n",
    "        self.use_jedi = jedi\n",
    "        sdisp = StrDispatch()\n",
    "        self.custom_completers = sdisp\n",
    "        import_disp = CommandChainDispatcher()\n",
    "        import_disp.add(types.MethodType(module_completer, shell))\n",
    "        sdisp.add_s('import', import_disp)\n",
    "        sdisp.add_s('from', import_disp)\n",
    "\n",
    "    def __call__(self, c):\n",
    "        if not c: return []\n",
    "        with provisionalcompleter():\n",
    "            res = [o.text.rpartition('.')[-1] for o in self.completions(c, len(c)) if o.type!='magic']\n",
    "        if res and res[0][-1]=='=': res = [o for o in res if o[-1]=='=']\n",
    "        return res"
   ]
  },
  {
   "cell_type": "code",
   "execution_count": null,
   "metadata": {},
   "outputs": [],
   "source": [
    "cc = SmartCompleter(get_ipython())\n",
    "\n",
    "def test_set(a,b): return test_eq(set(a), set(b))\n",
    "\n",
    "class _f:\n",
    "    def __init__(self): self.bar,self.baz,self.room = 0,0,0\n",
    "\n",
    "foo = _f()\n",
    "\n",
    "assert set(cc(\"b\")).issuperset(['bool', 'bytes'])\n",
    "test_set(cc(\"foo.b\"), ['bar', 'baz'])\n",
    "test_set(cc(\"x=1; x = foo.b\"), ['bar', 'baz'])\n",
    "test_set(cc(\"ab\"), ['abs'])\n",
    "test_set(cc(\"b = ab\"), ['abs'])\n",
    "test_set(cc(\"\"), [])\n",
    "test_set(cc(\"foo.\"), ['bar', 'baz', 'room'])\n",
    "test_set(cc(\"nonexistent.b\"), [])\n",
    "test_set(cc(\"foo.nonexistent.b\"), [])\n",
    "assert set(cc(\"import ab\")).issuperset(['abc'])\n",
    "test_set(cc(\"from abc import AB\"), ['ABC', 'ABCMeta'])"
   ]
  },
  {
   "cell_type": "code",
   "execution_count": null,
   "metadata": {},
   "outputs": [
    {
     "data": {
      "text/plain": [
       "['n=', 'pat=', 's=']"
      ]
     },
     "execution_count": null,
     "metadata": {},
     "output_type": "execute_result"
    }
   ],
   "source": [
    "s = CaptureShell()\n",
    "cc = SmartCompleter(s)\n",
    "s.run('''def captures(pat, s, n, **kw):\n",
    "    return 1''')\n",
    "cc('captures(')"
   ]
  },
  {
   "cell_type": "code",
   "execution_count": null,
   "metadata": {},
   "outputs": [],
   "source": [
    "#| export\n",
    "@patch\n",
    "def complete(self:CaptureShell, c):\n",
    "    if not hasattr(self, '_completer'): self._completer = SmartCompleter(self)\n",
    "    return self._completer(c)"
   ]
  },
  {
   "cell_type": "code",
   "execution_count": null,
   "metadata": {},
   "outputs": [
    {
     "data": {
      "text/plain": [
       "['bit_count', 'bit_length']"
      ]
     },
     "execution_count": null,
     "metadata": {},
     "output_type": "execute_result"
    }
   ],
   "source": [
    "s = CaptureShell()\n",
    "s.run('a=1')\n",
    "s.complete('a.b')"
   ]
  },
  {
   "cell_type": "code",
   "execution_count": null,
   "metadata": {},
   "outputs": [
    {
     "data": {
      "text/plain": [
       "['flags=', 'pattern=']"
      ]
     },
     "execution_count": null,
     "metadata": {},
     "output_type": "execute_result"
    }
   ],
   "source": [
    "s.run('import re')\n",
    "s.complete('re.compile(')"
   ]
  },
  {
   "cell_type": "markdown",
   "metadata": {},
   "source": [
    "## export -"
   ]
  },
  {
   "cell_type": "code",
   "execution_count": null,
   "metadata": {},
   "outputs": [],
   "source": [
    "#|hide\n",
    "import nbdev; nbdev.nbdev_export()"
   ]
  },
  {
   "cell_type": "code",
   "execution_count": null,
   "metadata": {},
   "outputs": [],
   "source": []
  }
 ],
 "metadata": {
  "kernelspec": {
   "display_name": "python3",
   "language": "python",
   "name": "python3"
  }
 },
 "nbformat": 4,
 "nbformat_minor": 4
}
