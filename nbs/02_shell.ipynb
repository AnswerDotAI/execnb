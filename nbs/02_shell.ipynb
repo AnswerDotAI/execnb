{
 "cells": [
  {
   "cell_type": "code",
   "execution_count": null,
   "metadata": {},
   "outputs": [],
   "source": [
    "#|hide\n",
    "#|default_exp shell"
   ]
  },
  {
   "cell_type": "markdown",
   "metadata": {},
   "source": [
    "# shell\n",
    "\n",
    "> A shell for running notebook code without a notebook server"
   ]
  },
  {
   "cell_type": "code",
   "execution_count": null,
   "metadata": {},
   "outputs": [],
   "source": [
    "#|export\n",
    "from __future__ import annotations\n",
    "\n",
    "import os\n",
    "os.environ['MPLBACKEND'] = 'module://matplotlib_inline.backend_inline'\n",
    "\n",
    "from fastcore.imports import *\n",
    "from fastcore.basics import *\n",
    "from fastcore.script import call_parse\n",
    "\n",
    "import multiprocessing\n",
    "try:\n",
    "    if sys.platform == 'darwin': multiprocessing.set_start_method(\"fork\")\n",
    "except RuntimeError: pass # if re-running cell\n",
    "\n",
    "import tokenize\n",
    "from IPython.core.interactiveshell import InteractiveShell\n",
    "from IPython.core.displayhook import DisplayHook\n",
    "from IPython.core.displaypub import DisplayPublisher\n",
    "from base64 import b64encode\n",
    "from io import StringIO\n",
    "\n",
    "from execnb.fastshell import FastInteractiveShell\n",
    "from execnb.nbio import *\n",
    "from execnb.nbio import _dict2obj\n",
    "\n",
    "from collections.abc import Callable"
   ]
  },
  {
   "cell_type": "code",
   "execution_count": null,
   "metadata": {},
   "outputs": [],
   "source": [
    "from fastcore.test import *\n",
    "from base64 import b64decode\n",
    "from io import BytesIO\n",
    "from PIL import Image"
   ]
  },
  {
   "cell_type": "code",
   "execution_count": null,
   "metadata": {},
   "outputs": [],
   "source": [
    "#|export\n",
    "\n",
    "# IPython requires a DisplayHook and DisplayPublisher\n",
    "# We override `__call__` and `publish` to save outputs instead of printing them\n",
    "class _CaptureHook(DisplayHook):\n",
    "    \"Called when displaying a result\"\n",
    "\n",
    "    def quiet(self):\n",
    "        \"Should we silence because of ';'?\"\n",
    "        sio = StringIO(self.shell._code)\n",
    "        tokens = list(tokenize.generate_tokens(sio.readline))\n",
    "        for t in reversed(tokens):\n",
    "            if t.type in (tokenize.ENDMARKER, tokenize.NL, tokenize.NEWLINE, tokenize.COMMENT): continue\n",
    "            return t.type == tokenize.OP and t.string == ';'\n",
    "\n",
    "    def __call__(self, result=None):\n",
    "        if result is None or self.quiet(): return\n",
    "        self.fill_exec_result(result)\n",
    "        self.shell._result(result)\n",
    "\n",
    "class _CapturePub(DisplayPublisher):\n",
    "    \"Called when adding an output\"\n",
    "    def publish(self, data, metadata=None, **kwargs): self.shell._add_out(data, metadata, typ='display_data')"
   ]
  },
  {
   "cell_type": "code",
   "execution_count": null,
   "metadata": {},
   "outputs": [],
   "source": [
    "#|export\n",
    "# These are the standard notebook formats for exception and stream data (e.g stdout)\n",
    "def _out_exc(ename, evalue, traceback): return dict(ename=str(ename), evalue=str(evalue), output_type='error', traceback=traceback)\n",
    "def _out_stream(text, name): return dict(name=name, output_type='stream', text=text.splitlines(True))"
   ]
  },
  {
   "cell_type": "code",
   "execution_count": null,
   "metadata": {},
   "outputs": [],
   "source": [
    "#|export\n",
    "def _format_mimedata(k, v):\n",
    "    \"Format mime-type keyed data consistently with Jupyter\"\n",
    "    if k.startswith('text/'): return v.splitlines(True)\n",
    "    if k.startswith('image/') and isinstance(v, bytes):\n",
    "        v = b64encode(v).decode()\n",
    "        return v+'\\n' if not v.endswith('\\n') else v\n",
    "    return v"
   ]
  },
  {
   "cell_type": "markdown",
   "metadata": {},
   "source": [
    "## CaptureShell -"
   ]
  },
  {
   "cell_type": "code",
   "execution_count": null,
   "metadata": {},
   "outputs": [],
   "source": [
    "#|export\n",
    "class CaptureShell(FastInteractiveShell):\n",
    "    \"Execute the IPython/Jupyter source code\"\n",
    "    def __init__(self,\n",
    "                 path:str|Path=None): # Add `path` to python path\n",
    "        super().__init__(displayhook_class=_CaptureHook, display_pub_class=_CapturePub)\n",
    "        InteractiveShell._instance = self\n",
    "        self.out,self.count = [],1\n",
    "        self.exc = self.result = self._fname = self._cell_idx = self._stdout = self._stderr = None\n",
    "        if IN_NOTEBOOK:\n",
    "            try: self.enable_matplotlib('inline')\n",
    "            except ModuleNotFoundError: pass\n",
    "        if path: self.set_path(path)\n",
    "\n",
    "    def enable_matplotlib(self, gui=None):\n",
    "        \"Enable `matplotlib` in a nested shell\"\n",
    "        from matplotlib_inline.backend_inline import configure_inline_support\n",
    "        configure_inline_support.current_backend = 'unset'\n",
    "        return super().enable_matplotlib(gui)\n",
    "    \n",
    "    def set_path(self, path):\n",
    "        \"Add `path` to python path, or `path.parent` if it's a file\"\n",
    "        path = Path(path)\n",
    "        if path.is_file(): path = path.parent\n",
    "        self.run_cell(f\"import sys; sys.path.insert(0, '{path.as_posix()}')\")\n",
    "\n",
    "    def enable_gui(self, gui=None):\n",
    "        \"Disable GUI (over-ridden; called by IPython)\"\n",
    "        pass\n",
    "    \n",
    "    def _showtraceback(self, etype, evalue, stb: str):\n",
    "        self.out.append(_out_exc(etype, evalue, stb))\n",
    "        self.exc = (etype, evalue, '\\n'.join(stb))\n",
    "\n",
    "    def _add_out(self, data, meta, typ='execute_result', **kwargs):\n",
    "        self._stream()\n",
    "        fd = {k:_format_mimedata(k,v) for k,v in data.items()}\n",
    "        self.out.append(dict(data=fd, metadata=meta, output_type=typ, **kwargs))\n",
    "\n",
    "    def _add_exec(self, result, meta, typ='execute_result'):\n",
    "        self._add_out(result, meta, execution_count=self.count)\n",
    "        self.count += 1\n",
    "\n",
    "    def _result(self, result):\n",
    "        self.result = result\n",
    "        self._add_exec(*self.display_formatter.format(result))\n",
    "\n",
    "    def _stream(self):\n",
    "        for nm in ('stdout','stderr'):\n",
    "            attr = '_'+nm\n",
    "            std = getattr(self, attr)\n",
    "            if std is not None:\n",
    "                text = std.getvalue()\n",
    "                if text:\n",
    "                    self.out.append(_out_stream(text, nm))\n",
    "                    setattr(self, attr, StringIO())"
   ]
  },
  {
   "cell_type": "code",
   "execution_count": null,
   "metadata": {},
   "outputs": [],
   "source": [
    "s = CaptureShell()"
   ]
  },
  {
   "cell_type": "markdown",
   "metadata": {},
   "source": [
    "### Cells -"
   ]
  },
  {
   "cell_type": "code",
   "execution_count": null,
   "metadata": {},
   "outputs": [],
   "source": [
    "#|export\n",
    "@patch\n",
    "def run(self:CaptureShell,\n",
    "        code:str, # Python/IPython code to run\n",
    "        stdout=True, # Capture stdout and save as output?\n",
    "        stderr=True): # Capture stderr and save as output?\n",
    "    \"Run `code`, returning a list of all outputs in Jupyter notebook format\"\n",
    "    self._code = code\n",
    "    self.exc = False\n",
    "    self.out.clear()\n",
    "    sys_stdout,sys_stderr = sys.stdout,sys.stderr\n",
    "    if stdout: self._stdout = sys.stdout = StringIO()\n",
    "    if stderr: self._stderr = sys.stderr = StringIO()\n",
    "    try: self.run_cell(code)\n",
    "    finally: sys.stdout,sys.stderr = sys_stdout,sys_stderr\n",
    "    self._stream()\n",
    "    return [*self.out]"
   ]
  },
  {
   "cell_type": "code",
   "execution_count": null,
   "metadata": {},
   "outputs": [
    {
     "data": {
      "text/plain": [
       "[{'name': 'stdout', 'output_type': 'stream', 'text': ['1\\n']}]"
      ]
     },
     "execution_count": null,
     "metadata": {},
     "output_type": "execute_result"
    }
   ],
   "source": [
    "s.run(\"print(1)\")"
   ]
  },
  {
   "cell_type": "markdown",
   "metadata": {},
   "source": [
    "Code can include magics and `!` shell commands:"
   ]
  },
  {
   "cell_type": "code",
   "execution_count": null,
   "metadata": {},
   "outputs": [
    {
     "data": {
      "text/plain": [
       "[{'name': 'stdout',\n",
       "  'output_type': 'stream',\n",
       "  'text': ['CPU times: user 1e+03 ns, sys: 1 us, total: 2 us\\n',\n",
       "   'Wall time: 3.1 us\\n']},\n",
       " {'data': {'text/plain': ['2']},\n",
       "  'metadata': {},\n",
       "  'output_type': 'execute_result',\n",
       "  'execution_count': 1}]"
      ]
     },
     "execution_count": null,
     "metadata": {},
     "output_type": "execute_result"
    }
   ],
   "source": [
    "s.run(\"%time 1+1\")"
   ]
  },
  {
   "cell_type": "markdown",
   "metadata": {},
   "source": [
    "The result of the last successful execution is stored in `result`:"
   ]
  },
  {
   "cell_type": "code",
   "execution_count": null,
   "metadata": {},
   "outputs": [
    {
     "data": {
      "text/plain": [
       "2"
      ]
     },
     "execution_count": null,
     "metadata": {},
     "output_type": "execute_result"
    }
   ],
   "source": [
    "s.result"
   ]
  },
  {
   "cell_type": "markdown",
   "metadata": {},
   "source": [
    "A trailing `;` stops the result from being captured:"
   ]
  },
  {
   "cell_type": "code",
   "execution_count": null,
   "metadata": {},
   "outputs": [
    {
     "data": {
      "text/plain": [
       "[]"
      ]
     },
     "execution_count": null,
     "metadata": {},
     "output_type": "execute_result"
    }
   ],
   "source": [
    "s.run(\"1+2;\")"
   ]
  },
  {
   "cell_type": "markdown",
   "metadata": {},
   "source": [
    "Images and matplotlib figures are captured and base64 encoded:"
   ]
  },
  {
   "cell_type": "code",
   "execution_count": null,
   "metadata": {},
   "outputs": [
    {
     "data": {
      "image/png": "[encoded data removed]",
      "text/plain": [
       "<PIL.PngImagePlugin.PngImageFile image mode=RGBA size=117x122>"
      ]
     },
     "execution_count": null,
     "metadata": {},
     "output_type": "execute_result"
    }
   ],
   "source": [
    "res = s.run('''import matplotlib.pyplot as plt\n",
    "plt.figure(figsize=(1,1))\n",
    "plt.plot([1,2])''')\n",
    "\n",
    "Image.open(BytesIO(b64decode(res[1]['data']['image/png'])))"
   ]
  },
  {
   "cell_type": "markdown",
   "metadata": {},
   "source": [
    "If an exception is raised then the exception type, object, and stacktrace are stored in `exc`:"
   ]
  },
  {
   "cell_type": "code",
   "execution_count": null,
   "metadata": {},
   "outputs": [
    {
     "data": {
      "text/plain": [
       "(Exception, Exception('Oops'))"
      ]
     },
     "execution_count": null,
     "metadata": {},
     "output_type": "execute_result"
    }
   ],
   "source": [
    "err_res = s.run('raise Exception(\"Oops\")')\n",
    "typ,obj,st = s.exc\n",
    "typ,obj"
   ]
  },
  {
   "cell_type": "code",
   "execution_count": null,
   "metadata": {},
   "outputs": [
    {
     "name": "stdout",
     "output_type": "stream",
     "text": [
      "\u001b[0;31m---------------------------------------------------------------------------\u001b[0m\n",
      "\u001b[0;31mException\u001b[0m                                 Traceback (most recent call last)\n",
      "Cell \u001b[0;32mIn[1], line 1\u001b[0m\n",
      "\u001b[0;32m----> 1\u001b[0m \u001b[38;5;28;01mraise\u001b[39;00m \u001b[38;5;167;01mException\u001b[39;00m(\u001b[38;5;124m\"\u001b[39m\u001b[38;5;124mOops\u001b[39m\u001b[38;5;124m\"\u001b[39m)\n",
      "\n",
      "\u001b[0;31mException\u001b[0m: Oops\n"
     ]
    }
   ],
   "source": [
    "print(st)"
   ]
  },
  {
   "cell_type": "code",
   "execution_count": null,
   "metadata": {},
   "outputs": [],
   "source": [
    "#|export\n",
    "@patch\n",
    "def cell(self:CaptureShell, cell, stdout=True, stderr=True):\n",
    "    \"Run `cell`, skipping if not code, and store outputs back in cell\"\n",
    "    if cell.cell_type!='code': return\n",
    "    self._cell_idx = cell.idx_ + 1\n",
    "    outs = self.run(cell.source)\n",
    "    if outs:\n",
    "        cell.outputs = _dict2obj(outs)\n",
    "        for o in outs:\n",
    "            if 'execution_count' in o: cell['execution_count'] = o['execution_count']"
   ]
  },
  {
   "cell_type": "code",
   "execution_count": null,
   "metadata": {},
   "outputs": [
    {
     "data": {
      "text/markdown": [
       "```json\n",
       "{ 'cell_type': 'code',\n",
       "  'execution_count': None,\n",
       "  'id': 'b123d6d0',\n",
       "  'idx_': 1,\n",
       "  'metadata': {},\n",
       "  'outputs': [],\n",
       "  'source': 'print(1)\\n2'}\n",
       "```"
      ],
      "text/plain": [
       "{'cell_type': 'code',\n",
       " 'execution_count': None,\n",
       " 'id': 'b123d6d0',\n",
       " 'metadata': {},\n",
       " 'outputs': [],\n",
       " 'source': 'print(1)\\n2',\n",
       " 'idx_': 1}"
      ]
     },
     "execution_count": null,
     "metadata": {},
     "output_type": "execute_result"
    }
   ],
   "source": [
    "clean = Path('../tests/clean.ipynb')\n",
    "nb = read_nb(clean)\n",
    "c = nb.cells[1]\n",
    "c"
   ]
  },
  {
   "cell_type": "code",
   "execution_count": null,
   "metadata": {},
   "outputs": [
    {
     "data": {
      "text/plain": [
       "[{'name': 'stdout', 'output_type': 'stream', 'text': ['1\\n']},\n",
       " {'data': {'text/plain': ['2']},\n",
       "  'metadata': {},\n",
       "  'output_type': 'execute_result',\n",
       "  'execution_count': 4}]"
      ]
     },
     "execution_count": null,
     "metadata": {},
     "output_type": "execute_result"
    }
   ],
   "source": [
    "s.cell(c)\n",
    "c.outputs"
   ]
  },
  {
   "cell_type": "code",
   "execution_count": null,
   "metadata": {},
   "outputs": [],
   "source": [
    "#| export\n",
    "def find_output(outp, # Output from `run`\n",
    "                ot='execute_result' # Output_type to find\n",
    "               ):\n",
    "    \"Find first output of type `ot` in `CaptureShell.run` output\"\n",
    "    return first(o for o in outp if o['output_type']==ot)"
   ]
  },
  {
   "cell_type": "code",
   "execution_count": null,
   "metadata": {},
   "outputs": [
    {
     "data": {
      "text/markdown": [
       "```json\n",
       "{'text/plain': ['2']}\n",
       "```"
      ],
      "text/plain": [
       "{'text/plain': ['2']}"
      ]
     },
     "execution_count": null,
     "metadata": {},
     "output_type": "execute_result"
    }
   ],
   "source": [
    "find_output(c.outputs)['data']"
   ]
  },
  {
   "cell_type": "code",
   "execution_count": null,
   "metadata": {},
   "outputs": [
    {
     "data": {
      "text/plain": [
       "['1\\n']"
      ]
     },
     "execution_count": null,
     "metadata": {},
     "output_type": "execute_result"
    }
   ],
   "source": [
    "find_output(c.outputs, 'stream')['text']"
   ]
  },
  {
   "cell_type": "code",
   "execution_count": null,
   "metadata": {},
   "outputs": [],
   "source": [
    "#| export\n",
    "def out_exec(outp):\n",
    "    \"Get data from execution result in `outp`.\"\n",
    "    out = find_output(outp)\n",
    "    if out: return '\\n'.join(first(out['data'].values()))"
   ]
  },
  {
   "cell_type": "code",
   "execution_count": null,
   "metadata": {},
   "outputs": [
    {
     "data": {
      "text/plain": [
       "'2'"
      ]
     },
     "execution_count": null,
     "metadata": {},
     "output_type": "execute_result"
    }
   ],
   "source": [
    "out_exec(c.outputs)"
   ]
  },
  {
   "cell_type": "code",
   "execution_count": null,
   "metadata": {},
   "outputs": [],
   "source": [
    "#| export\n",
    "def out_stream(outp):\n",
    "    \"Get text from stream in `outp`.\"\n",
    "    out = find_output(outp, 'stream')\n",
    "    if out: return ('\\n'.join(out['text'])).strip()"
   ]
  },
  {
   "cell_type": "code",
   "execution_count": null,
   "metadata": {},
   "outputs": [
    {
     "data": {
      "text/plain": [
       "'1'"
      ]
     },
     "execution_count": null,
     "metadata": {},
     "output_type": "execute_result"
    }
   ],
   "source": [
    "out_stream(c.outputs)"
   ]
  },
  {
   "cell_type": "code",
   "execution_count": null,
   "metadata": {},
   "outputs": [],
   "source": [
    "#| export\n",
    "def out_error(outp):\n",
    "    \"Get traceback from error in `outp`.\"\n",
    "    out = find_output(outp, 'error')\n",
    "    if out: return '\\n'.join(out['traceback'])"
   ]
  },
  {
   "cell_type": "code",
   "execution_count": null,
   "metadata": {},
   "outputs": [
    {
     "name": "stdout",
     "output_type": "stream",
     "text": [
      "\u001b[0;31m---------------------------------------------------------------------------\u001b[0m\n",
      "\u001b[0;31mException\u001b[0m                                 Traceback (most recent call last)\n",
      "Cell \u001b[0;32mIn[1], line 1\u001b[0m\n",
      "\u001b[0;32m----> 1\u001b[0m \u001b[38;5;28;01mraise\u001b[39;00m \u001b[38;5;167;01mException\u001b[39;00m(\u001b[38;5;124m\"\u001b[39m\u001b[38;5;124mOops\u001b[39m\u001b[38;5;124m\"\u001b[39m)\n",
      "\n",
      "\u001b[0;31mException\u001b[0m: Oops\n"
     ]
    }
   ],
   "source": [
    "print(out_error(err_res))"
   ]
  },
  {
   "cell_type": "markdown",
   "metadata": {},
   "source": [
    "### NBs -"
   ]
  },
  {
   "cell_type": "code",
   "execution_count": null,
   "metadata": {},
   "outputs": [],
   "source": [
    "#|export\n",
    "def _false(o): return False\n",
    "\n",
    "@patch\n",
    "def run_all(self:CaptureShell,\n",
    "            nb, # A notebook read with `nbclient` or `read_nb`\n",
    "            exc_stop:bool=False, # Stop on exceptions?\n",
    "            preproc:Callable=_false, # Called before each cell is executed\n",
    "            postproc:Callable=_false, # Called after each cell is executed\n",
    "            inject_code:str|None=None, # Code to inject into a cell\n",
    "            inject_idx:int=0 # Cell to replace with `inject_code`\n",
    "           ):\n",
    "    \"Run all cells in `nb`, stopping at first exception if `exc_stop`\"\n",
    "    if inject_code is not None: nb.cells[inject_idx].source = inject_code\n",
    "    for cell in nb.cells:\n",
    "        if not preproc(cell):\n",
    "            self.cell(cell)\n",
    "            postproc(cell)\n",
    "        if self.exc and exc_stop: raise self.exc[1] from None"
   ]
  },
  {
   "cell_type": "code",
   "execution_count": null,
   "metadata": {},
   "outputs": [
    {
     "data": {
      "text/plain": [
       "[]"
      ]
     },
     "execution_count": null,
     "metadata": {},
     "output_type": "execute_result"
    }
   ],
   "source": [
    "nb.cells[2].outputs"
   ]
  },
  {
   "cell_type": "code",
   "execution_count": null,
   "metadata": {},
   "outputs": [
    {
     "data": {
      "text/plain": [
       "[{'data': {'text/plain': ['<IPython.core.display.Markdown object>'],\n",
       "   'text/markdown': [\"This is *bold*. Here's a [link](https://www.fast.ai).\"]},\n",
       "  'metadata': {},\n",
       "  'output_type': 'execute_result',\n",
       "  'execution_count': 6}]"
      ]
     },
     "execution_count": null,
     "metadata": {},
     "output_type": "execute_result"
    }
   ],
   "source": [
    "s.run_all(nb)\n",
    "nb.cells[2].outputs"
   ]
  },
  {
   "cell_type": "markdown",
   "metadata": {},
   "source": [
    "With `exc_stop=False` (the default), execution continues after exceptions, and exception details are stored into the appropriate cell's output:"
   ]
  },
  {
   "cell_type": "code",
   "execution_count": null,
   "metadata": {},
   "outputs": [
    {
     "data": {
      "text/plain": [
       "'raise Exception(\"Oopsie!\")'"
      ]
     },
     "execution_count": null,
     "metadata": {},
     "output_type": "execute_result"
    }
   ],
   "source": [
    "nb.cells[-1].source"
   ]
  },
  {
   "cell_type": "code",
   "execution_count": null,
   "metadata": {},
   "outputs": [
    {
     "data": {
      "text/plain": [
       "[{'ename': \"<class 'Exception'>\",\n",
       "  'evalue': 'Oopsie!',\n",
       "  'output_type': 'error',\n",
       "  'traceback': ['\\x1b[0;31m---------------------------------------------------------------------------\\x1b[0m',\n",
       "   '\\x1b[0;31mException\\x1b[0m                                 Traceback (most recent call last)',\n",
       "   'Input \\x1b[0;32mIn [1]\\x1b[0m, in \\x1b[0;36m<cell line: 1>\\x1b[0;34m()\\x1b[0m\\n\\x1b[0;32m----> 1\\x1b[0m \\x1b[38;5;28;01mraise\\x1b[39;00m \\x1b[38;5;167;01mException\\x1b[39;00m(\\x1b[38;5;124m\"\\x1b[39m\\x1b[38;5;124mOopsie!\\x1b[39m\\x1b[38;5;124m\"\\x1b[39m)\\n',\n",
       "   '\\x1b[0;31mException\\x1b[0m: Oopsie!']}]"
      ]
     },
     "execution_count": null,
     "metadata": {},
     "output_type": "execute_result"
    }
   ],
   "source": [
    "nb.cells[-1].outputs"
   ]
  },
  {
   "cell_type": "markdown",
   "metadata": {},
   "source": [
    "With `exc_stop=True` (the default), exceptions in a cell are raised and no further processing occurs:"
   ]
  },
  {
   "cell_type": "code",
   "execution_count": null,
   "metadata": {},
   "outputs": [
    {
     "name": "stdout",
     "output_type": "stream",
     "text": [
      "got exception: Oopsie!\n"
     ]
    }
   ],
   "source": [
    "try: s.run_all(nb, exc_stop=True)\n",
    "except Exception as e: print(f\"got exception: {e}\")"
   ]
  },
  {
   "cell_type": "markdown",
   "metadata": {},
   "source": [
    "We can pass a function to `preproc` to have it run on every cell. It can modify the cell as needed. If the function returns `True`, then that cell will not be executed. For instance, to skip the cell which raises an exception:"
   ]
  },
  {
   "cell_type": "code",
   "execution_count": null,
   "metadata": {},
   "outputs": [],
   "source": [
    "nb = read_nb(clean)\n",
    "s.run_all(nb, preproc=lambda c: 'raise' in c.source)"
   ]
  },
  {
   "cell_type": "markdown",
   "metadata": {},
   "source": [
    "This cell will contain no output, since it was skipped."
   ]
  },
  {
   "cell_type": "code",
   "execution_count": null,
   "metadata": {},
   "outputs": [
    {
     "data": {
      "text/plain": [
       "[]"
      ]
     },
     "execution_count": null,
     "metadata": {},
     "output_type": "execute_result"
    }
   ],
   "source": [
    "nb.cells[-1].outputs"
   ]
  },
  {
   "cell_type": "code",
   "execution_count": null,
   "metadata": {},
   "outputs": [
    {
     "data": {
      "text/plain": [
       "[{'name': 'stdout', 'output_type': 'stream', 'text': ['1\\n']},\n",
       " {'data': {'text/plain': ['2']},\n",
       "  'metadata': {},\n",
       "  'output_type': 'execute_result',\n",
       "  'execution_count': 11}]"
      ]
     },
     "execution_count": null,
     "metadata": {},
     "output_type": "execute_result"
    }
   ],
   "source": [
    "nb.cells[1].outputs"
   ]
  },
  {
   "cell_type": "markdown",
   "metadata": {},
   "source": [
    "You can also pass a function to `postproc` to modify a cell after it is executed."
   ]
  },
  {
   "cell_type": "code",
   "execution_count": null,
   "metadata": {},
   "outputs": [],
   "source": [
    "#|export\n",
    "@patch\n",
    "def execute(self:CaptureShell,\n",
    "            src:str|Path, # Notebook path to read from\n",
    "            dest:str|None=None, # Notebook path to write to\n",
    "            exc_stop:bool=False, # Stop on exceptions?\n",
    "            preproc:Callable=_false, # Called before each cell is executed\n",
    "            postproc:Callable=_false, # Called after each cell is executed\n",
    "            inject_code:str|None=None, # Code to inject into a cell\n",
    "            inject_path:str|Path|None=None, # Path to file containing code to inject into a cell\n",
    "            inject_idx:int=0 # Cell to replace with `inject_code`\n",
    "):\n",
    "    \"Execute notebook from `src` and save with outputs to `dest\"\n",
    "    nb = read_nb(src)\n",
    "    self._fname = src\n",
    "    self.set_path(Path(src).parent.resolve())\n",
    "    if inject_path is not None: inject_code = Path(inject_path).read_text()\n",
    "    self.run_all(nb, exc_stop=exc_stop, preproc=preproc, postproc=postproc,\n",
    "                 inject_code=inject_code, inject_idx=inject_idx)\n",
    "    if dest: write_nb(nb, dest)"
   ]
  },
  {
   "cell_type": "markdown",
   "metadata": {},
   "source": [
    "This is a shortcut for the combination of `read_nb`, `CaptureShell.run_all`, and `write_nb`."
   ]
  },
  {
   "cell_type": "code",
   "execution_count": null,
   "metadata": {},
   "outputs": [
    {
     "name": "stdout",
     "output_type": "stream",
     "text": [
      "[{'name': 'stdout', 'output_type': 'stream', 'text': ['1\\n']}, {'data': {'text/plain': ['2']}, 'execution_count': 2, 'metadata': {}, 'output_type': 'execute_result'}]\n"
     ]
    }
   ],
   "source": [
    "s = CaptureShell()\n",
    "try:\n",
    "    s.execute(clean, 'tmp.ipynb')\n",
    "    print(read_nb('tmp.ipynb').cells[1].outputs)\n",
    "finally: Path('tmp.ipynb').unlink()"
   ]
  },
  {
   "cell_type": "code",
   "execution_count": null,
   "metadata": {},
   "outputs": [],
   "source": [
    "p = Path.home()/'git'/'fastcore'/'nbs'\n",
    "n = p/'03a_parallel.ipynb'"
   ]
  },
  {
   "cell_type": "code",
   "execution_count": null,
   "metadata": {},
   "outputs": [],
   "source": [
    "#|export\n",
    "@patch\n",
    "def prettytb(self:CaptureShell, \n",
    "             fname:str|Path=None): # filename to print alongside the traceback\n",
    "    \"Show a pretty traceback for notebooks, optionally printing `fname`.\"\n",
    "    fname = fname if fname else self._fname\n",
    "    _fence = '='*75\n",
    "    cell_intro_str = f\"While Executing Cell #{self._cell_idx}:\" if self._cell_idx else \"While Executing:\"\n",
    "    cell_str = f\"\\n{cell_intro_str}\\n{self.exc[-1]}\"\n",
    "    fname_str = f' in {fname}' if fname else ''\n",
    "    return f\"{type(self.exc[1]).__name__}{fname_str}:\\n{_fence}\\n{cell_str}\\n\""
   ]
  },
  {
   "cell_type": "markdown",
   "metadata": {},
   "source": [
    "If an error occurs while running a notebook, you can retrieve a pretty version of the error with the `prettytb` method: "
   ]
  },
  {
   "cell_type": "code",
   "execution_count": null,
   "metadata": {},
   "outputs": [
    {
     "name": "stdout",
     "output_type": "stream",
     "text": [
      "AssertionError in ../tests/error.ipynb:\n",
      "===========================================================================\n",
      "\n",
      "While Executing Cell #2:\n",
      "\u001b[0;31m---------------------------------------------------------------------------\u001b[0m\n",
      "\u001b[0;31mAssertionError\u001b[0m                            Traceback (most recent call last)\n",
      "Input \u001b[0;32mIn [1]\u001b[0m, in \u001b[0;36m<cell line: 3>\u001b[0;34m()\u001b[0m\n",
      "\u001b[1;32m      1\u001b[0m \u001b[38;5;66;03m# some comments\u001b[39;00m\n",
      "\u001b[1;32m      2\u001b[0m \u001b[38;5;28mprint\u001b[39m(\u001b[38;5;124m'\u001b[39m\u001b[38;5;124mhello\u001b[39m\u001b[38;5;124m'\u001b[39m)\n",
      "\u001b[0;32m----> 3\u001b[0m \u001b[43mfoo\u001b[49m\u001b[43m(\u001b[49m\u001b[43m)\u001b[49m\n",
      "\n",
      "File \u001b[0;32m~/git/execnb/tests/err.py:2\u001b[0m, in \u001b[0;36mfoo\u001b[0;34m()\u001b[0m\n",
      "\u001b[1;32m      1\u001b[0m \u001b[38;5;28;01mdef\u001b[39;00m \u001b[38;5;21mfoo\u001b[39m():\n",
      "\u001b[0;32m----> 2\u001b[0m     \u001b[38;5;28;01massert\u001b[39;00m \u001b[38;5;241m13\u001b[39m \u001b[38;5;241m==\u001b[39m \u001b[38;5;241m98\u001b[39m\n",
      "\n",
      "\u001b[0;31mAssertionError\u001b[0m: \n",
      "\n"
     ]
    }
   ],
   "source": [
    "s = CaptureShell()\n",
    "try:\n",
    "    s.execute('../tests/error.ipynb', exc_stop=True)\n",
    "except:\n",
    "    print(s.prettytb())"
   ]
  },
  {
   "cell_type": "markdown",
   "metadata": {},
   "source": [
    "### Tests -"
   ]
  },
  {
   "cell_type": "code",
   "execution_count": null,
   "metadata": {},
   "outputs": [],
   "source": [
    "#|hide\n",
    "# Trailing `;` stops data from being captured\n",
    "res = CaptureShell().run('1+1;')\n",
    "test_eq(res, [])\n",
    "\n",
    "# Newlines, whitespace, and comments after `;` are ignored\n",
    "res = CaptureShell().run('1+1;\\n  #commented_func()')\n",
    "test_eq(res, [])"
   ]
  },
  {
   "cell_type": "code",
   "execution_count": null,
   "metadata": {},
   "outputs": [],
   "source": [
    "#|hide\n",
    "# Streams are split on and keep newlines\n",
    "res = CaptureShell().run(r\"print('a\\nb'); print('c\\n\\n'); print('d')\")\n",
    "test_eq(res[0]['text'], ['a\\n', 'b\\n', 'c\\n', '\\n', '\\n', 'd\\n'])"
   ]
  },
  {
   "cell_type": "code",
   "execution_count": null,
   "metadata": {},
   "outputs": [],
   "source": [
    "#|hide\n",
    "# Text mime data are split on and keep newlines\n",
    "res = CaptureShell().run(r\"from IPython.display import Markdown; display(Markdown('a\\nb'))\")\n",
    "test_eq(res[0]['data']['text/markdown'], ['a\\n', 'b'])"
   ]
  },
  {
   "cell_type": "code",
   "execution_count": null,
   "metadata": {},
   "outputs": [],
   "source": [
    "#|hide\n",
    "# Binary image mime data are base64-encoded and end in a single `\\n`\n",
    "\n",
    "def _pil2b64(im): return b64encode(im._repr_png_()).decode()+'\\n'\n",
    "im = Image.new('RGB', (3,3), 'red')\n",
    "imb64 = _pil2b64(im)\n",
    "\n",
    "res = CaptureShell().run(\"from PIL import Image; Image.new('RGB', (3,3), 'red')\")\n",
    "test_eq(res[0]['data']['image/png'], imb64)"
   ]
  },
  {
   "cell_type": "code",
   "execution_count": null,
   "metadata": {},
   "outputs": [],
   "source": [
    "#|hide\n",
    "# `display_data` flushes stdout and stderr - in that order\n",
    "res = CaptureShell().run(\"import sys; sys.stderr.write('Error!'); print(1); display(1)\")\n",
    "test_eq(res, [{'name': 'stdout', 'output_type': 'stream', 'text': ['1\\n']},\n",
    "              {'name': 'stderr', 'output_type': 'stream', 'text': ['Error!']},\n",
    "              {'data': {'text/plain': ['1']}, 'metadata': {}, 'output_type': 'display_data'}])"
   ]
  },
  {
   "cell_type": "code",
   "execution_count": null,
   "metadata": {},
   "outputs": [],
   "source": [
    "#|hide\n",
    "# Consecutive writes to stdout are grouped\n",
    "res = CaptureShell().run('print(1); print(2); print(3)')\n",
    "test_eq(res, [{'name': 'stdout', 'output_type': 'stream', 'text': ['1\\n', '2\\n', '3\\n']}])"
   ]
  },
  {
   "cell_type": "code",
   "execution_count": null,
   "metadata": {},
   "outputs": [],
   "source": [
    "#|hide\n",
    "# Consecutive writes to stdout are grouped despite an intermediate write to stderr, which is captured after\n",
    "res = CaptureShell().run(\"import sys; print(1); print(2); sys.stderr.write('Error!'); print(3)\")\n",
    "test_eq(res, [{'name': 'stdout', 'output_type': 'stream', 'text': ['1\\n', '2\\n', '3\\n']},\n",
    "              {'name': 'stderr', 'output_type': 'stream', 'text': ['Error!']}])"
   ]
  },
  {
   "cell_type": "code",
   "execution_count": null,
   "metadata": {},
   "outputs": [],
   "source": [
    "#|hide\n",
    "# `execute_result` is always last\n",
    "res = CaptureShell().run(\"import sys; sys.stderr.write('Error!'); print(1); display(1); 1\")\n",
    "test_eq(res, [{'name': 'stdout', 'output_type': 'stream', 'text': ['1\\n']},\n",
    "              {'name': 'stderr', 'output_type': 'stream', 'text': ['Error!']},\n",
    "              {'data': {'text/plain': ['1']}, 'metadata': {}, 'output_type': 'display_data'},\n",
    "              {'data': {'text/plain': ['1']}, 'metadata': {}, 'output_type': 'execute_result', 'execution_count': 1}])"
   ]
  },
  {
   "cell_type": "markdown",
   "metadata": {},
   "source": [
    "## Params -"
   ]
  },
  {
   "cell_type": "markdown",
   "metadata": {},
   "source": [
    "If you pass `inject_code` to `CaptureShell.execute` or `CaptureShell.run_all`, the source of `nb.cells[inject_idx]` will be replaced with `inject_code`. By default, the first cell is replaced. For instance consider this notebook:"
   ]
  },
  {
   "cell_type": "code",
   "execution_count": null,
   "metadata": {},
   "outputs": [
    {
     "name": "stdout",
     "output_type": "stream",
     "text": [
      "-  a=1\n",
      "-  print(a)\n"
     ]
    }
   ],
   "source": [
    "nb = read_nb('../tests/params.ipynb')\n",
    "for c in nb.cells: print('- ',c.source)"
   ]
  },
  {
   "cell_type": "markdown",
   "metadata": {},
   "source": [
    "We can replace the first cell with `a=2` by passing that as `inject_code`, and the notebook will run with that change:"
   ]
  },
  {
   "cell_type": "code",
   "execution_count": null,
   "metadata": {},
   "outputs": [
    {
     "data": {
      "text/plain": [
       "[{'cell_type': 'code',\n",
       "  'execution_count': 1,\n",
       "  'id': 'a63ce885',\n",
       "  'metadata': {},\n",
       "  'outputs': [],\n",
       "  'source': 'a=2',\n",
       "  'idx_': 0},\n",
       " {'cell_type': 'code',\n",
       "  'execution_count': 2,\n",
       "  'id': 'ea528db5',\n",
       "  'metadata': {},\n",
       "  'outputs': [{'name': 'stdout', 'output_type': 'stream', 'text': ['2\\n']}],\n",
       "  'source': 'print(a)',\n",
       "  'idx_': 1}]"
      ]
     },
     "execution_count": null,
     "metadata": {},
     "output_type": "execute_result"
    }
   ],
   "source": [
    "nb = read_nb('../tests/params.ipynb')\n",
    "s.run_all(nb, inject_code=\"a=2\")\n",
    "list(nb.cells)"
   ]
  },
  {
   "cell_type": "markdown",
   "metadata": {},
   "source": [
    "This can be used with `CaptureShell.execute` to parameterise runs of models in notebooks. Place any defaults for configuration code needed in the first cell, and then when running `execute` pass in new parameters as needed in `inject_code`. To replace only some of the defaults, leave an empty cell as the second cell, and inject code using `inject_idx=1` to replace the empty second cell with code that overrides some of the defaults set in the first cell. When using `execute` you can pass `inject_path` instead of `inject_code` to read the injected code from a file."
   ]
  },
  {
   "cell_type": "markdown",
   "metadata": {},
   "source": [
    "## cli -"
   ]
  },
  {
   "cell_type": "code",
   "execution_count": null,
   "metadata": {},
   "outputs": [],
   "source": [
    "#|export\n",
    "@call_parse\n",
    "def exec_nb(\n",
    "    src:str, # Notebook path to read from\n",
    "    dest:str='', # Notebook path to write to\n",
    "    exc_stop:bool=False, # Stop on exceptions?\n",
    "    inject_code:str=None, # Code to inject into a cell\n",
    "    inject_path:str=None, # Path to file containing code to inject into a cell\n",
    "    inject_idx:int=0 # Cell to replace with `inject_code`\n",
    "):\n",
    "    \"Execute notebook from `src` and save with outputs to `dest`\"\n",
    "    CaptureShell().execute(src, dest, exc_stop=exc_stop, inject_code=inject_code,\n",
    "                           inject_path=inject_path, inject_idx=inject_idx)"
   ]
  },
  {
   "cell_type": "markdown",
   "metadata": {},
   "source": [
    "This is the command-line version of `CaptureShell.execute`. Run `exec_nb -h` from the command line to see how to pass arguments. If you don't pass `dest` then the output notebook won't be saved; this is mainly useful for running tests."
   ]
  },
  {
   "cell_type": "markdown",
   "metadata": {},
   "source": [
    "## export -"
   ]
  },
  {
   "cell_type": "code",
   "execution_count": null,
   "metadata": {},
   "outputs": [],
   "source": [
    "#|hide\n",
    "import nbdev; nbdev.nbdev_export()"
   ]
  },
  {
   "cell_type": "code",
   "execution_count": null,
   "metadata": {},
   "outputs": [],
   "source": []
  }
 ],
 "metadata": {
  "kernelspec": {
   "display_name": "python3",
   "language": "python",
   "name": "python3"
  }
 },
 "nbformat": 4,
 "nbformat_minor": 4
}
