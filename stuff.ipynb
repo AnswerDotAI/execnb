{
 "cells": [
  {
   "cell_type": "code",
   "execution_count": null,
   "id": "fd2e4061",
   "metadata": {},
   "outputs": [],
   "source": [
    "#|hide\n",
    "from execnb.core import *"
   ]
  },
  {
   "cell_type": "code",
   "execution_count": null,
   "id": "606d4baa",
   "metadata": {},
   "outputs": [],
   "source": [
    "from nbprocess.read import read_nb\n",
    "from nbprocess.sync import *\n",
    "from execnb import *\n",
    "\n",
    "nb = read_nb('tests/ran.ipynb')"
   ]
  },
  {
   "cell_type": "code",
   "execution_count": null,
   "id": "da244afe",
   "metadata": {},
   "outputs": [],
   "source": [
    "s = CaptureShell()\n",
    "\n",
    "for cell in nb.cells:\n",
    "    if cell.cell_type=='code':\n",
    "        outs = s.run(cell.source)\n",
    "        if outs:\n",
    "            cell.outputs = outs\n",
    "            for o in outs:\n",
    "                if 'execution_count' in o: cell['execution_count'] = o['execution_count']\n",
    "\n",
    "write_nb(nb, 'tests/foo.ipynb')"
   ]
  }
 ],
 "metadata": {
  "kernelspec": {
   "display_name": "Python 3 (ipykernel)",
   "language": "python",
   "name": "python3"
  }
 },
 "nbformat": 4,
 "nbformat_minor": 5
}
