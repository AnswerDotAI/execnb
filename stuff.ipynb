{
 "cells": [
  {
   "cell_type": "code",
   "execution_count": 26,
   "id": "b7553bb0",
   "metadata": {},
   "outputs": [
    {
     "name": "stdout",
     "output_type": "stream",
     "text": [
      "-  1\n",
      "-  2\n",
      "  -  {'data': {'text/markdown': ['<h2 id=\"bool\" class=\"doc_header\"><code>class</code> <code>bool</code><a href=\"\" class=\"source_link\" style=\"float:right\">[source]</a></h2>\\n', '\\n', '> <code>bool</code>() :: `int`\\n', '\\n', 'bool(x) -> bool\\n', '\\n', 'Returns True when the argument x is true, False otherwise.\\n', 'The builtins True and False are the only two instances of the class bool.\\n', 'The class bool is a subclass of the class int, and cannot be subclassed.'], 'text/plain': ['<IPython.core.display.Markdown object>']}, 'metadata': {}, 'output_type': 'display_data'}\n",
      "-  3\n",
      "  -  {'name': 'stdout', 'output_type': 'stream', 'text': ['1\\n']}\n",
      "  -  {'data': {'text/plain': ['2']}, 'execution_count': 3, 'metadata': {}, 'output_type': 'execute_result'}\n",
      "-  1\n",
      "  -  {'name': 'stderr', 'output_type': 'stream', 'text': ['/tmp/ipykernel_5695/719826428.py:2: UserWarning: uhoh\\n', \"  warn('uhoh')\\n\"]}\n",
      "-  2\n",
      "  -  {'ename': 'Exception', 'evalue': '', 'output_type': 'error', 'traceback': ['\\x1b[0;31m---------------------------------------------------------------------------\\x1b[0m', '\\x1b[0;31mException\\x1b[0m                                 Traceback (most recent call last)', 'Input \\x1b[0;32mIn [2]\\x1b[0m, in \\x1b[0;36m<cell line: 1>\\x1b[0;34m()\\x1b[0m\\n\\x1b[0;32m----> 1\\x1b[0m \\x1b[38;5;28;01mraise\\x1b[39;00m \\x1b[38;5;167;01mException\\x1b[39;00m\\n', '\\x1b[0;31mException\\x1b[0m: ']}\n"
     ]
    }
   ],
   "source": [
    "nb = read_nb('test.ipynb')\n",
    "\n",
    "for cell in nb.cells:\n",
    "    print('- ', cell.execution_count)\n",
    "    for outp in cell.outputs: print('  - ', outp)"
   ]
  },
  {
   "cell_type": "code",
   "execution_count": null,
   "id": "83f91963",
   "metadata": {},
   "outputs": [],
   "source": [
    "nb = read_nb('test-clean.ipynb')"
   ]
  },
  {
   "cell_type": "code",
   "execution_count": 27,
   "id": "b5dda8c9",
   "metadata": {},
   "outputs": [
    {
     "name": "stdout",
     "output_type": "stream",
     "text": [
      "-  None\n",
      "-  None\n",
      "-  None\n",
      "-  None\n"
     ]
    }
   ],
   "source": [
    "for cell in nb.cells:\n",
    "    print('- ', cell.execution_count)\n",
    "    for outp in cell.outputs: print('  - ', outp)"
   ]
  },
  {
   "cell_type": "code",
   "execution_count": null,
   "id": "bf9d7ea7",
   "metadata": {},
   "outputs": [],
   "source": []
  }
 ],
 "metadata": {
  "kernelspec": {
   "display_name": "Python 3 (ipykernel)",
   "language": "python",
   "name": "python3"
  },
  "language_info": {
   "codemirror_mode": {
    "name": "ipython",
    "version": 3
   },
   "file_extension": ".py",
   "mimetype": "text/x-python",
   "name": "python",
   "nbconvert_exporter": "python",
   "pygments_lexer": "ipython3",
   "version": "3.9.10"
  },
  "toc": {
   "base_numbering": 1,
   "nav_menu": {},
   "number_sections": false,
   "sideBar": true,
   "skip_h1_title": false,
   "title_cell": "Table of Contents",
   "title_sidebar": "Contents",
   "toc_cell": false,
   "toc_position": {},
   "toc_section_display": true,
   "toc_window_display": false
  }
 },
 "nbformat": 4,
 "nbformat_minor": 5
}
